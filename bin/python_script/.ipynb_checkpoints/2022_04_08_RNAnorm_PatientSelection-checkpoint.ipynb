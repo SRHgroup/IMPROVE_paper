{
 "cells": [
  {
   "cell_type": "code",
   "execution_count": null,
   "id": "954211bd-25ef-4195-8419-3b10755773b1",
   "metadata": {},
   "outputs": [],
   "source": [
    "import random\n",
    "import os, sys\n",
    "import seaborn as sns\n",
    "import pandas as pd\n",
    "import matplotlib.pyplot as plt\n",
    "import numpy as np\n",
    "import itertools\n",
    "import scipy\n",
    "import matplotlib as mpl\n",
    "import importlib\n",
    "import pickle\n",
    "from past.utils import old_div\n",
    "import random\n",
    "\n",
    "import sklearn\n",
    "\n",
    "import time\n",
    "import datetime \n",
    "\n",
    "from sklearn.ensemble import RandomForestClassifier\n",
    "from sklearn.linear_model import LogisticRegression\n",
    "from sklearn.neural_network import MLPClassifier\n",
    "\n",
    "from sklearn.decomposition import PCA\n",
    "\n",
    "sys.path.append(os.path.join('.','modules'))\n",
    "\n",
    "import partitionTools\n",
    "import rankEpiTools\n",
    "import dfTools\n",
    "import overlapTools\n",
    "import PlottingTools\n",
    "import modelTrainEval\n",
    "import pickleTools\n",
    "import NNanalysis"
   ]
  },
  {
   "cell_type": "markdown",
   "id": "307d1d51-d806-46eb-bbd5-6cc21cdcba1e",
   "metadata": {},
   "source": [
    "### Display Parameters"
   ]
  },
  {
   "cell_type": "code",
   "execution_count": null,
   "id": "c46061b6-1fc0-4e7f-b920-561d050d816c",
   "metadata": {},
   "outputs": [],
   "source": [
    "pd.set_option(\"display.max_columns\",999)\n",
    "pd.set_option(\"display.max_rows\",None)\n",
    "#sns.set_theme(style=\"darkgrid\")\n",
    "plt.style.use('seaborn')\n",
    "\n",
    "#mpl.rcParams.keys()\n",
    "sns.set_context(context='talk',rc={\"lines.linewidth\": 2,})\n",
    "plt.rcParams.update({'font.size':22})\n",
    "plt.rcParams.update({'font.size':22})\n",
    "plt.rc('xtick', labelsize=22)\n",
    "plt.rc('ytick', labelsize=22)\n",
    "plt.rc('axes', labelsize=22)\n",
    "\n",
    "mpl.rcParams['savefig.bbox'] = 'tight'\n",
    "pal = sns.color_palette()\n",
    "\n",
    "pacColors = ['#0b2491','#cad54b','#9ad9e7','#00cfb6']\n",
    "sns.set_palette(pacColors)\n",
    "sns.color_palette()"
   ]
  },
  {
   "cell_type": "markdown",
   "id": "0dae8452-c676-4e03-9ff4-3fe1bdffd85b",
   "metadata": {},
   "source": [
    "### Directories"
   ]
  },
  {
   "cell_type": "code",
   "execution_count": null,
   "id": "afa5976f-0852-4c2f-b305-15fdfcb60a32",
   "metadata": {},
   "outputs": [],
   "source": [
    "homeDir = '../..'\n",
    "#figDir = os.path.join(homeDir,'fig','2022_04_08_RNAnorm_PatientSelection')\n",
    "\n",
    "figDir = os.path.join(homeDir,'..','..','Presentations','2022_04_19_RNAnorm_PatientSelection','fig')\n",
    "\n",
    "\n",
    "datDir = os.path.join(homeDir,'data')\n",
    "datDir_birkir = os.path.join(datDir,'birkir_data')\n",
    "\n",
    "figDir"
   ]
  },
  {
   "cell_type": "markdown",
   "id": "66947598-476d-48e0-a73d-287b5fda78de",
   "metadata": {},
   "source": [
    "### Read in Master dataframe"
   ]
  },
  {
   "cell_type": "code",
   "execution_count": null,
   "id": "9fa61162-0420-4fb6-857b-f8acf10139d3",
   "metadata": {},
   "outputs": [],
   "source": [
    "dfMaster = pd.read_csv(os.path.join(datDir_birkir,'dfFeatureMerge_Master.tsv'),sep='\\t')\n",
    "dfMaster['Dataset'] = dfMaster['Patient'].apply(lambda pat:pat.split('-')[0])\n",
    "dfMaster['Sample'] = dfMaster['Patient'].apply(lambda pat:int(pat.split('-')[1]))\n",
    "dfMaster['Patient'] = dfMaster.apply(lambda row: \"{}-{}\".format(row['Dataset'],int(row['Sample'])),axis=1)\n",
    "dfMaster = dfMaster[dfMaster['Dataset']!='Tesla']\n",
    "\n",
    "dfMaster.groupby('Dataset').apply(len)"
   ]
  },
  {
   "cell_type": "markdown",
   "id": "c5aca343-14cb-4cb9-ac1f-38051799da16",
   "metadata": {},
   "source": [
    "## Number of Positives"
   ]
  },
  {
   "cell_type": "code",
   "execution_count": null,
   "id": "01e9efdf-44dd-439d-9788-bf9abc40330b",
   "metadata": {},
   "outputs": [],
   "source": [
    "dfMaster['Target'].sum()"
   ]
  },
  {
   "cell_type": "markdown",
   "id": "88cbf14e-3157-4840-858f-63734c94fbb0",
   "metadata": {},
   "source": [
    "## Number of Patients"
   ]
  },
  {
   "cell_type": "code",
   "execution_count": null,
   "id": "a9c15a6f-8d2d-479d-87bd-80d1a7e58271",
   "metadata": {},
   "outputs": [],
   "source": [
    "len(dfMaster.groupby('Patient'))"
   ]
  },
  {
   "cell_type": "markdown",
   "id": "8a204a3d-694e-4e86-9afc-9c0d45c8f27f",
   "metadata": {},
   "source": [
    "### RNA TPM logtransform"
   ]
  },
  {
   "cell_type": "code",
   "execution_count": null,
   "id": "64e410e9-de2f-4aed-b195-6b3b551b00ae",
   "metadata": {},
   "outputs": [],
   "source": [
    "def rnaLogTrans(tpm,minVal = 1.0,maxVal=1500):\n",
    "    #Apply normalization function as defined by Morten in some early publication \n",
    "    #- find that publication\n",
    "    if tpm > maxVal:\n",
    "        return 1.0\n",
    "    elif tpm <= minVal:\n",
    "        return 0.0#np.log10(minVal)\n",
    "    else:\n",
    "        return old_div(np.log10(tpm),np.log10(maxVal))#+np.log10(minVal)\n",
    "    \n",
    "\n",
    "dfMaster.sort_values('Gl',ascending=False)[['PeptMut','Gp','Gl','Core','CoreNonAnchor']].head()\n",
    "\n",
    "dfMaster['ExprTrans'] = dfMaster['Expr'].apply(lambda tpm:rnaLogTrans(tpm,minVal=0.01))\n",
    "dfMaster['ExprTrans'] = (dfMaster['ExprTrans']+abs(dfMaster['ExprTrans'].min()))/dfMaster['ExprTrans'].max()\n",
    "dfMaster['ExprTrans'] = (dfMaster['ExprTrans'])/dfMaster['ExprTrans'].max()\n",
    "\n",
    "dfMaster['Expr/EL_41'] = dfMaster['ExprTrans']/dfMaster['%Rank_EL_mut']"
   ]
  },
  {
   "cell_type": "code",
   "execution_count": null,
   "id": "4477890e-eed4-4f81-91ca-12a1205ab5f4",
   "metadata": {},
   "outputs": [],
   "source": [
    "featureDict = {'%Rank_EL_mut':True,'%Rank_BA_mut':True,\n",
    "               'Agrotopicity':True,'%Rank_PRIME':True,\n",
    "               '%Rank_Stab':True,'ExprTrans':False, \n",
    "               'Expr/EL_41':False,#'MeanHelix':False,,'MeanHydroph':False,\n",
    "               'Prop_Tiny':False,'Prop_Small':False,\n",
    "               'Prop_Aliphatic':False,'Prop_Aromatic':False,\n",
    "               'Prop_Non-polar':False,'Prop_Polar':False,\n",
    "               'Prop_Charged':False,'Prop_Basic':False,\n",
    "               'Prop_Acidic':False,'Prop_Hydrophobic':False\n",
    "              }"
   ]
  },
  {
   "cell_type": "markdown",
   "id": "9f4958e0-a1d3-4814-901a-35947cbd682d",
   "metadata": {},
   "source": [
    "# RNAseq Household gene normalization"
   ]
  },
  {
   "cell_type": "markdown",
   "id": "2f2d1663-497e-4058-b4e2-ddd2b818f400",
   "metadata": {},
   "source": [
    "### !!!!! Define Local directory with Big RNAseq file !!!!!"
   ]
  },
  {
   "cell_type": "code",
   "execution_count": null,
   "id": "e9deb1ab-6630-4272-b78d-b910b58e1644",
   "metadata": {},
   "outputs": [],
   "source": [
    "datDir_rna = os.path.join(homeDir,'..','dat','2022_03_16_DatFromAnnie')"
   ]
  },
  {
   "cell_type": "code",
   "execution_count": null,
   "id": "dbe99f4a-004b-4890-93d4-61c894967ffe",
   "metadata": {},
   "outputs": [],
   "source": [
    "dfRNA = pd.read_csv(os.path.join(datDir_rna,'RNA_all_data.txt'),sep=' ')\n",
    "dfRNA = dfRNA[dfRNA['mean_exp']!='mean_exp']\n",
    "dfRNA['mean_exp'] = dfRNA['mean_exp'].apply(float)\n",
    "dfRNA.head()"
   ]
  },
  {
   "cell_type": "code",
   "execution_count": null,
   "id": "2727848a-35d5-48a8-909a-5833b9d72fae",
   "metadata": {},
   "outputs": [],
   "source": [
    "def addDScol(sample):\n",
    "    if 'MM909' in sample:\n",
    "        return 'Neye'\n",
    "    if 'PATIEN' in sample:\n",
    "        return 'RH'\n",
    "    else:\n",
    "        return 'BC'\n",
    "\n",
    "def procSampleCol(sample):\n",
    "    sample = sample.replace('MM909_','')\n",
    "    sample = sample.replace('PATIEN','')\n",
    "    sample = sample.replace('A','')\n",
    "    sample = sample.replace('B','')\n",
    "    sample = sample.split('_')[0]\n",
    "    sample = int(sample)\n",
    "    return sample\n",
    "\n",
    "def getHouseKeepingRNA(df,houseKeepingGenes=[]):\n",
    "    df = df.rename(columns={'hugo_symbol':'Gene','mean_exp':'Exp'})\n",
    "    if houseKeepingGenes:\n",
    "        dfFilt = df[df['Gene'].apply(lambda gene: gene in houseKeepingGenes)]\n",
    "    else:\n",
    "        dfFilt = df\n",
    "    dfFilt.loc[:,'Exp'] = dfFilt['Exp'].apply(lambda exp: round(float(exp),2))\n",
    "    dfFilt.loc[:,'Sample'] = dfFilt['Sample'].apply(str)\n",
    "    dfFilt.loc[:,'Dataset'] = dfFilt['Sample'].apply(addDScol)\n",
    "    dfFilt.loc[:,'Sample'] = dfFilt['Sample'].apply(procSampleCol)\n",
    "    dfFilt.loc[:,'Patient'] = dfFilt.apply(lambda row: \"{}-{}\".format(row['Dataset'],row['Sample']),axis=1)\n",
    "    dfFilt = dfFilt.groupby(['Dataset','Sample','Gene','Patient'])['Exp'].agg(np.median).reset_index()\n",
    "    return dfFilt\n"
   ]
  },
  {
   "cell_type": "markdown",
   "id": "bafaa517-3f93-4df2-a7c0-986d14a96d57",
   "metadata": {},
   "source": [
    "### Gen CYT scores from RNA"
   ]
  },
  {
   "cell_type": "code",
   "execution_count": null,
   "id": "645841a1-8711-4f86-9ee5-1d8d37c08fdd",
   "metadata": {
    "tags": []
   },
   "outputs": [],
   "source": [
    "def geo_mean_overflow(iterable):\n",
    "    return np.exp(np.log(iterable).mean())\n",
    "\n",
    "\n",
    "dfRNAfilt_cyt = getHouseKeepingRNA(dfRNA,houseKeepingGenes=['GZMA','PRF1'])\n",
    "dfRNAfilt_cyt_pivot = dfRNAfilt_cyt[['Gene','Patient','Exp']].pivot(index='Gene',columns='Patient',values='Exp')\n",
    "dfRNAfilt_cyt_pivot = dfRNAfilt_cyt_pivot.T.reset_index()\n",
    "\n",
    "dfRNAfilt_cyt_pivot['CYT'] = dfRNAfilt_cyt_pivot.apply(lambda row: geo_mean_overflow([row['GZMA'],row['PRF1']]),axis=1)\n",
    "\n",
    "dfRespCount = dfMaster.groupby(['Dataset','Sample','Patient'])['Target'].apply(sum).reset_index().rename(columns={'Target':'Detected'})\n",
    "dfRespCount = dfRespCount.merge(dfRNAfilt_cyt_pivot,on='Patient')\n",
    "print(len(dfRespCount))\n",
    "#dfRespCountDTU"
   ]
  },
  {
   "cell_type": "code",
   "execution_count": null,
   "id": "89f7b291-7505-43ca-8aa7-dd4e21854513",
   "metadata": {},
   "outputs": [],
   "source": [
    "PlottingTools.scatterCorr(dfRespCount[dfRespCount['CYT']<10000],'CYT','Detected',hue='Dataset',corrAnnot=(40,15),show=False,corrAnnot_spearman=True)\n",
    "plt.savefig(os.path.join(figDir,'scatterCorr_Total.png'),dpi=600)\n",
    "plt.show()"
   ]
  },
  {
   "cell_type": "code",
   "execution_count": null,
   "id": "4dd2b742-5268-4233-a633-67e9555ae4ed",
   "metadata": {},
   "outputs": [],
   "source": [
    "importlib.reload(PlottingTools)\n",
    "\n",
    "for dataset, dfG in dfRespCount.groupby('Dataset'):\n",
    "    PlottingTools.scatterCorr(dfG[dfG['CYT']<10000],'CYT','Detected',corrAnnot=(5,18),show=False,corrAnnot_spearman=True)\n",
    "    plt.title(\"Dataset: {}\".format(dataset))\n",
    "    plt.savefig(os.path.join(figDir,'scatterCorr_{}.png'.format(dataset)),dpi=600)\n",
    "    plt.show()"
   ]
  },
  {
   "cell_type": "code",
   "execution_count": null,
   "id": "95405246-637f-4edc-b506-da8cdba0c56a",
   "metadata": {},
   "outputs": [],
   "source": [
    "dfRespCount['logCYT'] = dfRespCount['CYT'].apply(np.log)\n",
    "sns.kdeplot(data=dfRespCount,x='logCYT',hue='Dataset')"
   ]
  },
  {
   "cell_type": "markdown",
   "id": "ccbac79e-abf2-43e8-a9a4-e4a34a07fcdf",
   "metadata": {},
   "source": [
    "### Investigate batch effects - All Genes"
   ]
  },
  {
   "cell_type": "code",
   "execution_count": null,
   "id": "84cdfb8c-8770-4002-b81c-4fe7267bc466",
   "metadata": {},
   "outputs": [],
   "source": [
    "dfRNAfilt_all = getHouseKeepingRNA(dfRNA,houseKeepingGenes=[])\n",
    "dfRNAfilt_all_pivot = dfRNAfilt_all[['Gene','Patient','Exp']].pivot(index='Gene',columns='Patient',values='Exp')"
   ]
  },
  {
   "cell_type": "code",
   "execution_count": null,
   "id": "02c4f3b8-43b6-4d41-bf61-a68f89e81578",
   "metadata": {},
   "outputs": [],
   "source": [
    "dfRNAfilt_all_pivot_corr = dfRNAfilt_all_pivot.corr()\n",
    "plt.figure(figsize=(18,12))\n",
    "sns.heatmap(dfRNAfilt_all_pivot_corr)\n",
    "plt.savefig(os.path.join(figDir,'RNAexprCorrHeatmap.png'),dpi=600)\n",
    "plt.show()"
   ]
  },
  {
   "cell_type": "code",
   "execution_count": null,
   "id": "df4b81ae-13dd-45fd-853f-b67229f22310",
   "metadata": {},
   "outputs": [],
   "source": [
    "\n",
    "def getPCAtransDF(df):\n",
    "    X = df.values\n",
    "\n",
    "    pca = PCA(n_components=2)\n",
    "    pca.fit(X)\n",
    "    print(pca.explained_variance_ratio_)\n",
    "\n",
    "    X_trans = pca.fit_transform(X)\n",
    "    X_trans = pd.DataFrame(X_trans,columns=['PCA1','PCA2'])\n",
    "    X_trans['Patient'] = df.index.values\n",
    "    X_trans['Dataset'] = X_trans['Patient'].apply(lambda pat:pat.split('-')[0])\n",
    "    return X_trans\n",
    "\n",
    "X_trans = getPCAtransDF(dfRNAfilt_all_pivot.T)\n",
    "\n",
    "sns.scatterplot(data=X_trans,x='PCA1',y='PCA2',hue='Dataset')\n",
    "plt.savefig(os.path.join(figDir,'PCAscatter.png'),dpi=600)\n",
    "plt.show()"
   ]
  },
  {
   "cell_type": "markdown",
   "id": "ff8916b3-e605-4b97-b9df-c6ee6d3c680a",
   "metadata": {},
   "source": [
    "### Normalize with housekeeping genes"
   ]
  },
  {
   "cell_type": "markdown",
   "id": "9f6579ee-fc80-450e-942a-d1e439dec259",
   "metadata": {},
   "source": [
    "List of Household genes from:\n",
    "https://www.genomics-online.com/resources/16/5049/housekeeping-genes/"
   ]
  },
  {
   "cell_type": "code",
   "execution_count": null,
   "id": "2c6d9c38-8222-4601-8c19-a13663a9e289",
   "metadata": {},
   "outputs": [],
   "source": [
    "houseKeepingGenes = ['ACTB','GAPDH','PGK1','PPIA','RPL13A','RPLP0','B2M','YWHAZ','SDHA','TFRC','GUSB','HMBS','HPRT1','TBP']\n",
    "dfRNAfilt_hkg = getHouseKeepingRNA(dfRNA,houseKeepingGenes=houseKeepingGenes)\n",
    "dfRNAfilt_hkg_pivot = dfRNAfilt_hkg[['Gene','Patient','Exp']].pivot(index='Gene',columns='Patient',values='Exp')"
   ]
  },
  {
   "cell_type": "code",
   "execution_count": null,
   "id": "b1c2496b-a61b-4f73-b0f3-526be84cf484",
   "metadata": {},
   "outputs": [],
   "source": [
    "plt.figure(figsize=(24,10))\n",
    "sns.boxplot(data=dfRNAfilt_hkg,x='Patient',y='Exp')\n",
    "plt.ylim(0,6000)\n",
    "plt.xticks(rotation=90)\n",
    "plt.show()"
   ]
  },
  {
   "cell_type": "code",
   "execution_count": null,
   "id": "66ae153b-10ce-45b1-90ee-270cd6022147",
   "metadata": {},
   "outputs": [],
   "source": [
    "def RNAnorm_patient(df,expCol='Exp'):\n",
    "    dfDSgene_patSumExp = df.groupby(['Dataset','Patient'])[expCol].agg(sum).reset_index()\n",
    "    dfDSgene_patSumExp_maxSum = dfDSgene_patSumExp.groupby('Dataset')[expCol].agg(max).reset_index().rename(columns={expCol:'Exp-Max'})\n",
    "    dfDSgene_patSumExp_maxSum  = dfDSgene_patSumExp_maxSum.merge(dfDSgene_patSumExp,on='Dataset')\n",
    "    dfDSgene_patSumExp_maxSum['Pat-Multiplier'] = dfDSgene_patSumExp_maxSum['Exp-Max']/dfDSgene_patSumExp_maxSum[expCol]\n",
    "    df = dfDSgene_patSumExp_maxSum[['Patient','Pat-Multiplier']].merge(df)\n",
    "    df['Exp-Patmult'] = df[expCol]*df['Pat-Multiplier']\n",
    "    return df\n",
    "\n",
    "def RNAnorm_dataset(df,expCol='Exp'):\n",
    "    dfDSgene_medExp = df.groupby(['Dataset','Gene'])[expCol].agg(sum).reset_index()\n",
    "    dfDSgene_medExp_maxGene = dfDSgene_medExp.groupby('Gene')[expCol].agg(max).reset_index().rename(columns={expCol:'Exp-Max'})\n",
    "    dfDSgene_medExp_maxGene = dfDSgene_medExp.merge(dfDSgene_medExp_maxGene,on='Gene')\n",
    "    dfDSgene_medExp_maxGene['DS-Multiplier'] = dfDSgene_medExp_maxGene['Exp-Max']/dfDSgene_medExp_maxGene[expCol]\n",
    "    dfDSmedianMultiplier = dfDSgene_medExp_maxGene.groupby('Dataset')['DS-Multiplier'].agg(np.median).reset_index()\n",
    "    df = df.merge(dfDSmedianMultiplier)\n",
    "    df['Exp-DSmult'] = df[expCol]*df['DS-Multiplier']\n",
    "    return df\n",
    "\n",
    "houseKeepingGenes = ['ACTB','GAPDH','PGK1','PPIA','RPL13A','RPLP0','B2M','YWHAZ','SDHA','TFRC','GUSB','HMBS','HPRT1','TBP']\n",
    "dfRNAfilt_hkg = getHouseKeepingRNA(dfRNA,houseKeepingGenes=houseKeepingGenes)\n",
    "\n",
    "dfRNAfilt_hkg = RNAnorm_patient(dfRNAfilt_hkg)\n",
    "dfRNAfilt_hkg = RNAnorm_dataset(dfRNAfilt_hkg,expCol='Exp-Patmult')\n",
    "\n",
    "dfRNAfilt_hkg['Exp-PatDSnorm'] = dfRNAfilt_hkg['Exp'] * dfRNAfilt_hkg['DS-Multiplier'] * dfRNAfilt_hkg['Pat-Multiplier']"
   ]
  },
  {
   "cell_type": "code",
   "execution_count": null,
   "id": "93454020-d9eb-4a38-b2dc-12bfaf148acf",
   "metadata": {},
   "outputs": [],
   "source": [
    "houseKeepingGenes = ['ACTB','GAPDH','PGK1','PPIA','RPL13A','RPLP0','B2M','YWHAZ','SDHA','TFRC','GUSB','HMBS','HPRT1','TBP']\n",
    "print(len(houseKeepingGenes))"
   ]
  },
  {
   "cell_type": "code",
   "execution_count": null,
   "id": "a4b8c13c-1295-4cbc-aaaa-fc5009c98931",
   "metadata": {},
   "outputs": [],
   "source": [
    "plt.figure(figsize=(24,10))\n",
    "sns.boxplot(data=dfRNAfilt_hkg,x='Patient',y='Exp')\n",
    "plt.ylim(0,6000)\n",
    "plt.xticks(rotation=90)\n",
    "plt.show()"
   ]
  },
  {
   "cell_type": "code",
   "execution_count": null,
   "id": "74ec3005-9478-4fd6-927a-09f87fcb8a35",
   "metadata": {},
   "outputs": [],
   "source": [
    "plt.figure(figsize=(24,10))\n",
    "sns.boxplot(data=dfRNAfilt_hkg,x='Patient',y='Exp-PatDSnorm')\n",
    "plt.ylim(0,6000)\n",
    "plt.xticks(rotation=90)\n",
    "plt.show()"
   ]
  },
  {
   "cell_type": "code",
   "execution_count": null,
   "id": "9f2688bc-10e8-4e9d-ae44-5ef0da9d6b66",
   "metadata": {},
   "outputs": [],
   "source": [
    "dfRNAfilt_hkg_patMed = dfRNAfilt_hkg.groupby('Patient')[['Exp','Exp-PatDSnorm']].agg(np.median).reset_index()\n",
    "dfRNAfilt_hkg_patMed['DS'] = dfRNAfilt_hkg_patMed['Patient'].apply(lambda pat: pat.split('-')[0])\n",
    "dfRNAfilt_hkg_patMed\n",
    "\n",
    "sns.kdeplot(data = dfRNAfilt_hkg_patMed,x= 'Exp',hue='DS')\n",
    "plt.title(\"Median Housekeeping Gene Expression per Patient\")\n",
    "plt.xlabel('Expression[TPM]')\n",
    "plt.savefig(os.path.join(figDir,'householdGeneExpression.png'),dpi=600)\n",
    "plt.show()\n",
    "\n",
    "sns.kdeplot(data = dfRNAfilt_hkg_patMed,x= 'Exp-PatDSnorm',hue='DS')\n",
    "plt.title(\"Median Housekeeping Gene Expression per Patient\")\n",
    "plt.xlabel('Normalized Expression[TPM]')\n",
    "plt.savefig(os.path.join(figDir,'householdGeneExpression_normalized.png'),dpi=600)\n",
    "plt.show()"
   ]
  },
  {
   "cell_type": "markdown",
   "id": "39b8a243-0979-4204-93d2-d0dedaba944f",
   "metadata": {},
   "source": [
    "### Normalize Cyt Score"
   ]
  },
  {
   "cell_type": "code",
   "execution_count": null,
   "id": "0f13efc6-c90a-4762-bdac-12d43a4fcac1",
   "metadata": {},
   "outputs": [],
   "source": [
    "dfRespCount_scale = dfRespCount.merge(dfRNAfilt_hkg[['Patient','Pat-Multiplier','DS-Multiplier']])\n",
    "dfRespCount_scale['CYT-Norm'] = dfRespCount_scale['CYT']*dfRespCount_scale['DS-Multiplier']*dfRespCount_scale['Pat-Multiplier']\n",
    "print(len(dfMaster))\n",
    "dfMaster_cyt = dfMaster.merge(dfRespCount_scale[['Patient','CYT','CYT-Norm']].drop_duplicates(),on='Patient')\n",
    "print(len(dfMaster))"
   ]
  },
  {
   "cell_type": "code",
   "execution_count": null,
   "id": "3aadbb16-382a-4889-bab7-c69a0f391fdd",
   "metadata": {},
   "outputs": [],
   "source": [
    "PlottingTools.scatterCorr(dfRespCount_scale[dfRespCount_scale['CYT-Norm']<10000],x='CYT-Norm',y='Detected',hue='Dataset',corrAnnot=(40,15),show=False,corrAnnot_spearman=True)\n",
    "plt.savefig(os.path.join(figDir,'scatterCorr_Total_normalized.png'),dpi=600)\n",
    "plt.show()"
   ]
  },
  {
   "cell_type": "code",
   "execution_count": null,
   "id": "606fd9b1-7f17-4833-91e6-a90e65f96a97",
   "metadata": {},
   "outputs": [],
   "source": [
    "importlib.reload(PlottingTools)\n",
    "\n",
    "for dataset, dfG in dfRespCount_scale.groupby('Dataset'):\n",
    "    PlottingTools.scatterCorr(dfG[dfG['CYT-Norm']<10000],'CYT-Norm','Detected',corrAnnot=(5,18),show=False,corrAnnot_spearman=True)\n",
    "    plt.title(\"Dataset: {}\".format(dataset))\n",
    "    plt.savefig(os.path.join(figDir,'scatterCorr_Normalized_{}.png'.format(dataset)),dpi=600)\n",
    "    plt.show()"
   ]
  },
  {
   "cell_type": "markdown",
   "id": "1a0dee99-9f14-4621-9689-e6113b47cf3a",
   "metadata": {},
   "source": [
    "# Datset Partitioning"
   ]
  },
  {
   "cell_type": "code",
   "execution_count": null,
   "id": "89a6ae63-70d2-4d09-8698-c9d02d1ba857",
   "metadata": {},
   "outputs": [],
   "source": [
    "import overlapTools\n",
    "def getOverlapHeatmap(df,catCol='Dataset',k=8,peptCol='PeptMut'):\n",
    "    categories = df[catCol].unique()\n",
    "    numCat= len(categories)\n",
    "    overlapMat = np.zeros((numCat,numCat))\n",
    "    overlapMatRel = np.zeros((numCat,numCat))    \n",
    "    for i,cat1 in enumerate(categories):\n",
    "        for j,cat2 in enumerate(categories):\n",
    "            df1 = df[df[catCol]==cat1]\n",
    "            df2 = df[df[catCol]==cat2]\n",
    "            refSet = overlapTools.makeRefset(df2[peptCol].values,k=k)\n",
    "            df1_overlap = overlapTools.findOverlap(df1,refSet,peptCol=peptCol,k=k)\n",
    "            overlapMat[i,j] = len(df1_overlap)\n",
    "            overlapMatRel[i,j] = len(df1_overlap)/len(df1)\n",
    "    return categories,overlapMat,overlapMatRel"
   ]
  },
  {
   "cell_type": "markdown",
   "id": "a2dccc4c-67c2-417f-a2ca-ddbbe5b21ad4",
   "metadata": {},
   "source": [
    "### There is overlap in peptides across datasets"
   ]
  },
  {
   "cell_type": "code",
   "execution_count": null,
   "id": "8d49ad25-77b2-4e30-8708-055992625459",
   "metadata": {},
   "outputs": [],
   "source": [
    "categories,overlapMat,overlapMatRel = getOverlapHeatmap(dfMaster_cyt,catCol='Dataset')"
   ]
  },
  {
   "cell_type": "code",
   "execution_count": null,
   "id": "a58946c8-967d-424b-9462-1841266db3ef",
   "metadata": {},
   "outputs": [],
   "source": [
    "overlapMatDF = pd.DataFrame(overlapMat,columns=categories,index=categories)\n",
    "sns.heatmap(overlapMatDF,annot=True, annot_kws={\"size\": 24},fmt=\".0f\")\n",
    "plt.title(\"k-mer Overlap: All Peptides\")\n",
    "plt.savefig(os.path.join(figDir,'kmerOverlap_all.png'),dpi=600)\n",
    "plt.show()"
   ]
  },
  {
   "cell_type": "markdown",
   "id": "abfe4c14-7479-4cdb-987d-984e3ce45ace",
   "metadata": {},
   "source": [
    "### However, there is not overlap in terms of Positives"
   ]
  },
  {
   "cell_type": "code",
   "execution_count": null,
   "id": "e378a2d3-1c6e-42db-81bc-b2231b6816ba",
   "metadata": {},
   "outputs": [],
   "source": [
    "categories,overlapMatPos,overlapMatRelPos = getOverlapHeatmap(dfMaster_cyt[dfMaster_cyt['Target']==1.0],catCol='Dataset')"
   ]
  },
  {
   "cell_type": "code",
   "execution_count": null,
   "id": "9ed9e173-11c5-43ac-8e1d-d5783740d791",
   "metadata": {},
   "outputs": [],
   "source": [
    "overlapMatDFPos = pd.DataFrame(overlapMatPos,columns=categories,index=categories)\n",
    "sns.heatmap(overlapMatDFPos,annot=True, annot_kws={\"size\": 24},fmt=\".0f\")\n",
    "plt.title(\"k-mer Overlap: Positive peptides\")\n",
    "plt.savefig(os.path.join(figDir,'kmerOverlap_pos.png'),dpi=600)\n",
    "plt.show()"
   ]
  },
  {
   "cell_type": "code",
   "execution_count": null,
   "id": "b321c9d2-db42-42de-afac-2260e8fb637e",
   "metadata": {},
   "outputs": [],
   "source": [
    "categories,overlapMatPatPos,overlapMatRelPatPos = getOverlapHeatmap(dfMaster_cyt[dfMaster_cyt['Target']==1.0],catCol='Patient')"
   ]
  },
  {
   "cell_type": "code",
   "execution_count": null,
   "id": "8029e7a0-8057-4621-a4db-425fac2ab756",
   "metadata": {},
   "outputs": [],
   "source": [
    "diagSum = np.diagonal(overlapMatPatPos).sum()\n",
    "totalSum = overlapMatDFPos.values.sum()\n",
    "print(\"Number of positives: {}\".format(totalSum))\n",
    "print(\"Sum of diagonal of overlap matrix in a patient wise comparison of positives: {}\".format(diagSum))\n",
    "print(\"Conclusion, there is no overlap of positives. So clustering partitions by patients is mostly justified\")"
   ]
  },
  {
   "cell_type": "code",
   "execution_count": null,
   "id": "b4698e80-6307-4d6c-b94a-b96c3faf2bfb",
   "metadata": {},
   "outputs": [],
   "source": [
    "dfRespCount_scale.head()"
   ]
  },
  {
   "cell_type": "markdown",
   "id": "f06443ac-bbde-497a-934f-3bf40377939d",
   "metadata": {},
   "source": [
    "### Partitioning Datasets"
   ]
  },
  {
   "cell_type": "code",
   "execution_count": null,
   "id": "e831b869-4f67-40d0-a139-d70c596fce46",
   "metadata": {},
   "outputs": [],
   "source": [
    "def genRandomGroupPartitions(df,groupCol='Patient',fold=5):\n",
    "    df = df.copy(deep=True)\n",
    "    groups = df[groupCol].unique()\n",
    "    numGroup = len(groups)\n",
    "    groups = sorted(groups)\n",
    "    random.seed(42)\n",
    "    partitions = random.choices(range(fold),k=numGroup)\n",
    "    groupPartitionMapper = dict(zip(groups,partitions))\n",
    "    df['Partition'] = df[groupCol].map(groupPartitionMapper)\n",
    "    return df\n",
    "\n",
    "def motifPatientClusterPositivesAddNegatives(df,fold = 5,targetCol='Target',peptCol='PeptMut',patientCol='Patient'):\n",
    "    # Cluster positives by common motifs and patients\n",
    "    dfPos = df[df[targetCol]==1.0]\n",
    "    dfNeg = df[df[targetCol]==0.0]\n",
    "    testIDXs,trainIDXs,df_pos = partitionTools.commonMotifPartitionWrapper_Prot(dfPos,fold=fold,k=8,peptCol=peptCol,protCol=patientCol,addPartCol=True)\n",
    "\n",
    "    # Assign partition and add negative peptides to corresponding positives\n",
    "    print(len(df))\n",
    "    dfList = []\n",
    "    posPats = []\n",
    "    for (partition,patient),dfG in dfPos.groupby(['Partition',patientCol]):\n",
    "        dfNegPat = dfNeg[dfNeg[patientCol]==patient].copy(deep=True)\n",
    "        dfNegPat['Partition'] = partition\n",
    "        dfList.append(dfNegPat)\n",
    "        posPats.append(patient)\n",
    "    dfOut = pd.concat([pd.concat(dfList),dfPos])\n",
    "\n",
    "    print(len(df))\n",
    "    # Randomly assign cluster to patients with no positive peptide data\n",
    "    dfNegNoPos = dfNeg[dfNeg[patientCol].apply(lambda pat: not pat in posPats)]\n",
    "    dfNegNoPos = genRandomGroupPartitions(dfNegNoPos,fold=fold)\n",
    "\n",
    "    return pd.concat([dfOut,dfNegNoPos])\n",
    "\n",
    "dfMaster_motifPatPartitions = motifPatientClusterPositivesAddNegatives(dfMaster_cyt)\n",
    "\n",
    "print(len(dfMaster_motifPatPartitions))\n",
    "dfMaster_motifPatPartitions.groupby(['Partition','Dataset']).apply(len).reset_index()"
   ]
  },
  {
   "cell_type": "code",
   "execution_count": null,
   "id": "e66c03af-9da0-4245-9c71-8a9b336efe14",
   "metadata": {},
   "outputs": [],
   "source": [
    "dfMaster_motifPatPartitions.to_csv(os.path.join(datDir_birkir,'dfMaster_PatientPartitioned.txt'),sep='\\t')"
   ]
  },
  {
   "cell_type": "markdown",
   "id": "b3b246e0-78a0-4486-b446-b78610430c32",
   "metadata": {},
   "source": [
    "# Patient Selection Training"
   ]
  },
  {
   "cell_type": "code",
   "execution_count": null,
   "id": "012b83ac-84a0-4ea4-bf51-a015c90b1f6f",
   "metadata": {
    "tags": []
   },
   "outputs": [],
   "source": [
    "def plotLineplotCompare(df1,df2,figPath=False,x='CYT-Threshold',labels = ['','']):\n",
    "    sns.lineplot(data=df1, x=x,y='AUC0.1',linewidth=4,label = labels[0])\n",
    "    sns.lineplot(data=df2, x=x,y='AUC0.1',linewidth=4,label = labels[1])\n",
    "    plt.legend()\n",
    "    if figPath:\n",
    "        plt.savefig(figPath.format('AUC0_1'),dpi=600)\n",
    "    plt.show()\n",
    "\n",
    "    sns.lineplot(data=df1, x=x,y='Epitope Yield%',linewidth=4,label = labels[0])\n",
    "    sns.lineplot(data=df2, x=x,y='Epitope Yield%',linewidth=4,label = labels[1])\n",
    "    plt.legend()\n",
    "    if figPath:\n",
    "        plt.savefig(figPath.format('EpitopeYield'),dpi=600)\n",
    "\n",
    "    plt.show()\n",
    "\n",
    "    sns.lineplot(data=df1, x=x,y='Patient Hit%',linewidth=4,label = labels[0])\n",
    "    sns.lineplot(data=df2, x=x,y='Patient Hit%',linewidth=4,label = labels[1])\n",
    "    plt.legend()\n",
    "    if figPath:\n",
    "        plt.savefig(figPath.format('PatientYields'),dpi=600)\n",
    "    plt.show()\n",
    "\n",
    "def geo_mean_overflow(iterable):\n",
    "    return np.exp(np.log(iterable).mean())\n",
    "\n",
    "def filterCYTpatients(df,filterCol ='CYT',quant = 0.25):\n",
    "    df = df.copy(deep=True)\n",
    "    #cytThresh = df[filterCol].quantile(quant)\n",
    "    cytThresh = np.quantile(df[filterCol].unique(),quant)\n",
    "    df = df[df[filterCol].apply(lambda cyt: cyt >= cytThresh)]\n",
    "    return df\n",
    "\n",
    "def filterCYTpatientsNotWork(df,filterCol ='CYT',quant = 0.25):\n",
    "    df = df.copy(deep=True)\n",
    "    dfList = []\n",
    "    for dataset, dfG in df.groupby('Dataset'):\n",
    "    #cytThresh = df[filterCol].quantile(quant)\n",
    "        cytThresh = np.quantile(dfG[filterCol].unique(),quant)\n",
    "        dfGG = dfG[dfG[filterCol].apply(lambda cyt: cyt >= cytThresh)]\n",
    "        dfList.append(dfGG)\n",
    "        \n",
    "    return pd.concat(dfList)\n",
    "\n",
    "\n",
    "def filterPeptideOutliers(df,outCol='classPred',quant = 0.25):\n",
    "    df = df.copy(deep=True)\n",
    "    lowQuant,highQuant=quant,1-quant\n",
    "    lowThresh = df[outCol].quantile(lowQuant)\n",
    "    highThresh = df[outCol].quantile(highQuant)\n",
    "    \n",
    "    df = df[df.apply(lambda row:not (row['Target']==1.0 and row[outCol]<lowThresh) ,axis=1)]\n",
    "    df = df[df.apply(lambda row:not (row['Target']==0.0 and row[outCol]>highThresh) ,axis=1)]\n",
    "    return df\n",
    "\n",
    "\n",
    "def filterPatientOutliers(df,goodPatientFilter=0.25):\n",
    "    df = df.copy(deep=True)\n",
    "    goodPatientFilter = 1.0 - goodPatientFilter\n",
    "    #Remove Patients with no hits in training data\n",
    "    dfResponse = df.groupby('Patient')['Target'].apply(sum).reset_index()\n",
    "    posPatients = dfResponse[dfResponse['Target']>0]['Patient'].values\n",
    "    df = df[df['Patient'].apply(lambda pat: pat in posPatients)]\n",
    "    #Rank peptides per patient based on prediction\n",
    "    df = rankEpiTools.rankByFeaturePerPatient(df,feature='classPred',ascending=False,groupCol='Patient')\n",
    "    #Generate Master Dataframe with Peptcount, TargetCount, and Mean and Geom-MEan indexing\n",
    "    dfCount = dfTools.groupCount(df,groupCol='Patient')\n",
    "    \n",
    "    dfResponse = df.groupby('Patient')['Target'].apply(sum).reset_index()\n",
    "    dfPos = df[df['Target']==1.0]\n",
    "    dfTargetIDX = dfPos.groupby('Patient').apply(lambda dfG: dfG['classPred_idx'].unique()).reset_index().rename(columns={0:'Pos-IDX'})\n",
    "    dfMeanIDX = dfPos.groupby('Patient')['classPred_idx'].apply(np.mean).reset_index().rename(columns={'classPred_idx':'Mean-IDX'})\n",
    "    dfGMeanIDX = dfPos.groupby('Patient')['classPred_idx'].apply(geo_mean_overflow).reset_index().rename(columns={'classPred_idx':'GMean-IDX'})\n",
    "    \n",
    "    dfTrainStat = dfCount.merge(dfResponse,on='Patient',how='left').merge(dfMeanIDX,on='Patient',how='left').merge(dfGMeanIDX,on='Patient',how='left').merge(dfTargetIDX,on='Patient',how='left')#.merge(dfAUC,on='Patient',how='left')\n",
    "    dfTrainStat['Rel-GMean-IDX'] = dfTrainStat['GMean-IDX']/dfTrainStat['Count']\n",
    "    dfTrainStat = dfTrainStat.sort_values('Rel-GMean-IDX')\n",
    "    \n",
    "    badPatients = dfTrainStat[dfTrainStat['Rel-GMean-IDX']>goodPatientFilter]['Patient'].values\n",
    "    \n",
    "    df = df[df['Patient'].apply(lambda pat: not pat in badPatients and pat in posPatients)]\n",
    "    \n",
    "    return df\n",
    "\n",
    "\n",
    "def TrainingPatientFilter(dfTrain,dfTest,features,targCol='Target',outCol='classPred',modelType='NN',filterCol='CYT',colFilter=0,quantFilter=0.0,patientFilter=0.0,**modelKW):\n",
    "    #dfTest, dfTrain = rankEpiTools.getTestTrain_rescaledIDX(df,i,featureDict,rescale=False)\n",
    "    #dfTrain = dfTrain[dfTrain[filterCol]>=colFilter]\n",
    "    \n",
    "    dfTrain = filterCYTpatients(dfTrain,filterCol=filterCol,quant = colFilter)\n",
    "    \n",
    "    model = modelTrainEval.getSKlearnModel(modelType,**modelKW)\n",
    "    model = modelTrainEval.trainSKlearnModel(model,dfTrain,features,targCol)\n",
    "    \n",
    "    if patientFilter>0.0 or quantFilter>0.0:\n",
    "        dfTrainEval = modelTrainEval.evalSKlearnModel(dfTrain,features,model,outCol=outCol)\n",
    "        dfTrainEval = filterPeptideOutliers(dfTrainEval,quant = quantFilter)\n",
    "\n",
    "        dfTrainEval = modelTrainEval.evalSKlearnModel(dfTrainEval,features,model,outCol=outCol)\n",
    "        dfTrainEval = filterPatientOutliers(dfTrainEval,goodPatientFilter=patientFilter)\n",
    "        #print(len(dfTrain))\n",
    "        #print(len(dfTrainEval))        \n",
    "        \n",
    "        model = modelTrainEval.getSKlearnModel(modelType,**modelKW)\n",
    "        model = modelTrainEval.trainSKlearnModel(model,dfTrainEval,features,targCol)\n",
    "            \n",
    "    dfOut = modelTrainEval.evalSKlearnModel(dfTest,features,model,outCol=outCol)\n",
    "    \n",
    "    return dfOut,model\n",
    "\n",
    "def applyMeanPred(df,groupCols=['Patient','HLA','PeptMut','Target'],predCol='classPred',outCol='meanPred',multiCol='Seed'):\n",
    "    df = df.copy(deep=True)\n",
    "    meanPred = df.groupby(groupCols).apply(lambda dfG: dfG[predCol].mean()).reset_index().rename(columns={0:outCol})\n",
    "    df = df.merge(meanPred)\n",
    "    \n",
    "    dfMean = df.drop_duplicates(groupCols)\n",
    "    #dfMean = df[df[multiCol]==0]\n",
    "    #print(dfMean.head())\n",
    "    #sys.exit()\n",
    "    return dfMean\n",
    "\n",
    "\n",
    "def TrainingPatientFilter_CV(df,features,targCol='Target',folds=5,outCol='classPred',modelType='NN',filterCol='CYT',colFilter=0,quantFilter=0.0,patientFilter=0.0,**modelKW):\n",
    "    modelDict = {'models':[]}\n",
    "    dfList = []\n",
    "    for fold in range(folds):\n",
    "        if True:\n",
    "            dfTest, dfTrain = rankEpiTools.getTestTrain(df,fold)\n",
    "            if len(dfTest)==0:#Skip empty fold in inner loop of nested cross validation\n",
    "                continue\n",
    "            dfOut,model = TrainingPatientFilter(dfTrain,dfTest,features,targCol=targCol,outCol=outCol,modelType=modelType,colFilter=colFilter,filterCol=filterCol,quantFilter=quantFilter,patientFilter=patientFilter,**modelKW)\n",
    "        else:\n",
    "            dfList2 = []\n",
    "            for i in range(10):\n",
    "                #print(i)\n",
    "                dfTest, dfTrain = rankEpiTools.getTestTrain(df,fold)\n",
    "                dfTrain_pos = dfTrain[dfTrain['Target']==1.0]\n",
    "                dfTrain_neg = dfTrain[dfTrain['Target']==0.0].sample(n=len(dfTrain_pos),random_state=i)\n",
    "                dfTrain = pd.concat([dfTrain_pos,dfTrain_neg])\n",
    "                if len(dfTest)==0:#Skip empty fold in inner loop of nested cross validation\n",
    "                    continue\n",
    "                dfOut,model = TrainingPatientFilter(dfTrain,dfTest,features,targCol=targCol,outCol=outCol,modelType=modelType,colFilter=colFilter,filterCol=filterCol,quantFilter=quantFilter,patientFilter=patientFilter,**modelKW)\n",
    "                dfOut['Seed'] = i\n",
    "\n",
    "                dfList2.append(dfOut)\n",
    "\n",
    "            if len(dfTest)==0:#Skip empty fold in inner loop of nested cross validation\n",
    "                continue\n",
    "            dfOut = pd.concat(dfList2)\n",
    "            #print(len(dfOut))\n",
    "            dfOut = applyMeanPred(dfOut)\n",
    "            #print(len(dfOut))\n",
    "            dfOut['classPred'] = dfOut['meanPred']\n",
    "        dfList.append(dfOut)\n",
    "        modelDict['models'].append(model)\n",
    "    return pd.concat(dfList),modelDict\n",
    "\n",
    "\n",
    "def getYieldDFproc(df):\n",
    "    yieldDict = rankEpiTools.yieldsWrapperStats(df,predCol='classPred',hue=True,plot=False,rank=False,Print=False)\n",
    "    yieldDF = pd.DataFrame([yieldDict])\n",
    "    \n",
    "    yieldDF['AUC'] = NNanalysis.getAUC_EL(df['Target'],df['classPred'])[2]\n",
    "    yieldDF['AUC0.1'] = NNanalysis.getAUCThresh(df['Target'],df['classPred'],thresh=0.1)[2]\n",
    "    return yieldDF\n",
    "\n",
    "def trainingPatientFilter_yieldDFproc(df,colFilter,quantFilter,patientFilter,modelKW=False):\n",
    "    yieldDict = rankEpiTools.yieldsWrapperStats(df,predCol='classPred',hue=True,plot=False,rank=False,Print=False)\n",
    "    if modelKW:\n",
    "        yieldDict['ModelKW'] = modelKW\n",
    "    yieldDF = pd.DataFrame([yieldDict])\n",
    "    \n",
    "    yieldDF['AUC'] = NNanalysis.getAUC_EL(df['Target'],df['classPred'])[2]\n",
    "    yieldDF['AUC0.1'] = NNanalysis.getAUCThresh(df['Target'],df['classPred'],thresh=0.1)[2]\n",
    "    #yieldDF['AUC0.1_mean'] = df.groupby('Patient').apply(lambda dfG: NNanalysis.getAUCThresh(dfG['Target'],dfG['classPred'],thresh=0.1)[2]).fillna(0.0).values.mean()\n",
    "\n",
    "    yieldDF['CYT-Threshold'] = colFilter\n",
    "    yieldDF['Quant-Threshold'] = quantFilter\n",
    "    yieldDF['Patient-Threshold'] = patientFilter\n",
    "    return yieldDF\n",
    "\n",
    "def trainingPatientFilterApply(dfTrain,dfEval,features,outCol='classPred',modelType='RF',colFilterRange = range(0,8,2),quantFilterRange=[0.0],patientFilterRange=[0.0],**modelKW):\n",
    "    dfList = []\n",
    "    for quantFilter in quantFilterRange:\n",
    "        for colFilter in colFilterRange:\n",
    "            for patientFilter in patientFilterRange:\n",
    "                dfEval_out, model = TrainingPatientFilter(dfTrain,dfEval,features,outCol=outCol,modelType=modelType,colFilter=colFilter,quantFilter=quantFilter,patientFilter=patientFilter,**modelKW)\n",
    "                yieldDF = trainingPatientFilter_yieldDFproc(dfEval_out,colFilter,quantFilter,patientFilter)\n",
    "                dfList.append(yieldDF)\n",
    "    yieldDFMaster = pd.concat(dfList).reset_index()\n",
    "    return yieldDFMaster\n",
    "\n",
    "def trainingPatientFilterApply_CV(df,features,outCol='classPred',modelType='RF',filterCol='CYT',colFilterRange = range(0,8,2),quantFilterRange=[0.0],patientFilterRange=[0.0],**modelKW):\n",
    "    dfList = []\n",
    "    for quantFilter in quantFilterRange:\n",
    "        for colFilter in colFilterRange:\n",
    "            for patientFilter in patientFilterRange:\n",
    "                dfOut, modelDict = TrainingPatientFilter_CV(df,features,outCol=outCol,modelType=modelType,filterCol=filterCol,colFilter=colFilter,quantFilter=quantFilter,patientFilter=patientFilter,**modelKW)\n",
    "                yieldDF = trainingPatientFilter_yieldDFproc(dfOut,colFilter,quantFilter,patientFilter)\n",
    "                dfList.append(yieldDF)\n",
    "    yieldDFMaster = pd.concat(dfList).reset_index()\n",
    "    return yieldDFMaster\n",
    "\n",
    "\n",
    "def trainingPatientFilterApply_nestedCVinner(dfTrain,dfEval,features,folds=5,targCol='Target',outCol='classPred',modelType='RF',filterCol='CYT',colFilterRange = [0.0],quantFilterRange=[0.0],patientFilterRange=[0.0],modelKWlist = [{'random_state':42}],sortParam='AUC0.1'):\n",
    "    dfList = []\n",
    "    for quantFilter in quantFilterRange:\n",
    "        for colFilter in colFilterRange:\n",
    "            for patientFilter in patientFilterRange:\n",
    "                for modelKW in modelKWlist:\n",
    "                    dfTrainOut, modelDict = TrainingPatientFilter_CV(dfTrain,features,folds=folds,outCol=outCol,filterCol=filterCol,modelType=modelType,colFilter=colFilter,quantFilter=quantFilter,patientFilter=patientFilter,**modelKW)\n",
    "                    yieldDF = trainingPatientFilter_yieldDFproc(dfTrainOut,colFilter,quantFilter,patientFilter,modelKW)\n",
    "                    dfList.append(yieldDF)\n",
    "    yieldDFMaster = pd.concat(dfList).reset_index()\n",
    "    yieldDictTop = yieldDFMaster.sort_values(sortParam,ascending=False).iloc[0,:]\n",
    "    \n",
    "    quantFilter = yieldDictTop['Quant-Threshold']\n",
    "    colFilter = yieldDictTop['CYT-Threshold']\n",
    "    patientFilter = yieldDictTop['Patient-Threshold']\n",
    "    modelKW = yieldDictTop['ModelKW']\n",
    "    if True:\n",
    "        dfEval_out, model = TrainingPatientFilter(dfTrain,dfEval,features,outCol=outCol,modelType=modelType,colFilter=colFilter,quantFilter=quantFilter,patientFilter=patientFilter,**modelKW)\n",
    "    else:\n",
    "        dfList2 = []\n",
    "        for i in range(20):\n",
    "            #dfTest, dfTrain = rankEpiTools.getTestTrain(df,fold)\n",
    "            dfTrain_pos = dfTrain[dfTrain['Target']==1.0]\n",
    "            dfTrain_neg = dfTrain[dfTrain['Target']==0.0].sample(n=len(dfTrain_pos),random_state=i)\n",
    "            dfTrain = pd.concat([dfTrain_pos,dfTrain_neg])\n",
    "\n",
    "            dfEval_out, model = TrainingPatientFilter(dfTrain,dfEval,features,outCol=outCol,modelType=modelType,colFilter=colFilter,quantFilter=quantFilter,patientFilter=patientFilter,**modelKW)\n",
    "            dfEval_out['Seed'] = i\n",
    "            dfList2.append(dfEval_out)\n",
    "        dfEval_out = applyMeanPred(dfEval_out)\n",
    "        dfEval_out['classPred'] = dfEval_out['meanPred']\n",
    "    \n",
    "    return dfEval_out,yieldDictTop,model\n",
    "\n",
    "import itertools\n",
    "\n",
    "def getKeyPermutations(my_dict):\n",
    "    keys, values = zip(*my_dict.items())\n",
    "    permutations_dicts = [dict(zip(keys, v)) for v in itertools.product(*values)]\n",
    "    return permutations_dicts\n",
    "\n",
    "def trainingPatientFilterApply_nestedCVouter(df,features,folds=5,targCol='Target',modelType='RF',outCol='classPred',filterCol='CYT',colFilterRange=[0],quantFilterRange=[0.0],patientFilterRange=[0.0],modelKWlist=[{'random_state':42}],sortParam='AUC0.1'):\n",
    "    modelKWlist = getKeyPermutations(modelKWlist)\n",
    "    nestedCVdict = {'dfEval':[],\n",
    "                    'yieldDict':[],\n",
    "                    'models':[],\n",
    "                   }\n",
    "    for fold in range(folds):\n",
    "        print(fold)\n",
    "        dfTest, dfTrain = rankEpiTools.getTestTrain(df,fold)\n",
    "        if len(dfTest)==0:#Skip empty fold in inner loop of nested cross validation\n",
    "            continue        \n",
    "        dfEval_out,yieldDictTop,model = trainingPatientFilterApply_nestedCVinner(dfTrain,dfTest,features,folds=folds,targCol=targCol,outCol=outCol,filterCol=filterCol,modelType=modelType,colFilterRange=colFilterRange,quantFilterRange=quantFilterRange,modelKWlist=modelKWlist,sortParam=sortParam)\n",
    "        yieldDictTop['Fold'] = fold\n",
    "        \n",
    "        for key,value in yieldDictTop['ModelKW'].items():\n",
    "            yieldDictTop[\"KW-{}\".format(key)] = value\n",
    "        \n",
    "        nestedCVdict['dfEval'].append(dfEval_out)\n",
    "        nestedCVdict['yieldDict'].append(yieldDictTop)\n",
    "        nestedCVdict['models'].append(model)\n",
    "    nestedCVdict['dfEval'] = pd.concat(nestedCVdict['dfEval'])\n",
    "    nestedCVdict['yieldDict'] = pd.DataFrame(nestedCVdict['yieldDict'])\n",
    "    return nestedCVdict"
   ]
  },
  {
   "cell_type": "markdown",
   "id": "4fa54e96-e268-4522-8819-2d9c64cbd578",
   "metadata": {},
   "source": [
    "# Nested CV"
   ]
  },
  {
   "cell_type": "markdown",
   "id": "b060b1a6-2c1a-4775-aa79-156857f22904",
   "metadata": {},
   "source": [
    "### Baseline"
   ]
  },
  {
   "cell_type": "code",
   "execution_count": null,
   "id": "43ef0a2e-253a-4af2-b73f-5c696986c973",
   "metadata": {},
   "outputs": [],
   "source": [
    "modelKWlist = {'random_state':[1],\n",
    "               'n_jobs':[-1],\n",
    "                #'class_weight':[None,'balanced','balanced_subsample'],\n",
    "                'class_weight':[None],\n",
    "                #'max_depth':[1,3,5,7],\n",
    "                'max_depth':[1],\n",
    "                #'n_estimators':[10,100,200]\n",
    "                \n",
    "          }\n",
    "\n",
    "\n",
    "\n",
    "features = list(featureDict.keys())\n",
    "N = 21\n",
    "cytRange = [0.0]#np.linspace(0.0,0.98,N)\n",
    "patientRange = [0.0]#np.linspace(0.0,0.98,N)\n",
    "quantRange = [0.0]#np.linspace(0.0,0.98,N)\n",
    "\n",
    "nestedCVdict_baseline = trainingPatientFilterApply_nestedCVouter(dfMaster_motifPatPartitions,features,folds=fold,targCol='Target',modelType='RF',outCol='classPred',filterCol='CYT',colFilterRange=cytRange,quantFilterRange=quantRange,patientFilterRange=patientRange,modelKWlist=modelKWlist,sortParam='AUC0.1')"
   ]
  },
  {
   "cell_type": "code",
   "execution_count": null,
   "id": "ade7d944-4b96-40ef-be1b-391d91045de6",
   "metadata": {},
   "outputs": [],
   "source": [
    "nestedCVdict_baseline.keys()\n",
    "\n",
    "featImps = np.zeros((5,17))\n",
    "featImps\n",
    "for i in range(5):\n",
    "    featImps[i,:] = nestedCVdict_baseline['models'][i].feature_importances_\n",
    "sns.heatmap(featImps)\n",
    "plt.xticks(range(len(features)),features,rotation=90)\n",
    "plt.show()"
   ]
  },
  {
   "cell_type": "code",
   "execution_count": null,
   "id": "60b9eda6-12bd-4dad-b803-42008614efda",
   "metadata": {},
   "outputs": [],
   "source": [
    "nestedCVdict_baseline['yieldDict']"
   ]
  },
  {
   "cell_type": "code",
   "execution_count": null,
   "id": "29512892-059b-4208-a0e3-e70ec7fdc6f7",
   "metadata": {},
   "outputs": [],
   "source": [
    "getYieldDFproc(nestedCVdict_hyperp['dfEval'])"
   ]
  },
  {
   "cell_type": "code",
   "execution_count": null,
   "id": "578dcf25-beaa-4f64-b003-cdde3d73f0d2",
   "metadata": {},
   "outputs": [],
   "source": [
    "modelKWlist = {'random_state':[1],\n",
    "               'n_jobs':[-1],\n",
    "                #'class_weight':[None,'balanced','balanced_subsample'],\n",
    "                #'class_weight':[None],\n",
    "                #'max_depth':[1,3,5,7],\n",
    "                'max_depth':[1],\n",
    "                #'n_estimators':[10,100,200]\n",
    "                \n",
    "          }\n",
    "\n",
    "\n",
    "features = list(featureDict.keys())\n",
    "N = 21\n",
    "cytRange = np.linspace(0.0,0.98,N)\n",
    "patientRange = [0.0]#np.linspace(0.0,0.98,N)\n",
    "quantRange = [0.0]#np.linspace(0.0,0.98,N)\n",
    "\n",
    "nestedCVdict_cyt = trainingPatientFilterApply_nestedCVouter(dfMaster_motifPatPartitions,features,folds=fold,targCol='Target',modelType='RF',outCol='classPred',filterCol='CYT',colFilterRange=cytRange,quantFilterRange=quantRange,patientFilterRange=patientRange,modelKWlist=modelKWlist,sortParam='AUC0.1')"
   ]
  },
  {
   "cell_type": "code",
   "execution_count": null,
   "id": "8d9ae52e-f258-40be-bd15-b3eca03a8ac9",
   "metadata": {},
   "outputs": [],
   "source": [
    "modelKWlist = {'random_state':[1],\n",
    "               'n_jobs':[-1],\n",
    "                #'class_weight':[None,'balanced','balanced_subsample'],\n",
    "                'class_weight':[None],\n",
    "                #'max_depth':[1,3,5,7],\n",
    "                'max_depth':[1],\n",
    "                #'n_estimators':[10,100,200]\n",
    "                \n",
    "          }\n",
    "\n",
    "\n",
    "features = list(featureDict.keys())\n",
    "N = 21\n",
    "cytRange = np.linspace(0.0,0.98,N)\n",
    "patientRange = [0.0]#np.linspace(0.0,0.98,N)\n",
    "quantRange = [0.0]#np.linspace(0.0,0.98,N)\n",
    "\n",
    "nestedCVdict_cyt_norm = trainingPatientFilterApply_nestedCVouter(dfMaster_motifPatPartitions,features,folds=fold,targCol='Target',modelType='RF',outCol='classPred',filterCol='CYT-Norm',colFilterRange=cytRange,quantFilterRange=quantRange,patientFilterRange=patientRange,modelKWlist=modelKWlist,sortParam='AUC0.1')"
   ]
  },
  {
   "cell_type": "code",
   "execution_count": null,
   "id": "841356cc-7795-42b4-9dc8-208cb607a1cd",
   "metadata": {},
   "outputs": [],
   "source": [
    "modelKWlist = {'random_state':[1],\n",
    "               'n_jobs':[-1],\n",
    "                #'class_weight':[None,'balanced','balanced_subsample'],\n",
    "                'class_weight':[None],\n",
    "                #'max_depth':[1,3,5,7],\n",
    "                'max_depth':[1],\n",
    "                #'n_estimators':[10,100,200]\n",
    "                \n",
    "          }\n",
    "\n",
    "\n",
    "features = list(featureDict.keys())\n",
    "N = 21\n",
    "cytRange = [0.0]#np.linspace(0.0,0.98,N)\n",
    "patientRange = np.linspace(0.0,0.98,N)\n",
    "quantRange = [0.0]#np.linspace(0.0,0.98,N)\n",
    "\n",
    "nestedCVdict_pat = trainingPatientFilterApply_nestedCVouter(dfMaster_motifPatPartitions,features,folds=fold,targCol='Target',modelType='RF',outCol='classPred',filterCol='CYT',colFilterRange=cytRange,quantFilterRange=quantRange,patientFilterRange=patientRange,modelKWlist=modelKWlist,sortParam='AUC0.1')"
   ]
  },
  {
   "cell_type": "code",
   "execution_count": null,
   "id": "cd6d9090-d392-4620-9fa4-97084698be5e",
   "metadata": {},
   "outputs": [],
   "source": [
    "modelKWlist = {'random_state':[1],\n",
    "               'n_jobs':[-1],\n",
    "                #'class_weight':[None,'balanced','balanced_subsample'],\n",
    "                'class_weight':[None],\n",
    "                #'max_depth':[1,3,5,7],\n",
    "                'max_depth':[1],\n",
    "                #'n_estimators':[10,100,200]\n",
    "                \n",
    "          }\n",
    "\n",
    "\n",
    "features = list(featureDict.keys())\n",
    "N = 21\n",
    "cytRange = [0.0]#np.linspace(0.0,0.98,N)\n",
    "patientRange = [0.0]#np.linspace(0.0,0.98,N)\n",
    "quantRange = np.linspace(0.0,0.98,N)\n",
    "\n",
    "nestedCVdict_quant = trainingPatientFilterApply_nestedCVouter(dfMaster_motifPatPartitions,features,folds=fold,targCol='Target',modelType='RF',outCol='classPred',filterCol='CYT',colFilterRange=cytRange,quantFilterRange=quantRange,patientFilterRange=patientRange,modelKWlist=modelKWlist,sortParam='AUC0.1')"
   ]
  },
  {
   "cell_type": "code",
   "execution_count": null,
   "id": "4e9dc0af-0c25-4d62-881b-91634b083844",
   "metadata": {},
   "outputs": [],
   "source": [
    "modelKWlist = {'random_state':[1],\n",
    "               'n_jobs':[-1],\n",
    "                #'class_weight':[None,'balanced','balanced_subsample'],\n",
    "                'class_weight':[None],\n",
    "                #'max_depth':[1,3,5,7],\n",
    "                'max_depth':[1],\n",
    "                #'n_estimators':[10,100,200]\n",
    "                \n",
    "          }\n",
    "\n",
    "\n",
    "features = list(featureDict.keys())\n",
    "N = 11\n",
    "cytRange = np.linspace(0.0,0.90,N)\n",
    "patientRange = np.linspace(0.0,0.90,N)\n",
    "quantRange = [0.0]#np.linspace(0.0,0.98,N)\n",
    "\n",
    "nestedCVdict_cytPat = trainingPatientFilterApply_nestedCVouter(dfMaster_motifPatPartitions,features,folds=fold,targCol='Target',modelType='RF',outCol='classPred',filterCol='CYT',colFilterRange=cytRange,quantFilterRange=quantRange,patientFilterRange=patientRange,modelKWlist=modelKWlist,sortParam='AUC0.1')"
   ]
  },
  {
   "cell_type": "code",
   "execution_count": null,
   "id": "e6889c6f-96af-455e-9725-1caae05ba23d",
   "metadata": {},
   "outputs": [],
   "source": [
    "modelKWlist = {'random_state':[1],\n",
    "               'n_jobs':[-1],\n",
    "                #'class_weight':[None,'balanced','balanced_subsample'],\n",
    "                'class_weight':[None],\n",
    "                #'max_depth':[1,3,5,7],\n",
    "                'max_depth':[1],\n",
    "                #'n_estimators':[10,100,200]\n",
    "                \n",
    "          }\n",
    "\n",
    "\n",
    "features = list(featureDict.keys())\n",
    "N = 11\n",
    "cytRange = np.linspace(0.0,0.90,N)\n",
    "patientRange = np.linspace(0.0,0.90,N)\n",
    "quantRange = [0.0]#np.linspace(0.0,0.98,N)\n",
    "\n",
    "nestedCVdict_cytPat_norm = trainingPatientFilterApply_nestedCVouter(dfMaster_motifPatPartitions,features,folds=fold,targCol='Target',modelType='RF',outCol='classPred',filterCol='CYT-Norm',colFilterRange=cytRange,quantFilterRange=quantRange,patientFilterRange=patientRange,modelKWlist=modelKWlist,sortParam='AUC0.1')"
   ]
  },
  {
   "cell_type": "code",
   "execution_count": null,
   "id": "07e8c1d3-7ba5-49b7-b39b-37f8740d873e",
   "metadata": {},
   "outputs": [],
   "source": [
    "modelKWlist = {'random_state':[1],\n",
    "               'n_jobs':[-1],\n",
    "                #'class_weight':[None,'balanced','balanced_subsample'],\n",
    "                'class_weight':[None],\n",
    "                #'max_depth':[1,3,5,7],\n",
    "                'max_depth':[1],\n",
    "                #'n_estimators':[10,100,200]\n",
    "                \n",
    "          }\n",
    "\n",
    "\n",
    "features = list(featureDict.keys())\n",
    "N = 11\n",
    "cytRange = np.linspace(0.0,0.90,N)\n",
    "patientRange = [0.0]#np.linspace(0.0,0.98,N)\n",
    "quantRange = np.linspace(0.0,0.90,N)\n",
    "\n",
    "nestedCVdict_cytQuant = trainingPatientFilterApply_nestedCVouter(dfMaster_motifPatPartitions,features,folds=fold,targCol='Target',modelType='RF',outCol='classPred',filterCol='CYT',colFilterRange=cytRange,quantFilterRange=quantRange,patientFilterRange=patientRange,modelKWlist=modelKWlist,sortParam='AUC0.1')"
   ]
  },
  {
   "cell_type": "code",
   "execution_count": null,
   "id": "20f0cf26-e607-41bc-8426-478ccd166179",
   "metadata": {},
   "outputs": [],
   "source": [
    "modelKWlist = {'random_state':[1],\n",
    "               'n_jobs':[-1],\n",
    "                #'class_weight':[None,'balanced','balanced_subsample'],\n",
    "                'class_weight':[None],\n",
    "                #'max_depth':[1,3,5,7],\n",
    "                'max_depth':[1],\n",
    "                #'n_estimators':[10,100,200]\n",
    "                \n",
    "          }\n",
    "\n",
    "\n",
    "features = list(featureDict.keys())\n",
    "N = 11\n",
    "cytRange = np.linspace(0.0,0.90,N)\n",
    "patientRange = [0.0]#np.linspace(0.0,0.98,N)\n",
    "quantRange = np.linspace(0.0,0.90,N)\n",
    "\n",
    "nestedCVdict_cytQuant_norm = trainingPatientFilterApply_nestedCVouter(dfMaster_motifPatPartitions,features,folds=fold,targCol='Target',modelType='RF',outCol='classPred',filterCol='CYT-Norm',colFilterRange=cytRange,quantFilterRange=quantRange,patientFilterRange=patientRange,modelKWlist=modelKWlist,sortParam='AUC0.1')"
   ]
  },
  {
   "cell_type": "code",
   "execution_count": null,
   "id": "e989654b-a414-4dbf-9d83-f987218f3658",
   "metadata": {},
   "outputs": [],
   "source": [
    "modelKWlist = {'random_state':[1],\n",
    "               'n_jobs':[-1],\n",
    "                #'class_weight':[None,'balanced','balanced_subsample'],\n",
    "                'class_weight':[None],\n",
    "                #'max_depth':[1,3,5,7],\n",
    "                'max_depth':[1],\n",
    "                #'n_estimators':[10,100,200]\n",
    "                \n",
    "          }\n",
    "\n",
    "\n",
    "features = list(featureDict.keys())\n",
    "N = 11\n",
    "cytRange = [0.0]#np.linspace(0.0,0.98,N)\n",
    "patientRange = np.linspace(0.0,0.90,N)\n",
    "quantRange = np.linspace(0.0,0.90,N)\n",
    "\n",
    "nestedCVdict_patQuant = trainingPatientFilterApply_nestedCVouter(dfMaster_motifPatPartitions,features,folds=fold,targCol='Target',modelType='RF',outCol='classPred',filterCol='CYT',colFilterRange=cytRange,quantFilterRange=quantRange,patientFilterRange=patientRange,modelKWlist=modelKWlist,sortParam='AUC0.1')"
   ]
  },
  {
   "cell_type": "code",
   "execution_count": null,
   "id": "abf085d5-b1f6-4646-831f-4aed45512bd4",
   "metadata": {},
   "outputs": [],
   "source": [
    "modelKWlist = {'random_state':[1],\n",
    "               'n_jobs':[-1],\n",
    "                #'class_weight':[None,'balanced','balanced_subsample'],\n",
    "                'class_weight':[None],\n",
    "                #'max_depth':[1,3,5,7],\n",
    "                'max_depth':[1],\n",
    "                #'n_estimators':[10,100,200]\n",
    "                \n",
    "          }\n",
    "\n",
    "\n",
    "features = list(featureDict.keys())\n",
    "N = 5\n",
    "cytRange = np.linspace(0.0,0.90,N)\n",
    "patientRange = np.linspace(0.0,0.90,N)\n",
    "quantRange = np.linspace(0.0,0.90,N)\n",
    "\n",
    "nestedCVdict_cytPatQuant = trainingPatientFilterApply_nestedCVouter(dfMaster_motifPatPartitions,features,folds=fold,targCol='Target',modelType='RF',outCol='classPred',filterCol='CYT',colFilterRange=cytRange,quantFilterRange=quantRange,patientFilterRange=patientRange,modelKWlist=modelKWlist,sortParam='AUC0.1')"
   ]
  },
  {
   "cell_type": "code",
   "execution_count": null,
   "id": "8187dc39-5c34-4c2a-a809-a587832d0b5b",
   "metadata": {},
   "outputs": [],
   "source": [
    "modelKWlist = {'random_state':[1],\n",
    "               'n_jobs':[-1],\n",
    "                #'class_weight':[None,'balanced','balanced_subsample'],\n",
    "                'class_weight':[None],\n",
    "                #'max_depth':[1,3,5,7],\n",
    "                'max_depth':[1],\n",
    "                #'n_estimators':[10,100,200]\n",
    "                \n",
    "          }\n",
    "\n",
    "\n",
    "features = list(featureDict.keys())\n",
    "N = 5\n",
    "cytRange = np.linspace(0.0,0.90,N)\n",
    "patientRange = np.linspace(0.0,0.90,N)\n",
    "quantRange = np.linspace(0.0,0.90,N)\n",
    "\n",
    "nestedCVdict_cytPatQuant_norm = trainingPatientFilterApply_nestedCVouter(dfMaster_motifPatPartitions,features,folds=fold,targCol='Target',modelType='RF',outCol='classPred',filterCol='CYT-Norm',colFilterRange=cytRange,quantFilterRange=quantRange,patientFilterRange=patientRange,modelKWlist=modelKWlist,sortParam='AUC0.1')"
   ]
  },
  {
   "cell_type": "code",
   "execution_count": null,
   "id": "37c2c053-4890-450e-9c06-e5bdbc4308a8",
   "metadata": {},
   "outputs": [],
   "source": [
    "nestedCVdict_cytPatQuant_norm.keys()"
   ]
  },
  {
   "cell_type": "code",
   "execution_count": null,
   "id": "62cfbe2b-38c0-405b-888b-8cd88b1e4773",
   "metadata": {},
   "outputs": [],
   "source": [
    "cvDicts = [nestedCVdict_baseline,\n",
    "           nestedCVdict_cyt,nestedCVdict_cyt_norm,\n",
    "           nestedCVdict_pat,nestedCVdict_quant,\n",
    "           nestedCVdict_cytPat,nestedCVdict_cytPat_norm,\n",
    "           nestedCVdict_cytQuant,nestedCVdict_cytQuant_norm,\n",
    "           nestedCVdict_patQuant,\n",
    "           nestedCVdict_cytPatQuant,nestedCVdict_cytPatQuant_norm]\n",
    "\n",
    "labels = ['Baseline',\n",
    "          'CYT','CYT-Norm',\n",
    "          'Pat','Pept',\n",
    "          'Cyt+Pat','Cyt+Pat-Norm',\n",
    "          'Cyt+Pept','Cyt+Pept-Norm',\n",
    "          'Pat+Pept',\n",
    "          'Cyt+Pat+Pept',\n",
    "         'Cyt+Pat+Pept-Norm']\n",
    "\n",
    "aucs = list(map(lambda d: getYieldDFproc(d['dfEval'])['AUC0.1'][0],cvDicts))\n",
    "\n",
    "\n",
    "#sns.plot(aucs)\n",
    "plt.figure(figsize=(21,8))\n",
    "plt.bar(labels,aucs)\n",
    "plt.ylabel('AUC0.1')\n",
    "plt.title('Nested Cross-Validation',fontsize=32)\n",
    "plt.xticks(rotation=30)\n",
    "plt.savefig(os.path.join(figDir,\"NestedCrossValidation2.png\"),dpi=600)\n",
    "plt.show()\n",
    "aucs"
   ]
  },
  {
   "cell_type": "markdown",
   "id": "e284e4b8-7d9e-42a6-9010-d5148af2cd82",
   "metadata": {},
   "source": [
    "### Compare with NNAlign"
   ]
  },
  {
   "cell_type": "code",
   "execution_count": null,
   "id": "d623b88b-d47e-4fde-aedd-c3699b932a26",
   "metadata": {},
   "outputs": [],
   "source": [
    "dfEval_nestedCV = nestedCVdict_base['dfEval']\n",
    "#dfEval_nestedCV.head()"
   ]
  },
  {
   "cell_type": "code",
   "execution_count": null,
   "id": "8fc54418-4015-4794-9101-44fd28f64cf7",
   "metadata": {},
   "outputs": [],
   "source": [
    "dfEval_nestedCV[['PeptMut','Target','Partition']].to_csv('../../results/NNAlign/neoEpi_nnalign.txt',sep=' ',index=False,header=False)"
   ]
  },
  {
   "cell_type": "code",
   "execution_count": null,
   "id": "69328356-5389-4396-8429-adbd3eccd67a",
   "metadata": {},
   "outputs": [],
   "source": [
    "dfMaster_NNalign = pd.read_csv('../../results/NNalign/nnalign_21963/nnalign_21963.lg6.sorted.pred',sep='\\t')\n",
    "\n",
    "dfMaster_NNalign['Target'] = dfMaster_NNalign['Measure'].apply(lambda targ: targ if targ==1.0 else 0.0)\n",
    "dfMaster_NNalign.head()\n",
    "\n",
    "NNanalysis.getAUCThresh(dfMaster_NNalign['Target'],dfMaster_NNalign['Prediction'],thresh=0.1)[-1]\n"
   ]
  },
  {
   "cell_type": "code",
   "execution_count": null,
   "id": "b7291dfb-ad03-492c-94b1-c7ee9b45da1c",
   "metadata": {},
   "outputs": [],
   "source": [
    "print(NNanalysis.getAUCThresh(dfMaster_NNalign['Target'],dfMaster_NNalign['Prediction'])[-1])\n",
    "print(NNanalysis.getAUCThresh(nestedCVdict_base['dfEval']['Target'],nestedCVdict_base['dfEval']['classPred'])[-1])\n",
    "#print(NNanalysis.getAUCThresh(nestedCVdict_patSel['dfEval']['Target'],nestedCVdict_patSel['dfEval']['classPred'])[-1])"
   ]
  },
  {
   "cell_type": "code",
   "execution_count": null,
   "id": "70466777-2fd0-4d5e-9dc1-e3e08691aa10",
   "metadata": {},
   "outputs": [],
   "source": [
    "dfMaster_NNalign['Target'].sum()"
   ]
  },
  {
   "cell_type": "code",
   "execution_count": null,
   "id": "0a5a6ffb-5599-4706-85c5-8982e2bc0f59",
   "metadata": {},
   "outputs": [],
   "source": [
    "figDir"
   ]
  },
  {
   "cell_type": "code",
   "execution_count": null,
   "id": "5cbf5702-031c-488d-8c81-ce82ef3d4e75",
   "metadata": {},
   "outputs": [],
   "source": [
    "NNanalysis.getAUC_EL_plotROC(dfMaster_NNalign['Target'],dfMaster_NNalign['Prediction'],show=False,label='NNalign')\n",
    "NNanalysis.getAUC_EL_plotROC(nestedCVdict_base['dfEval']['Target'],nestedCVdict_base['dfEval']['classPred'],show=False,label='Baseline')\n",
    "#NNanalysis.getAUC_EL_plotROC(nestedCVdict_patSel['dfEval']['Target'],nestedCVdict_patSel['dfEval']['classPred'],show=False,label='Patient Selection')\n",
    "#plt.xlim(0.,0.2)\n",
    "plt.legend()\n",
    "plt.savefig(os.path.join(figDir,'compModelWithNNAlign.png'),dpi=600)\n",
    "plt.show()"
   ]
  },
  {
   "cell_type": "code",
   "execution_count": null,
   "id": "d19f7ec3-8e19-42ea-a2b1-0a73aa8e311a",
   "metadata": {},
   "outputs": [],
   "source": [
    "dfEval_nestedCV"
   ]
  }
 ],
 "metadata": {
  "kernelspec": {
   "display_name": "Python 3 (ipykernel)",
   "language": "python",
   "name": "python3"
  },
  "language_info": {
   "codemirror_mode": {
    "name": "ipython",
    "version": 3
   },
   "file_extension": ".py",
   "mimetype": "text/x-python",
   "name": "python",
   "nbconvert_exporter": "python",
   "pygments_lexer": "ipython3",
   "version": "3.9.5"
  }
 },
 "nbformat": 4,
 "nbformat_minor": 5
}
