{
 "cells": [
  {
   "cell_type": "code",
   "execution_count": 1,
   "metadata": {},
   "outputs": [],
   "source": [
    "import os\n",
    "import re\n",
    "import pandas as pd\n",
    "import numpy as np\n",
    "import matplotlib.pyplot as plt\n",
    "import seaborn as sns\n",
    "import pickle\n",
    "import datetime\n",
    "\n",
    "from sklearn.ensemble import RandomForestClassifier\n",
    "from sklearn.model_selection import KFold, train_test_split\n",
    "from sklearn.metrics import roc_auc_score, roc_curve, auc\n",
    "from sklearn.preprocessing import StandardScaler\n",
    "from sklearn.utils import shuffle\n",
    "from sklearn.neural_network import MLPClassifier\n",
    "\n",
    "# for nested cross val \n",
    "from numpy import mean\n",
    "from numpy import std\n",
    "from sklearn.datasets import make_classification\n",
    "from sklearn.model_selection import cross_val_score\n",
    "from sklearn.model_selection import GridSearchCV\n",
    "from sklearn.metrics import accuracy_score\n"
   ]
  },
  {
   "cell_type": "code",
   "execution_count": 2,
   "metadata": {},
   "outputs": [],
   "source": [
    "# costumized stuff  \n",
    "patient_data = False\n",
    "Simple = True"
   ]
  },
  {
   "cell_type": "code",
   "execution_count": 6,
   "metadata": {},
   "outputs": [
    {
     "name": "stdout",
     "output_type": "stream",
     "text": [
      "Index(['mw', 'aro', 'inst', 'cys_red', 'Mut_MHCrank_EL', 'Mut_MHCrank_BA',\n",
      "       'Cancer_Driver_Gene', 'Expression_Level', 'priority_Score', 'response',\n",
      "       'variant_allele_frequency', 'cellular_prevalence', 'Self_Similarity',\n",
      "       'est_freq', 'Score_PRIME', 'helix', 'MeanHydroph_coreNoAnc',\n",
      "       'Prop_Small', 'Prop_Aromatic', 'Prop_Basic', 'Prop_Acidic', 'pI',\n",
      "       'agretopicity', 'mut_rep_rank_netstabpan', 'foginess_score',\n",
      "       'HLA_expression', 'CYT', 'Peptide', 'HLA_allele', 'Patient',\n",
      "       'Partition', 'cohort'],\n",
      "      dtype='object')\n"
     ]
    }
   ],
   "source": [
    "# run the data with or without the patient data for tumor microenviroment and with or withput selected cols\n",
    "#print(\"running model with only_imp_cols:\" + only_imp_cols + \"and patient_data\"+ patient_data)\n",
    "\n",
    "if patient_data == True and Simple == False: \n",
    "    cols_to_drop = ['response','Peptide', 'HLA_allele','Patient','Partition','cohort','est_freq']\n",
    "    TME_inc = \"TME_included\"\n",
    "    sim = \"advance\"\n",
    "if patient_data == False and Simple == False: \n",
    "    cols_to_drop = ['response','Peptide', 'HLA_allele','Patient','Partition','cohort','est_freq',\"CYT\"]\n",
    "    TME_inc = \"TME_excluded\"\n",
    "    sim = \"advance\"\n",
    "if patient_data == True and Simple == True: \n",
    "    cols_to_drop = ['response','Peptide', 'HLA_allele','Patient','Partition','cohort','est_freq',\n",
    "                   \"Expression_Level\", \"cellular_prevelance\",\"CYT\",\"HLA_expression\",\"varriant_allele_frequency\",\n",
    "                   \"Self_Similarity\",\"priority_Score\",\"forginess_score\"]\n",
    "    TME_inc = \"TME_included\"\n",
    "    sim = \"Simple\"\n",
    "if patient_data == False and Simple == True: \n",
    "    cols_to_drop = ['response','Peptide', 'HLA_allele','Patient','Partition','cohort','est_freq',\"CYT\",\n",
    "                   \"Expression_Level\", \"cellular_prevalence\",\"CYT\",\"HLA_expression\",\"variant_allele_frequency\",\n",
    "                   \"Self_Similarity\",\"priority_Score\",\"foginess_score\",\"Cancer_Driver_Gene\"]\n",
    "    TME_inc = \"TME_excluded\"\n",
    "    sim = \"Simple\"\n",
    "\n",
    "n_sample = 10\n",
    "    \n",
    "data = pd.read_csv('../../data/03_partitioning_data/txt/03_2_filtered_data_model.txt', sep='\\t')\n",
    "Var_importance_filename = '../../results/RandomForrest/tabels/Feature_importance_' + TME_inc + sim +'.txt'\n",
    "outfile = open(Var_importance_filename ,'w')\n",
    "\n",
    "print(data.columns)\n",
    "#data = data[[\"response\",\"Peptide\", \"HLA_allele\",\"Patient\",\"Partition\",\"cohort\",\"est_freq\",\"CYT\",\"CD8A\",\n",
    "#              \"Prop_Hydrophobic\",\"Score_PRIME\",\"Mut_MHCrank_BA\",\"Mut_MHCrank_EL\",\"DAI\",\n",
    "#            \"Thalf.h.\",\"mut_rep_rank_netstabpan\",\"agretopicity\",\"helix\",\"inst\",\"Prop_Polar\",\"aro\",\n",
    "#            \"mw\",\"Prop_Non.polar\",\"Prop_Aliphatic\",\"Prop_Tiny\",\"Prop_Charged\",\"Prop_Small\",\"Prop_Basic\"]]"
   ]
  },
  {
   "cell_type": "code",
   "execution_count": 7,
   "metadata": {},
   "outputs": [
    {
     "name": "stdout",
     "output_type": "stream",
     "text": [
      "[[0.49177591 0.50822409]\n",
      " [0.4845757  0.5154243 ]\n",
      " [0.5780941  0.4219059 ]\n",
      " ...\n",
      " [0.49747128 0.50252872]\n",
      " [0.534905   0.465095  ]\n",
      " [0.52658153 0.47341847]]\n",
      "[[0.43027245 0.56972755]\n",
      " [0.55305758 0.44694242]\n",
      " [0.64307272 0.35692728]\n",
      " ...\n",
      " [0.67988796 0.32011204]\n",
      " [0.69871236 0.30128764]\n",
      " [0.71167354 0.28832646]]\n",
      "[[0.45757596 0.54242404]\n",
      " [0.49129022 0.50870978]\n",
      " [0.44455502 0.55544498]\n",
      " ...\n",
      " [0.6358044  0.3641956 ]\n",
      " [0.67633361 0.32366639]\n",
      " [0.64390649 0.35609351]]\n",
      "[[0.5449924  0.4550076 ]\n",
      " [0.6124604  0.3875396 ]\n",
      " [0.60532257 0.39467743]\n",
      " ...\n",
      " [0.67783955 0.32216045]\n",
      " [0.68161805 0.31838195]\n",
      " [0.67943836 0.32056164]]\n",
      "[[0.48410961 0.51589039]\n",
      " [0.46223847 0.53776153]\n",
      " [0.40498363 0.59501637]\n",
      " ...\n",
      " [0.73522272 0.26477728]\n",
      " [0.54451333 0.45548667]\n",
      " [0.64487727 0.35512273]]\n",
      "[[0.67882392 0.32117608]\n",
      " [0.60423862 0.39576138]\n",
      " [0.5917579  0.4082421 ]\n",
      " [0.56677714 0.43322286]\n",
      " [0.57154133 0.42845867]\n",
      " [0.60825605 0.39174395]\n",
      " [0.64085764 0.35914236]\n",
      " [0.68728843 0.31271157]\n",
      " [0.57600005 0.42399995]\n",
      " [0.65061133 0.34938867]\n",
      " [0.54723327 0.45276673]\n",
      " [0.69370111 0.30629889]\n",
      " [0.67263342 0.32736658]\n",
      " [0.65705536 0.34294464]\n",
      " [0.65984365 0.34015635]\n",
      " [0.60375649 0.39624351]\n",
      " [0.54060768 0.45939232]]\n",
      "RF AUC: 0.6463\n"
     ]
    }
   ],
   "source": [
    "# nested cross validation\n",
    "partitioning_list = data.Partition.unique()\n",
    "pred_df = pd.DataFrame()\n",
    "for i in partitioning_list:\n",
    "    av_pred_rf = 0\n",
    "    for n in range(n_sample):  \n",
    "        test = data[data.Partition == i]\n",
    "        train = data[data.Partition != i]\n",
    "        train_pos = train[train.response==1]\n",
    "        train_neg = train[train.response==0].sample(n=2000, random_state=n) #, random_state=45\n",
    "        train = shuffle(pd.concat([train_pos, train_neg], axis=0)).reset_index(drop=True)\n",
    "        X_train = train.drop(cols_to_drop, axis=1).reset_index(drop=True)\n",
    "        y_train = train[\"response\"]\n",
    "        feature_list = list(X_train.columns)\n",
    "\n",
    "\n",
    "        # Instantiate the RF and the MLP\n",
    "        rf = RandomForestClassifier(random_state = n, max_depth = 4, n_estimators = 1000,n_jobs=-1)  \n",
    "\n",
    "                # Train the models on training data\n",
    "        rf.fit(X_train, y_train)\n",
    "        X_test = test.drop(cols_to_drop, axis=1).reset_index(drop=True)\n",
    "        y_test = test[\"response\"]  \n",
    "        \n",
    "        #Get fetures importance per partition\n",
    "        importances = list(rf.feature_importances_)\n",
    "        feature_importances = [(feature, round(importance, 2)) for feature, importance in zip(feature_list, importances)]\n",
    "        # Sort\n",
    "        feature_importances = sorted(feature_importances, key = lambda x: x[1], reverse = True)\n",
    "     #   [print('Variable: {:20} Importance: {}'.format(*pair)) for pair in feature_importances]\n",
    "      #  gather all feature importance \n",
    "        for pair in feature_importances:\n",
    "            outfile.write(str(pair[0]) + \"\\t\" + str(pair[1]) + \"\\n\")\n",
    " \n",
    "        prediction_rf = rf.predict_proba(X_test)\n",
    "        \n",
    "        av_pred_rf += prediction_rf\n",
    "    \n",
    "    pred_val_rf = av_pred_rf/n_sample\n",
    "    print(pred_val_rf)\n",
    "        \n",
    "    pred_val_rf = pd.DataFrame(pred_val_rf[:,1])\n",
    "    pred_val_rf.reset_index(drop=True, inplace=True)\n",
    "    mapping = {pred_val_rf.columns[0]: \"prediction_rf\"}\n",
    "    pred_val_rf = pred_val_rf.rename(columns=mapping)\n",
    "\n",
    "    X_test.reset_index(drop=True, inplace=True)\n",
    "    y_test.reset_index(drop=True, inplace=True)\n",
    "\n",
    "    ped_df = pd.concat([X_test,y_test,pred_val_rf],axis = 1)\n",
    "    pred_df = pred_df.append(ped_df)\n",
    "\n",
    "        \n",
    "print(\"RF AUC:\",round(roc_auc_score(pred_df.response, pred_df.prediction_rf),4))    \n",
    "outfile.close()  \n"
   ]
  },
  {
   "cell_type": "code",
   "execution_count": 70,
   "metadata": {},
   "outputs": [
    {
     "name": "stdout",
     "output_type": "stream",
     "text": [
      "19541\n",
      "TME_excluded\n"
     ]
    }
   ],
   "source": [
    "# print to outfile \n",
    "print(len(pred_df))\n",
    "print(TME_inc)\n",
    "pred_df.to_csv(r'../../results/RandomForrest/tabels/pred_df_downsampling_'+TME_inc+sim +'.txt', index=None, sep=' ', mode='w')"
   ]
  },
  {
   "cell_type": "code",
   "execution_count": 42,
   "metadata": {},
   "outputs": [
    {
     "data": {
      "image/png": "[encoded data removed]",
      "text/plain": [
       "<Figure size 432x288 with 1 Axes>"
      ]
     },
     "metadata": {
      "needs_background": "light"
     },
     "output_type": "display_data"
    }
   ],
   "source": [
    "fpr_rf, tpr_rf, threshold_rf = roc_curve(pred_df.response, pred_df.prediction_rf)\n",
    "roc_auc_rf = auc(fpr_rf, tpr_rf)\n",
    "\n",
    "\n",
    "plt.title('Receiver Operating Characteristic')\n",
    "plt.plot(fpr_rf, tpr_rf, 'b', label = 'AUC RF= %0.2f' % roc_auc_rf)\n",
    "\n",
    "plt.legend(loc = 'lower right')\n",
    "plt.plot([0, 1], [0, 1],'r--')\n",
    "plt.xlim([0, 1])\n",
    "plt.ylim([0, 1])\n",
    "plt.ylabel('True Positive Rate')\n",
    "plt.xlabel('False Positive Rate')\n",
    "plt.show()"
   ]
  },
  {
   "cell_type": "code",
   "execution_count": 43,
   "metadata": {},
   "outputs": [],
   "source": [
    "from sklearn.metrics import confusion_matrix"
   ]
  },
  {
   "cell_type": "code",
   "execution_count": 44,
   "metadata": {},
   "outputs": [
    {
     "data": {
      "text/plain": [
       "array([[19021,     1],\n",
       "       [  518,     1]])"
      ]
     },
     "execution_count": 44,
     "metadata": {},
     "output_type": "execute_result"
    }
   ],
   "source": [
    "confusion_matrix(pred_df.response, pred_df.prediction_rf>0.3)"
   ]
  },
  {
   "cell_type": "code",
   "execution_count": 45,
   "metadata": {
    "scrolled": true
   },
   "outputs": [
    {
     "data": {
      "image/png": "[encoded data removed]",
      "text/plain": [
       "<Figure size 432x288 with 1 Axes>"
      ]
     },
     "metadata": {
      "needs_background": "light"
     },
     "output_type": "display_data"
    }
   ],
   "source": [
    "plt.hist(pred_df.prediction_rf, alpha=0.5, label='prediction')\n",
    "plt.hist(pred_df.response, alpha=0.5, label='response')\n",
    "plt.legend()\n",
    "plt.title(\"Histogram of the responses and the predicted probabilities\\n Ranfom Forest\")\n",
    "plt.show()"
   ]
  },
  {
   "cell_type": "code",
   "execution_count": 26,
   "metadata": {},
   "outputs": [
    {
     "data": {
      "image/png": "[encoded data removed]",
      "text/plain": [
       "<Figure size 432x288 with 1 Axes>"
      ]
     },
     "metadata": {
      "needs_background": "light"
     },
     "output_type": "display_data"
    }
   ],
   "source": [
    "fpr_rf, tpr_rf, threshold_rf = roc_curve(pred_df.response, pred_df.prediction_rf)\n",
    "roc_auc_rf = auc(fpr_rf, tpr_rf)\n",
    "\n",
    "\n",
    "plt.title('Receiver Operating Characteristic')\n",
    "plt.plot(fpr_rf, tpr_rf, 'b', label = 'AUC RF= %0.2f' % roc_auc_rf)\n",
    "\n",
    "plt.legend(loc = 'lower right')\n",
    "plt.plot([0, 1], [0, 1],'r--')\n",
    "plt.xlim([0, 1])\n",
    "plt.ylim([0, 1])\n",
    "plt.ylabel('True Positive Rate')\n",
    "plt.xlabel('False Positive Rate')\n",
    "plt.show()"
   ]
  },
  {
   "cell_type": "code",
   "execution_count": null,
   "metadata": {},
   "outputs": [],
   "source": [
    "## nested cross validation "
   ]
  },
  {
   "cell_type": "code",
   "execution_count": 49,
   "metadata": {},
   "outputs": [
    {
     "name": "stdout",
     "output_type": "stream",
     "text": [
      "0.687859622870904\n",
      ">auc=0.688, est=0.652, cfg={'max_depth': 1, 'n_estimators': 1000}\n",
      "0.6927410636933071\n",
      ">auc=0.693, est=0.657, cfg={'max_depth': 1, 'n_estimators': 1000}\n",
      "0.6257376918794242\n",
      ">auc=0.626, est=0.671, cfg={'max_depth': 2, 'n_estimators': 50}\n",
      "0.6955581603215638\n",
      ">auc=0.696, est=0.660, cfg={'max_depth': 1, 'n_estimators': 1000}\n",
      "0.6581219509771776\n",
      ">auc=0.658, est=0.679, cfg={'max_depth': 2, 'n_estimators': 1000}\n"
     ]
    },
    {
     "ename": "ValueError",
     "evalue": "Only one class present in y_true. ROC AUC score is not defined in that case.",
     "output_type": "error",
     "traceback": [
      "\u001b[0;31m---------------------------------------------------------------------------\u001b[0m",
      "\u001b[0;31mValueError\u001b[0m                                Traceback (most recent call last)",
      "\u001b[0;32m<ipython-input-49-6fbbf4853b96>\u001b[0m in \u001b[0;36m<module>\u001b[0;34m\u001b[0m\n\u001b[1;32m     32\u001b[0m     \u001b[0;31m# evaluate model on the hold out dataset\u001b[0m\u001b[0;34m\u001b[0m\u001b[0;34m\u001b[0m\u001b[0;34m\u001b[0m\u001b[0m\n\u001b[1;32m     33\u001b[0m     \u001b[0mprediction_rf\u001b[0m \u001b[0;34m=\u001b[0m \u001b[0mbest_model\u001b[0m\u001b[0;34m.\u001b[0m\u001b[0mpredict_proba\u001b[0m\u001b[0;34m(\u001b[0m\u001b[0mX_test\u001b[0m\u001b[0;34m)\u001b[0m\u001b[0;34m\u001b[0m\u001b[0;34m\u001b[0m\u001b[0m\n\u001b[0;32m---> 34\u001b[0;31m     \u001b[0mauc\u001b[0m \u001b[0;34m=\u001b[0m \u001b[0mroc_auc_score\u001b[0m\u001b[0;34m(\u001b[0m\u001b[0my_test\u001b[0m\u001b[0;34m,\u001b[0m \u001b[0mprediction_rf\u001b[0m\u001b[0;34m[\u001b[0m\u001b[0;34m:\u001b[0m\u001b[0;34m,\u001b[0m\u001b[0;36m1\u001b[0m\u001b[0;34m]\u001b[0m\u001b[0;34m)\u001b[0m\u001b[0;34m\u001b[0m\u001b[0;34m\u001b[0m\u001b[0m\n\u001b[0m\u001b[1;32m     35\u001b[0m     \u001b[0mprint\u001b[0m\u001b[0;34m(\u001b[0m\u001b[0mauc\u001b[0m\u001b[0;34m)\u001b[0m\u001b[0;34m\u001b[0m\u001b[0;34m\u001b[0m\u001b[0m\n\u001b[1;32m     36\u001b[0m \u001b[0;34m\u001b[0m\u001b[0m\n",
      "\u001b[0;32m~/opt/anaconda3/lib/python3.7/site-packages/sklearn/metrics/_ranking.py\u001b[0m in \u001b[0;36mroc_auc_score\u001b[0;34m(y_true, y_score, average, sample_weight, max_fpr, multi_class, labels)\u001b[0m\n\u001b[1;32m    388\u001b[0m                                              max_fpr=max_fpr),\n\u001b[1;32m    389\u001b[0m                                      \u001b[0my_true\u001b[0m\u001b[0;34m,\u001b[0m \u001b[0my_score\u001b[0m\u001b[0;34m,\u001b[0m \u001b[0maverage\u001b[0m\u001b[0;34m,\u001b[0m\u001b[0;34m\u001b[0m\u001b[0;34m\u001b[0m\u001b[0m\n\u001b[0;32m--> 390\u001b[0;31m                                      sample_weight=sample_weight)\n\u001b[0m\u001b[1;32m    391\u001b[0m     \u001b[0;32melse\u001b[0m\u001b[0;34m:\u001b[0m  \u001b[0;31m# multilabel-indicator\u001b[0m\u001b[0;34m\u001b[0m\u001b[0;34m\u001b[0m\u001b[0m\n\u001b[1;32m    392\u001b[0m         return _average_binary_score(partial(_binary_roc_auc_score,\n",
      "\u001b[0;32m~/opt/anaconda3/lib/python3.7/site-packages/sklearn/metrics/_base.py\u001b[0m in \u001b[0;36m_average_binary_score\u001b[0;34m(binary_metric, y_true, y_score, average, sample_weight)\u001b[0m\n\u001b[1;32m     75\u001b[0m \u001b[0;34m\u001b[0m\u001b[0m\n\u001b[1;32m     76\u001b[0m     \u001b[0;32mif\u001b[0m \u001b[0my_type\u001b[0m \u001b[0;34m==\u001b[0m \u001b[0;34m\"binary\"\u001b[0m\u001b[0;34m:\u001b[0m\u001b[0;34m\u001b[0m\u001b[0;34m\u001b[0m\u001b[0m\n\u001b[0;32m---> 77\u001b[0;31m         \u001b[0;32mreturn\u001b[0m \u001b[0mbinary_metric\u001b[0m\u001b[0;34m(\u001b[0m\u001b[0my_true\u001b[0m\u001b[0;34m,\u001b[0m \u001b[0my_score\u001b[0m\u001b[0;34m,\u001b[0m \u001b[0msample_weight\u001b[0m\u001b[0;34m=\u001b[0m\u001b[0msample_weight\u001b[0m\u001b[0;34m)\u001b[0m\u001b[0;34m\u001b[0m\u001b[0;34m\u001b[0m\u001b[0m\n\u001b[0m\u001b[1;32m     78\u001b[0m \u001b[0;34m\u001b[0m\u001b[0m\n\u001b[1;32m     79\u001b[0m     \u001b[0mcheck_consistent_length\u001b[0m\u001b[0;34m(\u001b[0m\u001b[0my_true\u001b[0m\u001b[0;34m,\u001b[0m \u001b[0my_score\u001b[0m\u001b[0;34m,\u001b[0m \u001b[0msample_weight\u001b[0m\u001b[0;34m)\u001b[0m\u001b[0;34m\u001b[0m\u001b[0;34m\u001b[0m\u001b[0m\n",
      "\u001b[0;32m~/opt/anaconda3/lib/python3.7/site-packages/sklearn/metrics/_ranking.py\u001b[0m in \u001b[0;36m_binary_roc_auc_score\u001b[0;34m(y_true, y_score, sample_weight, max_fpr)\u001b[0m\n\u001b[1;32m    219\u001b[0m     \u001b[0;34m\"\"\"Binary roc auc score\"\"\"\u001b[0m\u001b[0;34m\u001b[0m\u001b[0;34m\u001b[0m\u001b[0m\n\u001b[1;32m    220\u001b[0m     \u001b[0;32mif\u001b[0m \u001b[0mlen\u001b[0m\u001b[0;34m(\u001b[0m\u001b[0mnp\u001b[0m\u001b[0;34m.\u001b[0m\u001b[0munique\u001b[0m\u001b[0;34m(\u001b[0m\u001b[0my_true\u001b[0m\u001b[0;34m)\u001b[0m\u001b[0;34m)\u001b[0m \u001b[0;34m!=\u001b[0m \u001b[0;36m2\u001b[0m\u001b[0;34m:\u001b[0m\u001b[0;34m\u001b[0m\u001b[0;34m\u001b[0m\u001b[0m\n\u001b[0;32m--> 221\u001b[0;31m         raise ValueError(\"Only one class present in y_true. ROC AUC score \"\n\u001b[0m\u001b[1;32m    222\u001b[0m                          \"is not defined in that case.\")\n\u001b[1;32m    223\u001b[0m \u001b[0;34m\u001b[0m\u001b[0m\n",
      "\u001b[0;31mValueError\u001b[0m: Only one class present in y_true. ROC AUC score is not defined in that case."
     ]
    }
   ],
   "source": [
    "# create dataset\n",
    "data = pd.read_csv('../../data/03_partitioning_data/txt/03_2_filtered_data_model.txt', sep='\\t')\n",
    "partitioning_list = data.Partition.unique()\n",
    "pred_df = pd.DataFrame()\n",
    "outer_results = list()\n",
    "for i in partitioning_list:\n",
    " #   for n in range(n_sample):\n",
    "    test = data[data.Partition == i]\n",
    "    train = data[data.Partition != i]\n",
    "   # train_pos = train[train.response==1]\n",
    "  #  train_neg = train[train.response==0].sample(n=1000, random_state=n) #, random_state=45\n",
    "   # train = shuffle(pd.concat([train_pos, train_neg], axis=0)).reset_index(drop=True)\n",
    "    X_train = train.drop(cols_to_drop, axis=1).reset_index(drop=True)\n",
    "    y_train = train[\"response\"]\n",
    "    X_test = test.drop(cols_to_drop, axis=1).reset_index(drop=True)\n",
    "    y_test = test[\"response\"]  \n",
    "    # configure the cross-validation procedure\n",
    "  #  cv_inner = KFold(n_splits=3, shuffle=True, random_state=1)\n",
    "    # define the model\n",
    "    model = RandomForestClassifier(random_state=1)\n",
    "    # define search space\n",
    "    space = dict()\n",
    "    space['n_estimators'] = [50,100,1000]\n",
    "   # space['max_features'] = [3,4,2]\n",
    "    space['max_depth'] = [1,2,3]\n",
    "    # define search\n",
    "    search = GridSearchCV(model, space, scoring='roc_auc', refit=True)\n",
    "    # execute search\n",
    "    result = search.fit(X_train, y_train)\n",
    "    # get the best performing model fit on the whole training set\n",
    "    best_model = result.best_estimator_\n",
    "    # evaluate model on the hold out dataset\n",
    "    prediction_rf = best_model.predict_proba(X_test)\n",
    "    auc = roc_auc_score(y_test, prediction_rf[:,1])\n",
    "    print(auc)\n",
    "  \n",
    "    prediction_rf = pd.DataFrame(prediction_rf[:,1])\n",
    "    prediction_rf.reset_index(drop=True, inplace=True)\n",
    "    mapping = {prediction_rf.columns[0]: \"prediction_rf\"}\n",
    "    prediction_rf = prediction_rf.rename(columns=mapping)\n",
    "\n",
    "    X_test.reset_index(drop=True, inplace=True)\n",
    "    y_test.reset_index(drop=True, inplace=True)\n",
    "\n",
    "    ped_df = pd.concat([y_test,prediction_rf],axis = 1)\n",
    "    pred_df = pred_df.append(ped_df)\n",
    "  #  auc = roc_auc_score(y_test, prediction_rf[:,1])\n",
    "\n",
    "    # store the result\n",
    " #  outer_results.append(acc)\n",
    "    # report progress\n",
    "    print('>auc=%.3f, est=%.3f, cfg=%s' % (auc, result.best_score_, result.best_params_))\n",
    "# summarize the estimated performance of the model\n",
    "print(\"RF AUC:\",round(roc_auc_score(pred_df.response, pred_df.prediction_rf),4))    \n",
    "#print('Accuracy: %.3f (%.3f)' % (mean(outer_results), std(outer_results)))"
   ]
  },
  {
   "cell_type": "code",
   "execution_count": 44,
   "metadata": {},
   "outputs": [
    {
     "name": "stdout",
     "output_type": "stream",
     "text": [
      "      response  prediction_rf\n",
      "0            0       0.027593\n",
      "1            0       0.027593\n",
      "2            0       0.030441\n",
      "3            0       0.026706\n",
      "4            0       0.025744\n",
      "...        ...            ...\n",
      "2892         0       0.024919\n",
      "2893         0       0.024919\n",
      "2894         0       0.026586\n",
      "2895         0       0.022236\n",
      "2896         0       0.022236\n",
      "\n",
      "[19741 rows x 2 columns]\n"
     ]
    }
   ],
   "source": [
    "# nested cross validation\n",
    "n_estimators = [1, 2, 8, 16, 32, 64, 100, 200,500,1000]\n",
    "for n in n_estimator: \n",
    "    partitioning_list = data.Partition.unique()\n",
    "    pred_df = pd.DataFrame()\n",
    "    for i in partitioning_list:\n",
    "        av_pred_rf = 0\n",
    "        for n in range(n_sample):  \n",
    "            test = data[data.Partition == i]\n",
    "            train = data[data.Partition != i]\n",
    "            train_pos = train[train.response==1]\n",
    "            train_neg = train[train.response==0].sample(n=1000, random_state=n) #, random_state=45\n",
    "            train = shuffle(pd.concat([train_pos, train_neg], axis=0)).reset_index(drop=True)\n",
    "            X_train = train.drop(cols_to_drop, axis=1).reset_index(drop=True)\n",
    "            y_train = train[\"response\"]\n",
    "            feature_list = list(X_train.columns)\n",
    "\n",
    "\n",
    "            # Instantiate the RF and the MLP\n",
    "            rf = RandomForestClassifier(random_state = n, max_depth = 3, n_estimators = 1000)  \n",
    "\n",
    "                    # Train the models on training data\n",
    "            rf.fit(X_train, y_train)\n",
    "            X_test = test.drop(cols_to_drop, axis=1).reset_index(drop=True)\n",
    "            y_test = test[\"response\"]  \n",
    "\n",
    "            #Get fetures importance per partition\n",
    "           # importances = list(rf.feature_importances_)\n",
    "           # feature_importances = [(feature, round(importance, 2)) for feature, importance in zip(feature_list, importances)]\n",
    "            # Sort\n",
    "          #  feature_importances = sorted(feature_importances, key = lambda x: x[1], reverse = True)\n",
    "         #   [print('Variable: {:20} Importance: {}'.format(*pair)) for pair in feature_importances]\n",
    "          #  gather all feature importance \n",
    "        #    for pair in feature_importances:\n",
    "         #       outfile.write(str(pair[0]) + \"\\t\" + str(pair[1]) + \"\\n\")\n",
    "\n",
    "            prediction_rf = rf.predict_proba(X_test)\n",
    "\n",
    "            av_pred_rf += prediction_rf\n",
    "\n",
    "        pred_val_rf = av_pred_rf/n_sample\n",
    "        print(pred_val_rf)\n",
    "\n",
    "        pred_val_rf = pd.DataFrame(pred_val_rf[:,1])\n",
    "        pred_val_rf.reset_index(drop=True, inplace=True)\n",
    "        mapping = {pred_val_rf.columns[0]: \"prediction_rf\"}\n",
    "        pred_val_rf = pred_val_rf.rename(columns=mapping)\n",
    "\n",
    "        X_test.reset_index(drop=True, inplace=True)\n",
    "        y_test.reset_index(drop=True, inplace=True)\n",
    "\n",
    "        ped_df = pd.concat([X_test,y_test,pred_val_rf],axis = 1)\n",
    "        pred_df = pred_df.append(ped_df)\n",
    "\n",
    "\n",
    "    print(\"RF AUC:\",round(roc_auc_score(pred_df.response, pred_df.prediction_rf),4))    \n",
    "    #outfile.close()  \n",
    "    \n",
    "\n"
   ]
  },
  {
   "cell_type": "code",
   "execution_count": null,
   "metadata": {},
   "outputs": [],
   "source": []
  }
 ],
 "metadata": {
  "kernelspec": {
   "display_name": "Python 3",
   "language": "python",
   "name": "python3"
  },
  "language_info": {
   "codemirror_mode": {
    "name": "ipython",
    "version": 3
   },
   "file_extension": ".py",
   "mimetype": "text/x-python",
   "name": "python",
   "nbconvert_exporter": "python",
   "pygments_lexer": "ipython3",
   "version": "3.7.6"
  }
 },
 "nbformat": 4,
 "nbformat_minor": 2
}
