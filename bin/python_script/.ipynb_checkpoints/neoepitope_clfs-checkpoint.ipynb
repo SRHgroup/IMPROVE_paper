{
 "cells": [
  {
   "cell_type": "code",
   "execution_count": 1,
   "metadata": {},
   "outputs": [],
   "source": [
    "\n",
    "import os\n",
    "import re\n",
    "import pandas as pd\n",
    "import numpy as np\n",
    "import matplotlib.pyplot as plt\n",
    "import seaborn as sns\n",
    "\n",
    "from sklearn.ensemble import RandomForestClassifier\n",
    "from sklearn.model_selection import KFold, train_test_split\n",
    "from sklearn.metrics import roc_auc_score, roc_curve, auc\n",
    "from sklearn.preprocessing import StandardScaler\n",
    "from sklearn.utils import shuffle\n",
    "from sklearn.neural_network import MLPClassifier"
   ]
  },
  {
   "cell_type": "code",
   "execution_count": 2,
   "metadata": {},
   "outputs": [
    {
     "data": {
      "text/plain": [
       "['f002', 'f001', 'f003', 'f004', 'f000']"
      ]
     },
     "execution_count": 2,
     "metadata": {},
     "output_type": "execute_result"
    }
   ],
   "source": [
    "# data = pd.read_csv('../../data/data_frame.csv')\n",
    "#files = [f for f in os.listdir('../../data/partitioning_data/From_computerome') if re.match(r'c*', f)]\n",
    "files = [filename for filename in os.listdir('../../data/partitioning_data/from_computerome_V2') if filename.startswith(\"f\")]\n",
    "files"
   ]
  },
  {
   "cell_type": "code",
   "execution_count": 5,
   "metadata": {},
   "outputs": [],
   "source": [
    "names = [\"Mut_peptide\", \"HLA_allele\", \"cellular_prevalence\", \"Expression_Level\", \n",
    "         \"priority_Score\", \"Allele_Frequency\", \"Mut_MHCrank_EL\", \"Mut_MHCrank_BA\", \n",
    "         \"variant_allele_frequency\", \"response\", \"Self_Similarity\", \"exp_rank_binary\", \n",
    "         \"clonal_mut\", \"hydro\", \"pI\", \"Cancer_Driver_Gene\", \n",
    "         \"Mutation_Consequence\",\"est_freq\",\"mut_rep_rank_netstabpan\"]\n",
    "\n",
    "\n",
    "\n"
   ]
  },
  {
   "cell_type": "code",
   "execution_count": 6,
   "metadata": {},
   "outputs": [
    {
     "name": "stdout",
     "output_type": "stream",
     "text": [
      "1\n",
      "002\n",
      "Index(['Mut_peptide', 'HLA_allele', 'cellular_prevalence', 'Expression_Level',\n",
      "       'priority_Score', 'Allele_Frequency', 'Mut_MHCrank_EL',\n",
      "       'Mut_MHCrank_BA', 'variant_allele_frequency', 'response',\n",
      "       'Self_Similarity', 'exp_rank_binary', 'clonal_mut', 'hydro', 'pI',\n",
      "       'Cancer_Driver_Gene', 'Mutation_Consequence', 'est_freq',\n",
      "       'mut_rep_rank_netstabpan'],\n",
      "      dtype='object')\n",
      "1979\n",
      "Variable: cellular_prevalence  Importance: 0.11\n",
      "Variable: variant_allele_frequency Importance: 0.1\n",
      "Variable: hydro                Importance: 0.1\n",
      "Variable: Allele_Frequency     Importance: 0.09\n",
      "Variable: Mut_MHCrank_EL       Importance: 0.09\n",
      "Variable: Mut_MHCrank_BA       Importance: 0.09\n",
      "Variable: Self_Similarity      Importance: 0.09\n",
      "Variable: Expression_Level     Importance: 0.08\n",
      "Variable: pI                   Importance: 0.08\n",
      "Variable: mut_rep_rank_netstabpan Importance: 0.08\n",
      "Variable: priority_Score       Importance: 0.06\n",
      "Variable: exp_rank_binary      Importance: 0.01\n",
      "Variable: clonal_mut           Importance: 0.01\n",
      "Variable: Mutation_Consequence Importance: 0.01\n",
      "Variable: Cancer_Driver_Gene   Importance: 0.0\n",
      "001\n",
      "Index(['Mut_peptide', 'HLA_allele', 'cellular_prevalence', 'Expression_Level',\n",
      "       'priority_Score', 'Allele_Frequency', 'Mut_MHCrank_EL',\n",
      "       'Mut_MHCrank_BA', 'variant_allele_frequency', 'response',\n",
      "       'Self_Similarity', 'exp_rank_binary', 'clonal_mut', 'hydro', 'pI',\n",
      "       'Cancer_Driver_Gene', 'Mutation_Consequence', 'est_freq',\n",
      "       'mut_rep_rank_netstabpan'],\n",
      "      dtype='object')\n",
      "1914\n",
      "Variable: hydro                Importance: 0.12\n",
      "Variable: cellular_prevalence  Importance: 0.09\n",
      "Variable: Expression_Level     Importance: 0.09\n",
      "Variable: Allele_Frequency     Importance: 0.09\n",
      "Variable: Mut_MHCrank_BA       Importance: 0.09\n",
      "Variable: variant_allele_frequency Importance: 0.09\n",
      "Variable: Self_Similarity      Importance: 0.09\n",
      "Variable: Mut_MHCrank_EL       Importance: 0.08\n",
      "Variable: pI                   Importance: 0.08\n",
      "Variable: mut_rep_rank_netstabpan Importance: 0.08\n",
      "Variable: priority_Score       Importance: 0.06\n",
      "Variable: exp_rank_binary      Importance: 0.01\n",
      "Variable: clonal_mut           Importance: 0.01\n",
      "Variable: Mutation_Consequence Importance: 0.01\n",
      "Variable: Cancer_Driver_Gene   Importance: 0.0\n",
      "003\n",
      "Index(['Mut_peptide', 'HLA_allele', 'cellular_prevalence', 'Expression_Level',\n",
      "       'priority_Score', 'Allele_Frequency', 'Mut_MHCrank_EL',\n",
      "       'Mut_MHCrank_BA', 'variant_allele_frequency', 'response',\n",
      "       'Self_Similarity', 'exp_rank_binary', 'clonal_mut', 'hydro', 'pI',\n",
      "       'Cancer_Driver_Gene', 'Mutation_Consequence', 'est_freq',\n",
      "       'mut_rep_rank_netstabpan'],\n",
      "      dtype='object')\n",
      "1934\n",
      "Variable: cellular_prevalence  Importance: 0.1\n",
      "Variable: Mut_MHCrank_EL       Importance: 0.1\n",
      "Variable: variant_allele_frequency Importance: 0.1\n",
      "Variable: Expression_Level     Importance: 0.09\n",
      "Variable: Allele_Frequency     Importance: 0.09\n",
      "Variable: Mut_MHCrank_BA       Importance: 0.09\n",
      "Variable: Self_Similarity      Importance: 0.09\n",
      "Variable: hydro                Importance: 0.09\n",
      "Variable: pI                   Importance: 0.08\n",
      "Variable: mut_rep_rank_netstabpan Importance: 0.08\n",
      "Variable: priority_Score       Importance: 0.07\n",
      "Variable: exp_rank_binary      Importance: 0.01\n",
      "Variable: clonal_mut           Importance: 0.01\n",
      "Variable: Mutation_Consequence Importance: 0.01\n",
      "Variable: Cancer_Driver_Gene   Importance: 0.0\n",
      "004\n",
      "Index(['Mut_peptide', 'HLA_allele', 'cellular_prevalence', 'Expression_Level',\n",
      "       'priority_Score', 'Allele_Frequency', 'Mut_MHCrank_EL',\n",
      "       'Mut_MHCrank_BA', 'variant_allele_frequency', 'response',\n",
      "       'Self_Similarity', 'exp_rank_binary', 'clonal_mut', 'hydro', 'pI',\n",
      "       'Cancer_Driver_Gene', 'Mutation_Consequence', 'est_freq',\n",
      "       'mut_rep_rank_netstabpan'],\n",
      "      dtype='object')\n",
      "1862\n",
      "Variable: Self_Similarity      Importance: 0.1\n",
      "Variable: hydro                Importance: 0.1\n",
      "Variable: cellular_prevalence  Importance: 0.09\n",
      "Variable: Allele_Frequency     Importance: 0.09\n",
      "Variable: Mut_MHCrank_EL       Importance: 0.09\n",
      "Variable: Mut_MHCrank_BA       Importance: 0.09\n",
      "Variable: variant_allele_frequency Importance: 0.09\n",
      "Variable: Expression_Level     Importance: 0.08\n",
      "Variable: pI                   Importance: 0.08\n",
      "Variable: mut_rep_rank_netstabpan Importance: 0.07\n",
      "Variable: priority_Score       Importance: 0.06\n",
      "Variable: exp_rank_binary      Importance: 0.01\n",
      "Variable: clonal_mut           Importance: 0.01\n",
      "Variable: Cancer_Driver_Gene   Importance: 0.01\n",
      "Variable: Mutation_Consequence Importance: 0.01\n",
      "000\n",
      "Index(['Mut_peptide', 'HLA_allele', 'cellular_prevalence', 'Expression_Level',\n",
      "       'priority_Score', 'Allele_Frequency', 'Mut_MHCrank_EL',\n",
      "       'Mut_MHCrank_BA', 'variant_allele_frequency', 'response',\n",
      "       'Self_Similarity', 'exp_rank_binary', 'clonal_mut', 'hydro', 'pI',\n",
      "       'Cancer_Driver_Gene', 'Mutation_Consequence', 'est_freq',\n",
      "       'mut_rep_rank_netstabpan'],\n",
      "      dtype='object')\n",
      "1941\n",
      "Variable: Expression_Level     Importance: 0.1\n",
      "Variable: hydro                Importance: 0.1\n",
      "Variable: cellular_prevalence  Importance: 0.09\n",
      "Variable: Mut_MHCrank_EL       Importance: 0.09\n",
      "Variable: variant_allele_frequency Importance: 0.09\n",
      "Variable: Self_Similarity      Importance: 0.09\n",
      "Variable: Allele_Frequency     Importance: 0.08\n",
      "Variable: Mut_MHCrank_BA       Importance: 0.08\n",
      "Variable: pI                   Importance: 0.08\n",
      "Variable: mut_rep_rank_netstabpan Importance: 0.08\n",
      "Variable: priority_Score       Importance: 0.06\n",
      "Variable: exp_rank_binary      Importance: 0.02\n",
      "Variable: clonal_mut           Importance: 0.01\n",
      "Variable: Cancer_Driver_Gene   Importance: 0.01\n",
      "Variable: Mutation_Consequence Importance: 0.01\n",
      "RF AUC: 0.6422\n",
      "MLP AUC: 0.5713\n"
     ]
    }
   ],
   "source": [
    "my_auc=list()\n",
    "for i in range(1,2): \n",
    "    print(i)\n",
    "    pred_df = pd.DataFrame()\n",
    "    for file in files:\n",
    "        filename = file[1:]\n",
    "        print(filename)\n",
    "      #  train\n",
    "        train = pd.read_csv('../../data/partitioning_data/From_computerome/' + file, sep=' ', header=0,  names=names)\n",
    "        print(train.columns)\n",
    "        train = train.dropna()\n",
    "        train['response'].value_counts()\n",
    "       # print(len(train))\n",
    "        train_pos = train[train.response==1]\n",
    "        train_neg = train[train.response==0].sample(n=500, random_state=45)\n",
    "        train = shuffle(pd.concat([train_pos, train_neg], axis=0)).reset_index(drop=True)\n",
    "\n",
    "        # test \n",
    "        test = pd.read_csv('../../data/partitioning_data/From_computerome/c' + filename, sep=' ', header=0,  names=names)\n",
    "        test = test.dropna()\n",
    "        test['response'].value_counts()\n",
    "        print(len(test))\n",
    "        test_pos = test[test.response==1]\n",
    "      #  len(test_pos)\n",
    "        test_neg = test[test.response==0].sample(n=500, random_state=45)\n",
    "        test = shuffle(pd.concat([test_pos, test_neg], axis=0)).reset_index(drop=True)\n",
    "\n",
    "         #Drop Self_similarity=='acid'\n",
    "        if type(train[\"Self_Similarity\"][0])==str:\n",
    "            train = train[~train[\"Self_Similarity\"].str.contains('acid')].reset_index(drop=\"True\")\n",
    "            train[\"Self_Similarity\"] = train[\"Self_Similarity\"].astype('float32')\n",
    "        if type(test[\"Self_Similarity\"][0])==str:\n",
    "            test = test[~test[\"Self_Similarity\"].str.contains('acid')].reset_index(drop=\"True\")\n",
    "            test[\"Self_Similarity\"] = test[\"Self_Similarity\"].astype('float32')\n",
    "\n",
    "\n",
    "        X_train = train.drop(['response','Mut_peptide', 'HLA_allele',\"est_freq\"], axis=1).reset_index(drop=True)\n",
    "        y_train = train[\"response\"]\n",
    "        # Test set \n",
    "\n",
    "        test.columns = train.columns \n",
    "        X_test = test.drop(['response','Mut_peptide', 'HLA_allele',\"est_freq\"], axis=1).reset_index(drop=True)\n",
    "        y_test = test[\"response\"]  \n",
    "#'est_freq',,\"mut_rep_rank_netstabpan\",\"mut_rep_rank_netstabpan\"'est_freq',\n",
    "\n",
    "        test_cols = X_test.columns\n",
    "     \n",
    "\n",
    "        # Plot the importances \n",
    "    #     plt.style.use('fivethirtyeight')\n",
    "    #     x_values = list(range(len(importances)))\n",
    "    #     plt.bar(x_values, importances, orientation = 'vertical')\n",
    "    #     plt.xticks(x_values, feature_list, rotation='vertical')\n",
    "    #     plt.ylabel('Importance'); plt.xlabel('Variable'); plt.title('Variable Importances')\n",
    "    #     plt.show()\n",
    "\n",
    "        # Predict\n",
    "        predictions_rf = rf.predict_proba(X_test)\n",
    "        predictions_mlp = mlp.predict_proba(X_test)\n",
    "\n",
    "        pred_df = pred_df.append(pd.concat([pd.DataFrame(X_test, columns=X_test.columns), \n",
    "                                            pd.Series(y_test, name='response'), \n",
    "                                            pd.Series(predictions_rf[:,1], name='prediction_rf'),\n",
    "                                            pd.Series(predictions_mlp[:,1], name='prediction_mlp')], axis=1)).reset_index(drop=True)\n",
    "\n",
    "        pred_df=pred_df.dropna()\n",
    "    #    print(pred_df)\n",
    "    #Print final AUCs \n",
    "    print(\"RF AUC:\",round(roc_auc_score(pred_df.response, pred_df.prediction_rf),4))\n",
    "    print(\"MLP AUC:\",round(roc_auc_score(pred_df.response, pred_df.prediction_mlp),4))\n",
    "    my_auc.append(round(roc_auc_score(pred_df.response, pred_df.prediction_rf),4))\n",
    "\n",
    "\n"
   ]
  },
  {
   "cell_type": "code",
   "execution_count": 51,
   "metadata": {},
   "outputs": [
    {
     "name": "stdout",
     "output_type": "stream",
     "text": [
      "[0.63, 0.6262, 0.6291, 0.6253]\n",
      "224\n"
     ]
    }
   ],
   "source": [
    "print(my_auc)\n",
    "np.std(my_auc, axis=0)\n",
    "#np.mean(my_auc, axis=0)\n",
    "\n",
    "print(len(train_pos))"
   ]
  },
  {
   "cell_type": "code",
   "execution_count": 52,
   "metadata": {},
   "outputs": [],
   "source": [
    "from sklearn.metrics import confusion_matrix"
   ]
  },
  {
   "cell_type": "code",
   "execution_count": 54,
   "metadata": {},
   "outputs": [
    {
     "data": {
      "text/plain": [
       "array([[2359,  141],\n",
       "       [ 253,   27]])"
      ]
     },
     "execution_count": 54,
     "metadata": {},
     "output_type": "execute_result"
    }
   ],
   "source": [
    "confusion_matrix(pred_df.response, pred_df.prediction_rf>0.5)"
   ]
  },
  {
   "cell_type": "code",
   "execution_count": 22,
   "metadata": {
    "scrolled": true
   },
   "outputs": [
    {
     "data": {
      "image/png": "[encoded data removed]",
      "text/plain": [
       "<Figure size 432x288 with 1 Axes>"
      ]
     },
     "metadata": {
      "needs_background": "light"
     },
     "output_type": "display_data"
    },
    {
     "data": {
      "image/png": "[encoded data removed]",
      "text/plain": [
       "<Figure size 432x288 with 1 Axes>"
      ]
     },
     "metadata": {
      "needs_background": "light"
     },
     "output_type": "display_data"
    }
   ],
   "source": [
    "plt.hist(pred_df.prediction_rf, alpha=0.5, label='prediction')\n",
    "plt.hist(pred_df.response, alpha=0.5, label='response')\n",
    "plt.legend()\n",
    "plt.title(\"Histogram of the responses and the predicted probabilities\\n Ranfom Forest\")\n",
    "plt.show()\n",
    "\n",
    "plt.hist(pred_df.prediction_mlp, alpha=0.5, label='prediction')\n",
    "plt.hist(pred_df.response, alpha=0.5, label='response')\n",
    "plt.legend()\n",
    "plt.title(\"Histogram of the responses and the predicted probabilities\\n MLP\")\n",
    "plt.show()"
   ]
  },
  {
   "cell_type": "code",
   "execution_count": 23,
   "metadata": {},
   "outputs": [
    {
     "data": {
      "image/png": "[encoded data removed]",
      "text/plain": [
       "<Figure size 432x288 with 1 Axes>"
      ]
     },
     "metadata": {
      "needs_background": "light"
     },
     "output_type": "display_data"
    }
   ],
   "source": [
    "fpr_rf, tpr_rf, threshold_rf = roc_curve(pred_df.response, pred_df.prediction_rf)\n",
    "roc_auc_rf = auc(fpr_rf, tpr_rf)\n",
    "\n",
    "fpr_mlp, tpr_mlp, threshold_mlp = roc_curve(pred_df.response, pred_df.prediction_mlp)\n",
    "roc_auc_mlp = auc(fpr_mlp, tpr_mlp)\n",
    "\n",
    "plt.title('Receiver Operating Characteristic')\n",
    "plt.plot(fpr_rf, tpr_rf, 'b', label = 'AUC RF= %0.2f' % np.mean(my_auc, axis=0))\n",
    "plt.plot(fpr_mlp, tpr_mlp, 'g', label = 'AUC MLP= %0.2f' % roc_auc_mlp)\n",
    "\n",
    "plt.legend(loc = 'lower right')\n",
    "plt.plot([0, 1], [0, 1],'r--')\n",
    "plt.xlim([0, 1])\n",
    "plt.ylim([0, 1])\n",
    "plt.ylabel('True Positive Rate')\n",
    "plt.xlabel('False Positive Rate')\n",
    "plt.show()"
   ]
  },
  {
   "cell_type": "code",
   "execution_count": 9,
   "metadata": {},
   "outputs": [
    {
     "name": "stdout",
     "output_type": "stream",
     "text": [
      "Index(['cellular_prevalence', 'Expression_Level', 'priority_Score',\n",
      "       'Allele_Frequency', 'Mut_MHCrank_EL', 'Mut_MHCrank_BA',\n",
      "       'variant_allele_frequency', 'Self_Similarity', 'exp_rank_binary',\n",
      "       'clonal_mut', 'hydro', 'pI', 'Cancer_Driver_Gene',\n",
      "       'Mutation_Consequence', 'mut_rep_rank_netstabpan'],\n",
      "      dtype='object')\n"
     ]
    }
   ],
   "source": [
    "print(test_cols)"
   ]
  },
  {
   "cell_type": "code",
   "execution_count": 135,
   "metadata": {},
   "outputs": [
    {
     "name": "stdout",
     "output_type": "stream",
     "text": [
      "   cellular_prevalence  Expression_Level  priority_Score  Mut_MHCrank_EL  \\\n",
      "0             0.999402          0.528780               1          0.1184   \n",
      "1             0.995085         19.556012               0          3.9325   \n",
      "2             0.999727         22.806126               3          0.1295   \n",
      "3             0.652702          2.034709              31          0.3186   \n",
      "4             0.748381          0.486609              15          0.2309   \n",
      "\n",
      "   Mut_MHCrank_BA  variant_allele_frequency  Self_Similarity  exp_rank_binary  \\\n",
      "0        0.025300                  0.703959         0.912461                0   \n",
      "1        6.222600                  0.740458         0.972549                0   \n",
      "2        0.192100                  0.728878         0.963082                1   \n",
      "3        0.493392                  0.185185         0.947085                1   \n",
      "4        0.512452                  0.400000         0.972313                0   \n",
      "\n",
      "   clonal_mut     hydro         pI  Cancer_Driver_Gene  Mutation_Consequence  \\\n",
      "0           1  1.122222   6.099982                   0                     2   \n",
      "1           1 -1.480000   5.493109                   0                     1   \n",
      "2           1  0.488889   3.849974                   1                     2   \n",
      "3           0 -1.500000  12.500130                   0                     1   \n",
      "4           0  1.137500   9.348818                   0                     1   \n",
      "\n",
      "   mut_rep_rank_netstabpan  response  prediction_rf  prediction_mlp  \n",
      "0                     0.01         0          0.447        0.599349  \n",
      "1                     8.50         0          0.316        0.326599  \n",
      "2                     0.40         1          0.578        0.568868  \n",
      "3                    44.00         0          0.375        0.609652  \n",
      "4                    31.00         0          0.303        0.610720  \n"
     ]
    }
   ],
   "source": [
    "print(pred_df.head())\n",
    "# print to outfile \n",
    "pred_df.to_csv(r'pred_df.txt', header=True, index=None, sep=' ', mode='a')"
   ]
  },
  {
   "cell_type": "code",
   "execution_count": 10,
   "metadata": {},
   "outputs": [],
   "source": [
    "pred_df['predicted'] = pred_df.prediction_rf > 0.5"
   ]
  },
  {
   "cell_type": "code",
   "execution_count": 45,
   "metadata": {},
   "outputs": [
    {
     "name": "stdout",
     "output_type": "stream",
     "text": [
      "   cellular_prevalence  Expression_Level  priority_Score  Allele_Frequency  \\\n",
      "0             0.997656          0.791416               8             0.130   \n",
      "1             0.993890          0.444043              14             0.565   \n",
      "2             0.999744          3.744599               2             0.050   \n",
      "3             0.999509          2.958049               7             0.147   \n",
      "4             0.999770         47.446245               5             0.101   \n",
      "\n",
      "   Mut_MHCrank_EL  Mut_MHCrank_BA  variant_allele_frequency  Self_Similarity  \\\n",
      "0          0.2631        0.083900                  0.571906         0.869771   \n",
      "1          0.0988        0.498986                  0.344828         0.984656   \n",
      "2          0.4696        0.476600                  0.761553         0.931151   \n",
      "3          0.1340        0.814909                  0.343434         0.975784   \n",
      "4          0.3647        1.198300                  0.633621         0.972637   \n",
      "\n",
      "   exp_rank_binary  clonal_mut     hydro         pI  Cancer_Driver_Gene  \\\n",
      "0                0           1 -0.522222  12.199266                   0   \n",
      "1                0           1 -0.622222   9.695021                   0   \n",
      "2                1           1 -0.311111  12.500071                   0   \n",
      "3                1           1  0.511111   4.109266                   0   \n",
      "4                1           1  0.344444   6.401987                   0   \n",
      "\n",
      "   Mutation_Consequence  mut_rep_rank_netstabpan  response  prediction_rf  \\\n",
      "0                     2                    90.00         0          0.451   \n",
      "1                     1                    17.00         0          0.419   \n",
      "2                     1                    48.00         0          0.369   \n",
      "3                     1                     0.05         1          0.454   \n",
      "4                     1                     3.00         0          0.415   \n",
      "\n",
      "   prediction_mlp  predicted  \n",
      "0        0.315238      False  \n",
      "1        0.381460      False  \n",
      "2        0.472548      False  \n",
      "3        0.586568      False  \n",
      "4        0.455424      False  \n"
     ]
    }
   ],
   "source": [
    "print(pred_df.head())"
   ]
  },
  {
   "cell_type": "code",
   "execution_count": 14,
   "metadata": {},
   "outputs": [
    {
     "data": {
      "text/plain": [
       "0       0.419\n",
       "1       0.246\n",
       "2       0.378\n",
       "3       0.192\n",
       "4       0.414\n",
       "        ...  \n",
       "2774    0.372\n",
       "2775    0.279\n",
       "2776    0.199\n",
       "2777    0.062\n",
       "2778    0.307\n",
       "Name: prediction_rf, Length: 2779, dtype: float64"
      ]
     },
     "execution_count": 14,
     "metadata": {},
     "output_type": "execute_result"
    }
   ],
   "source": [
    "pred_df['prediction_rf']"
   ]
  },
  {
   "cell_type": "code",
   "execution_count": 59,
   "metadata": {},
   "outputs": [
    {
     "data": {
      "text/plain": [
       "0    997\n",
       "1     41\n",
       "Name: response, dtype: int64"
      ]
     },
     "execution_count": 59,
     "metadata": {},
     "output_type": "execute_result"
    }
   ],
   "source": [
    "Valid = pd.read_csv('../../data/Valdation/RCC_peptide_scrrened.txt', sep='\\t')\n",
    "Valid[\"response\"].value_counts()"
   ]
  },
  {
   "cell_type": "code",
   "execution_count": 11,
   "metadata": {},
   "outputs": [
    {
     "name": "stdout",
     "output_type": "stream",
     "text": [
      "40\n",
      "1035\n",
      "RF AUC: 0.5302\n",
      "MLP AUC: 0.4366\n",
      "80\n",
      "1035\n",
      "RF AUC: 0.475\n",
      "MLP AUC: 0.4198\n",
      "120\n",
      "1035\n",
      "RF AUC: 0.5034\n",
      "MLP AUC: 0.4293\n",
      "160\n",
      "1035\n",
      "RF AUC: 0.5007\n",
      "MLP AUC: 0.4486\n",
      "200\n",
      "1035\n",
      "RF AUC: 0.4923\n",
      "MLP AUC: 0.4505\n",
      "240\n",
      "1035\n",
      "RF AUC: 0.4828\n",
      "MLP AUC: 0.443\n",
      "280\n",
      "1035\n",
      "RF AUC: 0.4936\n",
      "MLP AUC: 0.4501\n",
      "320\n",
      "1035\n",
      "RF AUC: 0.5038\n",
      "MLP AUC: 0.4506\n",
      "360\n",
      "1035\n",
      "RF AUC: 0.5021\n",
      "MLP AUC: 0.4482\n"
     ]
    }
   ],
   "source": [
    "# valid data RCC\n",
    "\n",
    "my_auc_valid=list()\n",
    "for i in range(40,400,40): \n",
    "    Valid = pd.read_csv('../../data/Valdation/RCC_peptide_scrrened.txt', sep='\\t')\n",
    "\n",
    "    if type(Valid[\"Self_Similarity\"][0])==str:\n",
    "            Valid = Valid[~Valid[\"Self_Similarity\"].str.contains('acid')].reset_index(drop=\"True\")\n",
    "            Valid[\"Self_Similarity\"] = Valid[\"Self_Similarity\"].astype('float32')\n",
    "    print(i)\n",
    "    Valid_pos = Valid[Valid.response==1]\n",
    "    print(len(Valid))\n",
    "    Valid_neg = Valid[Valid.response==0].sample(n=i, random_state=45)\n",
    "    Valid = shuffle(pd.concat([Valid_pos, Valid_neg], axis=0)).reset_index(drop=True)\n",
    "    X_valid = Valid.drop(['Mut_peptide', 'HLA_allele','response','Est..frequency','Allele_Frequency'], axis=1).reset_index(drop=True)\n",
    "    y_valid = Valid[\"response\"]\n",
    "    predictions_rf_valid = rf.predict_proba(X_valid)\n",
    "    predictions_mlp_valid = mlp.predict_proba(X_valid)\n",
    "    \n",
    "    pred_df_valid = pd.DataFrame()\n",
    "    pred_df_valid = pred_df_valid.append(pd.concat([pd.DataFrame(X_valid, columns=X_valid.columns), \n",
    "                                            pd.Series(y_valid, name='response'), \n",
    "                                            pd.Series(predictions_rf_valid[:,1], name='prediction_rf'),\n",
    "                                            pd.Series(predictions_mlp_valid[:,1], name='prediction_mlp')], axis=1)).reset_index(drop=True)\n",
    " \n",
    "    print(\"RF AUC:\",round(roc_auc_score(pred_df_valid.response, pred_df_valid.prediction_rf),4))\n",
    "    print(\"MLP AUC:\",round(roc_auc_score(pred_df_valid.response, pred_df_valid.prediction_mlp),4))\n",
    "    my_auc_valid.append(round(roc_auc_score(pred_df_valid.response, pred_df_valid.prediction_rf),4))\n",
    "\n",
    "    \n",
    "    \n",
    "    \n"
   ]
  },
  {
   "cell_type": "code",
   "execution_count": 15,
   "metadata": {},
   "outputs": [
    {
     "ename": "NameError",
     "evalue": "name 'my_auc_valid' is not defined",
     "output_type": "error",
     "traceback": [
      "\u001b[0;31m---------------------------------------------------------------------------\u001b[0m",
      "\u001b[0;31mNameError\u001b[0m                                 Traceback (most recent call last)",
      "\u001b[0;32m<ipython-input-15-8fc0f1443a31>\u001b[0m in \u001b[0;36m<module>\u001b[0;34m\u001b[0m\n\u001b[0;32m----> 1\u001b[0;31m \u001b[0mmy_auc_valid\u001b[0m\u001b[0;34m\u001b[0m\u001b[0;34m\u001b[0m\u001b[0m\n\u001b[0m",
      "\u001b[0;31mNameError\u001b[0m: name 'my_auc_valid' is not defined"
     ]
    }
   ],
   "source": [
    "my_auc_valid"
   ]
  },
  {
   "cell_type": "code",
   "execution_count": 13,
   "metadata": {},
   "outputs": [
    {
     "data": {
      "text/html": [
       "<div>\n",
       "<style scoped>\n",
       "    .dataframe tbody tr th:only-of-type {\n",
       "        vertical-align: middle;\n",
       "    }\n",
       "\n",
       "    .dataframe tbody tr th {\n",
       "        vertical-align: top;\n",
       "    }\n",
       "\n",
       "    .dataframe thead th {\n",
       "        text-align: right;\n",
       "    }\n",
       "</style>\n",
       "<table border=\"1\" class=\"dataframe\">\n",
       "  <thead>\n",
       "    <tr style=\"text-align: right;\">\n",
       "      <th></th>\n",
       "      <th>cellular_prevalence</th>\n",
       "      <th>Expression_Level</th>\n",
       "      <th>priority_Score</th>\n",
       "      <th>Mut_MHCrank_EL</th>\n",
       "      <th>Mut_MHCrank_BA</th>\n",
       "      <th>variant_allele_frequency</th>\n",
       "      <th>Self_Similarity</th>\n",
       "      <th>exp_rank_binary</th>\n",
       "      <th>clonal_mut</th>\n",
       "      <th>hydro</th>\n",
       "      <th>pI</th>\n",
       "      <th>Cancer_Driver_Gene</th>\n",
       "      <th>Mutation_Consequence</th>\n",
       "      <th>mut_rep_.rank_netstabpan</th>\n",
       "      <th>response</th>\n",
       "      <th>prediction_rf</th>\n",
       "      <th>prediction_mlp</th>\n",
       "    </tr>\n",
       "  </thead>\n",
       "  <tbody>\n",
       "    <tr>\n",
       "      <th>0</th>\n",
       "      <td>0.998152</td>\n",
       "      <td>8.548303</td>\n",
       "      <td>67</td>\n",
       "      <td>0.8121</td>\n",
       "      <td>0.9050</td>\n",
       "      <td>0.482353</td>\n",
       "      <td>0.965832</td>\n",
       "      <td>0</td>\n",
       "      <td>0</td>\n",
       "      <td>-0.388889</td>\n",
       "      <td>10.455128</td>\n",
       "      <td>0</td>\n",
       "      <td>1</td>\n",
       "      <td>0.15</td>\n",
       "      <td>0</td>\n",
       "      <td>0.512</td>\n",
       "      <td>0.584607</td>\n",
       "    </tr>\n",
       "    <tr>\n",
       "      <th>1</th>\n",
       "      <td>0.998073</td>\n",
       "      <td>0.442719</td>\n",
       "      <td>0</td>\n",
       "      <td>17.8351</td>\n",
       "      <td>2.5192</td>\n",
       "      <td>0.432653</td>\n",
       "      <td>0.935548</td>\n",
       "      <td>0</td>\n",
       "      <td>1</td>\n",
       "      <td>1.590909</td>\n",
       "      <td>5.759312</td>\n",
       "      <td>1</td>\n",
       "      <td>1</td>\n",
       "      <td>0.01</td>\n",
       "      <td>0</td>\n",
       "      <td>0.592</td>\n",
       "      <td>0.221186</td>\n",
       "    </tr>\n",
       "    <tr>\n",
       "      <th>2</th>\n",
       "      <td>0.714285</td>\n",
       "      <td>0.000000</td>\n",
       "      <td>5</td>\n",
       "      <td>0.0990</td>\n",
       "      <td>0.0492</td>\n",
       "      <td>0.361111</td>\n",
       "      <td>0.987627</td>\n",
       "      <td>0</td>\n",
       "      <td>0</td>\n",
       "      <td>-0.011111</td>\n",
       "      <td>3.849974</td>\n",
       "      <td>0</td>\n",
       "      <td>1</td>\n",
       "      <td>0.05</td>\n",
       "      <td>0</td>\n",
       "      <td>0.323</td>\n",
       "      <td>0.403160</td>\n",
       "    </tr>\n",
       "    <tr>\n",
       "      <th>3</th>\n",
       "      <td>0.996612</td>\n",
       "      <td>2.933181</td>\n",
       "      <td>7</td>\n",
       "      <td>2.5243</td>\n",
       "      <td>1.5207</td>\n",
       "      <td>0.447761</td>\n",
       "      <td>0.951162</td>\n",
       "      <td>0</td>\n",
       "      <td>1</td>\n",
       "      <td>1.400000</td>\n",
       "      <td>3.749972</td>\n",
       "      <td>0</td>\n",
       "      <td>1</td>\n",
       "      <td>85.00</td>\n",
       "      <td>0</td>\n",
       "      <td>0.455</td>\n",
       "      <td>0.360568</td>\n",
       "    </tr>\n",
       "    <tr>\n",
       "      <th>4</th>\n",
       "      <td>0.996559</td>\n",
       "      <td>68.938331</td>\n",
       "      <td>50</td>\n",
       "      <td>0.5611</td>\n",
       "      <td>0.3800</td>\n",
       "      <td>0.386364</td>\n",
       "      <td>0.976691</td>\n",
       "      <td>0</td>\n",
       "      <td>1</td>\n",
       "      <td>-0.266667</td>\n",
       "      <td>9.449106</td>\n",
       "      <td>0</td>\n",
       "      <td>1</td>\n",
       "      <td>0.06</td>\n",
       "      <td>1</td>\n",
       "      <td>0.453</td>\n",
       "      <td>0.176473</td>\n",
       "    </tr>\n",
       "    <tr>\n",
       "      <th>...</th>\n",
       "      <td>...</td>\n",
       "      <td>...</td>\n",
       "      <td>...</td>\n",
       "      <td>...</td>\n",
       "      <td>...</td>\n",
       "      <td>...</td>\n",
       "      <td>...</td>\n",
       "      <td>...</td>\n",
       "      <td>...</td>\n",
       "      <td>...</td>\n",
       "      <td>...</td>\n",
       "      <td>...</td>\n",
       "      <td>...</td>\n",
       "      <td>...</td>\n",
       "      <td>...</td>\n",
       "      <td>...</td>\n",
       "      <td>...</td>\n",
       "    </tr>\n",
       "    <tr>\n",
       "      <th>396</th>\n",
       "      <td>0.998511</td>\n",
       "      <td>8.443811</td>\n",
       "      <td>75</td>\n",
       "      <td>0.2877</td>\n",
       "      <td>0.3819</td>\n",
       "      <td>0.216216</td>\n",
       "      <td>0.887609</td>\n",
       "      <td>1</td>\n",
       "      <td>1</td>\n",
       "      <td>0.788889</td>\n",
       "      <td>9.702002</td>\n",
       "      <td>0</td>\n",
       "      <td>2</td>\n",
       "      <td>46.00</td>\n",
       "      <td>0</td>\n",
       "      <td>0.504</td>\n",
       "      <td>0.514006</td>\n",
       "    </tr>\n",
       "    <tr>\n",
       "      <th>397</th>\n",
       "      <td>0.661400</td>\n",
       "      <td>8.985862</td>\n",
       "      <td>25</td>\n",
       "      <td>2.2149</td>\n",
       "      <td>0.4024</td>\n",
       "      <td>0.333333</td>\n",
       "      <td>0.871910</td>\n",
       "      <td>0</td>\n",
       "      <td>0</td>\n",
       "      <td>-0.322222</td>\n",
       "      <td>8.549921</td>\n",
       "      <td>0</td>\n",
       "      <td>2</td>\n",
       "      <td>1.70</td>\n",
       "      <td>0</td>\n",
       "      <td>0.327</td>\n",
       "      <td>0.364614</td>\n",
       "    </tr>\n",
       "    <tr>\n",
       "      <th>398</th>\n",
       "      <td>0.998492</td>\n",
       "      <td>0.000000</td>\n",
       "      <td>0</td>\n",
       "      <td>3.5460</td>\n",
       "      <td>2.0978</td>\n",
       "      <td>0.293103</td>\n",
       "      <td>0.988661</td>\n",
       "      <td>0</td>\n",
       "      <td>1</td>\n",
       "      <td>0.260000</td>\n",
       "      <td>3.927551</td>\n",
       "      <td>0</td>\n",
       "      <td>1</td>\n",
       "      <td>0.80</td>\n",
       "      <td>1</td>\n",
       "      <td>0.508</td>\n",
       "      <td>0.558201</td>\n",
       "    </tr>\n",
       "    <tr>\n",
       "      <th>399</th>\n",
       "      <td>0.998446</td>\n",
       "      <td>0.010471</td>\n",
       "      <td>6</td>\n",
       "      <td>0.3216</td>\n",
       "      <td>0.0668</td>\n",
       "      <td>0.336735</td>\n",
       "      <td>0.973822</td>\n",
       "      <td>0</td>\n",
       "      <td>1</td>\n",
       "      <td>0.644444</td>\n",
       "      <td>3.491901</td>\n",
       "      <td>0</td>\n",
       "      <td>1</td>\n",
       "      <td>85.00</td>\n",
       "      <td>0</td>\n",
       "      <td>0.390</td>\n",
       "      <td>0.308631</td>\n",
       "    </tr>\n",
       "    <tr>\n",
       "      <th>400</th>\n",
       "      <td>0.998714</td>\n",
       "      <td>4.624337</td>\n",
       "      <td>100</td>\n",
       "      <td>0.4396</td>\n",
       "      <td>0.8696</td>\n",
       "      <td>0.379310</td>\n",
       "      <td>0.958987</td>\n",
       "      <td>1</td>\n",
       "      <td>1</td>\n",
       "      <td>-0.422222</td>\n",
       "      <td>3.874947</td>\n",
       "      <td>0</td>\n",
       "      <td>1</td>\n",
       "      <td>1.60</td>\n",
       "      <td>0</td>\n",
       "      <td>0.643</td>\n",
       "      <td>0.791695</td>\n",
       "    </tr>\n",
       "  </tbody>\n",
       "</table>\n",
       "<p>401 rows × 17 columns</p>\n",
       "</div>"
      ],
      "text/plain": [
       "     cellular_prevalence  Expression_Level  priority_Score  Mut_MHCrank_EL  \\\n",
       "0               0.998152          8.548303              67          0.8121   \n",
       "1               0.998073          0.442719               0         17.8351   \n",
       "2               0.714285          0.000000               5          0.0990   \n",
       "3               0.996612          2.933181               7          2.5243   \n",
       "4               0.996559         68.938331              50          0.5611   \n",
       "..                   ...               ...             ...             ...   \n",
       "396             0.998511          8.443811              75          0.2877   \n",
       "397             0.661400          8.985862              25          2.2149   \n",
       "398             0.998492          0.000000               0          3.5460   \n",
       "399             0.998446          0.010471               6          0.3216   \n",
       "400             0.998714          4.624337             100          0.4396   \n",
       "\n",
       "     Mut_MHCrank_BA  variant_allele_frequency  Self_Similarity  \\\n",
       "0            0.9050                  0.482353         0.965832   \n",
       "1            2.5192                  0.432653         0.935548   \n",
       "2            0.0492                  0.361111         0.987627   \n",
       "3            1.5207                  0.447761         0.951162   \n",
       "4            0.3800                  0.386364         0.976691   \n",
       "..              ...                       ...              ...   \n",
       "396          0.3819                  0.216216         0.887609   \n",
       "397          0.4024                  0.333333         0.871910   \n",
       "398          2.0978                  0.293103         0.988661   \n",
       "399          0.0668                  0.336735         0.973822   \n",
       "400          0.8696                  0.379310         0.958987   \n",
       "\n",
       "     exp_rank_binary  clonal_mut     hydro         pI  Cancer_Driver_Gene  \\\n",
       "0                  0           0 -0.388889  10.455128                   0   \n",
       "1                  0           1  1.590909   5.759312                   1   \n",
       "2                  0           0 -0.011111   3.849974                   0   \n",
       "3                  0           1  1.400000   3.749972                   0   \n",
       "4                  0           1 -0.266667   9.449106                   0   \n",
       "..               ...         ...       ...        ...                 ...   \n",
       "396                1           1  0.788889   9.702002                   0   \n",
       "397                0           0 -0.322222   8.549921                   0   \n",
       "398                0           1  0.260000   3.927551                   0   \n",
       "399                0           1  0.644444   3.491901                   0   \n",
       "400                1           1 -0.422222   3.874947                   0   \n",
       "\n",
       "     Mutation_Consequence  mut_rep_.rank_netstabpan  response  prediction_rf  \\\n",
       "0                       1                      0.15         0          0.512   \n",
       "1                       1                      0.01         0          0.592   \n",
       "2                       1                      0.05         0          0.323   \n",
       "3                       1                     85.00         0          0.455   \n",
       "4                       1                      0.06         1          0.453   \n",
       "..                    ...                       ...       ...            ...   \n",
       "396                     2                     46.00         0          0.504   \n",
       "397                     2                      1.70         0          0.327   \n",
       "398                     1                      0.80         1          0.508   \n",
       "399                     1                     85.00         0          0.390   \n",
       "400                     1                      1.60         0          0.643   \n",
       "\n",
       "     prediction_mlp  \n",
       "0          0.584607  \n",
       "1          0.221186  \n",
       "2          0.403160  \n",
       "3          0.360568  \n",
       "4          0.176473  \n",
       "..              ...  \n",
       "396        0.514006  \n",
       "397        0.364614  \n",
       "398        0.558201  \n",
       "399        0.308631  \n",
       "400        0.791695  \n",
       "\n",
       "[401 rows x 17 columns]"
      ]
     },
     "execution_count": 13,
     "metadata": {},
     "output_type": "execute_result"
    }
   ],
   "source": [
    "pred_df_valid"
   ]
  },
  {
   "cell_type": "code",
   "execution_count": 11,
   "metadata": {},
   "outputs": [
    {
     "ename": "NameError",
     "evalue": "name 'pred_df_valid' is not defined",
     "output_type": "error",
     "traceback": [
      "\u001b[0;31m---------------------------------------------------------------------------\u001b[0m",
      "\u001b[0;31mNameError\u001b[0m                                 Traceback (most recent call last)",
      "\u001b[0;32m<ipython-input-11-8027c46defc1>\u001b[0m in \u001b[0;36m<module>\u001b[0;34m\u001b[0m\n\u001b[0;32m----> 1\u001b[0;31m \u001b[0mconfusion_matrix\u001b[0m\u001b[0;34m(\u001b[0m\u001b[0mpred_df_valid\u001b[0m\u001b[0;34m.\u001b[0m\u001b[0mresponse\u001b[0m\u001b[0;34m,\u001b[0m \u001b[0mpred_df_valid\u001b[0m\u001b[0;34m.\u001b[0m\u001b[0mprediction_rf\u001b[0m\u001b[0;34m>\u001b[0m\u001b[0;36m0.5\u001b[0m\u001b[0;34m)\u001b[0m\u001b[0;34m\u001b[0m\u001b[0;34m\u001b[0m\u001b[0m\n\u001b[0m",
      "\u001b[0;31mNameError\u001b[0m: name 'pred_df_valid' is not defined"
     ]
    }
   ],
   "source": [
    "confusion_matrix(pred_df_valid.response, pred_df_valid.prediction_rf>0.5)\n"
   ]
  },
  {
   "cell_type": "code",
   "execution_count": 173,
   "metadata": {},
   "outputs": [],
   "source": [
    "#fpr_rf, tpr_rf, threshold_rf = roc_curve(pred_df_valid.response, pred_df_valid.prediction_rf)\n",
    "fpr_rf, tpr_rf, threshold_rf = roc_curve(pred_df_valid.response, pred_df_valid.prediction_rf)"
   ]
  },
  {
   "cell_type": "code",
   "execution_count": 174,
   "metadata": {},
   "outputs": [
    {
     "data": {
      "image/png": "[encoded data removed]",
      "text/plain": [
       "<Figure size 432x288 with 1 Axes>"
      ]
     },
     "metadata": {
      "needs_background": "light"
     },
     "output_type": "display_data"
    }
   ],
   "source": [
    "fpr_rf, tpr_rf, threshold_rf = roc_curve(pred_df_valid.response, pred_df_valid.prediction_rf)\n",
    "roc_auc_rf = auc(fpr_rf, tpr_rf)\n",
    "\n",
    "fpr_mlp, tpr_mlp, threshold_mlp = roc_curve(pred_df_valid.response, pred_df_valid.prediction_mlp)\n",
    "roc_auc_mlp = auc(fpr_mlp, tpr_mlp)\n",
    "\n",
    "plt.title('Receiver Operating Characteristic')\n",
    "plt.plot(fpr_rf, tpr_rf, 'b', label = 'AUC RF= %0.2f' % roc_auc_rf)\n",
    "plt.plot(fpr_mlp, tpr_mlp, 'g', label = 'AUC MLP= %0.2f' % roc_auc_mlp)\n",
    "\n",
    "plt.legend(loc = 'lower right')\n",
    "plt.plot([0, 1], [0, 1],'r--')\n",
    "plt.xlim([0, 1])\n",
    "plt.ylim([0, 1])\n",
    "plt.ylabel('True Positive Rate')\n",
    "plt.xlabel('False Positive Rate')\n",
    "plt.show()"
   ]
  },
  {
   "cell_type": "code",
   "execution_count": 63,
   "metadata": {},
   "outputs": [
    {
     "name": "stdout",
     "output_type": "stream",
     "text": [
      "   Mut_peptide  HLA_allele  cellular_prevalence  Expression_Level  \\\n",
      "0  SMIPSWEPTSV  HLA-A02:01             0.999027         25.580376   \n",
      "1   LCLYKGSLGL  HLA-A02:01             0.999080          1.846685   \n",
      "2    CLYKGSLGL  HLA-A02:01             0.999080          1.846685   \n",
      "3    GLPRAPATA  HLA-A02:01             0.999027         25.580376   \n",
      "4    FLGFSVFSS  HLA-A02:01             0.999027         25.580376   \n",
      "\n",
      "   priority_Score  Mut_MHCrank_EL  Mut_MHCrank_BA  variant_allele_frequency  \\\n",
      "0              10          0.5653          1.2258                  0.615385   \n",
      "1               8          1.0520          1.2912                  0.531100   \n",
      "2               7          0.7063          0.9060                  0.531100   \n",
      "3               7          1.8666          7.1194                  0.615385   \n",
      "4               5          1.9716          0.8024                  0.615385   \n",
      "\n",
      "   response  exp_rank_binary  Self_Similarity  clonal_mut     hydro  \\\n",
      "0         0                0         0.865829           1 -0.009091   \n",
      "1         0                0         0.914342           1  1.090000   \n",
      "2         0                0         0.923862           1  0.788889   \n",
      "3         0                0         0.934079           1  0.044444   \n",
      "4         0                0         0.889877           1  1.511111   \n",
      "\n",
      "          pI  Cancer_Driver_Gene  Mutation_Consequence  Allele_Frequency  \\\n",
      "0   3.849974                   0                     2             0.100   \n",
      "1   8.522950                   0                     2             0.092   \n",
      "2   8.522950                   0                     2             0.092   \n",
      "3  10.549999                   0                     2             0.100   \n",
      "4   6.099982                   0                     2             0.100   \n",
      "\n",
      "   foginess_score  \n",
      "0        1.000000  \n",
      "1        1.000000  \n",
      "2        1.000000  \n",
      "3        1.000000  \n",
      "4        0.000059  \n"
     ]
    },
    {
     "data": {
      "text/plain": [
       "0    5569\n",
       "1     148\n",
       "Name: response, dtype: int64"
      ]
     },
     "execution_count": 63,
     "metadata": {},
     "output_type": "execute_result"
    }
   ],
   "source": [
    "Valid = pd.read_csv('../../data/Valdation/RH_peptide_scrrened.txt', sep='\\t')\n",
    "print(Valid.head())\n",
    "Valid['response'].value_counts()"
   ]
  },
  {
   "cell_type": "code",
   "execution_count": 64,
   "metadata": {},
   "outputs": [
    {
     "name": "stdout",
     "output_type": "stream",
     "text": [
      "148\n"
     ]
    },
    {
     "ename": "NotFittedError",
     "evalue": "This RandomForestClassifier instance is not fitted yet. Call 'fit' with appropriate arguments before using this estimator.",
     "output_type": "error",
     "traceback": [
      "\u001b[0;31m---------------------------------------------------------------------------\u001b[0m",
      "\u001b[0;31mNotFittedError\u001b[0m                            Traceback (most recent call last)",
      "\u001b[0;32m<ipython-input-64-21b3786972e3>\u001b[0m in \u001b[0;36m<module>\u001b[0;34m\u001b[0m\n\u001b[1;32m     15\u001b[0m     \u001b[0mX_valid\u001b[0m \u001b[0;34m=\u001b[0m \u001b[0mValid\u001b[0m\u001b[0;34m.\u001b[0m\u001b[0mdrop\u001b[0m\u001b[0;34m(\u001b[0m\u001b[0;34m[\u001b[0m\u001b[0;34m'Mut_peptide'\u001b[0m\u001b[0;34m,\u001b[0m \u001b[0;34m'HLA_allele'\u001b[0m\u001b[0;34m,\u001b[0m\u001b[0;34m'response'\u001b[0m\u001b[0;34m]\u001b[0m\u001b[0;34m,\u001b[0m \u001b[0maxis\u001b[0m\u001b[0;34m=\u001b[0m\u001b[0;36m1\u001b[0m\u001b[0;34m)\u001b[0m\u001b[0;34m.\u001b[0m\u001b[0mreset_index\u001b[0m\u001b[0;34m(\u001b[0m\u001b[0mdrop\u001b[0m\u001b[0;34m=\u001b[0m\u001b[0;32mTrue\u001b[0m\u001b[0;34m)\u001b[0m\u001b[0;34m\u001b[0m\u001b[0;34m\u001b[0m\u001b[0m\n\u001b[1;32m     16\u001b[0m     \u001b[0my_valid\u001b[0m \u001b[0;34m=\u001b[0m \u001b[0mValid\u001b[0m\u001b[0;34m[\u001b[0m\u001b[0;34m\"response\"\u001b[0m\u001b[0;34m]\u001b[0m\u001b[0;34m\u001b[0m\u001b[0;34m\u001b[0m\u001b[0m\n\u001b[0;32m---> 17\u001b[0;31m     \u001b[0mpredictions_rf_valid\u001b[0m \u001b[0;34m=\u001b[0m \u001b[0mrf\u001b[0m\u001b[0;34m.\u001b[0m\u001b[0mpredict_proba\u001b[0m\u001b[0;34m(\u001b[0m\u001b[0mX_valid\u001b[0m\u001b[0;34m)\u001b[0m\u001b[0;34m\u001b[0m\u001b[0;34m\u001b[0m\u001b[0m\n\u001b[0m\u001b[1;32m     18\u001b[0m     \u001b[0mpredictions_mlp_valid\u001b[0m \u001b[0;34m=\u001b[0m \u001b[0mmlp\u001b[0m\u001b[0;34m.\u001b[0m\u001b[0mpredict_proba\u001b[0m\u001b[0;34m(\u001b[0m\u001b[0mX_valid\u001b[0m\u001b[0;34m)\u001b[0m\u001b[0;34m\u001b[0m\u001b[0;34m\u001b[0m\u001b[0m\n\u001b[1;32m     19\u001b[0m     \u001b[0mpred_df_valid\u001b[0m \u001b[0;34m=\u001b[0m \u001b[0mpd\u001b[0m\u001b[0;34m.\u001b[0m\u001b[0mDataFrame\u001b[0m\u001b[0;34m(\u001b[0m\u001b[0;34m)\u001b[0m\u001b[0;34m\u001b[0m\u001b[0;34m\u001b[0m\u001b[0m\n",
      "\u001b[0;32m~/opt/anaconda3/lib/python3.7/site-packages/sklearn/ensemble/_forest.py\u001b[0m in \u001b[0;36mpredict_proba\u001b[0;34m(self, X)\u001b[0m\n\u001b[1;32m    652\u001b[0m             \u001b[0mclasses\u001b[0m \u001b[0mcorresponds\u001b[0m \u001b[0mto\u001b[0m \u001b[0mthat\u001b[0m \u001b[0;32min\u001b[0m \u001b[0mthe\u001b[0m \u001b[0mattribute\u001b[0m \u001b[0;34m:\u001b[0m\u001b[0mterm\u001b[0m\u001b[0;34m:\u001b[0m\u001b[0;31m`\u001b[0m\u001b[0mclasses_\u001b[0m\u001b[0;31m`\u001b[0m\u001b[0;34m.\u001b[0m\u001b[0;34m\u001b[0m\u001b[0;34m\u001b[0m\u001b[0m\n\u001b[1;32m    653\u001b[0m         \"\"\"\n\u001b[0;32m--> 654\u001b[0;31m         \u001b[0mcheck_is_fitted\u001b[0m\u001b[0;34m(\u001b[0m\u001b[0mself\u001b[0m\u001b[0;34m)\u001b[0m\u001b[0;34m\u001b[0m\u001b[0;34m\u001b[0m\u001b[0m\n\u001b[0m\u001b[1;32m    655\u001b[0m         \u001b[0;31m# Check data\u001b[0m\u001b[0;34m\u001b[0m\u001b[0;34m\u001b[0m\u001b[0;34m\u001b[0m\u001b[0m\n\u001b[1;32m    656\u001b[0m         \u001b[0mX\u001b[0m \u001b[0;34m=\u001b[0m \u001b[0mself\u001b[0m\u001b[0;34m.\u001b[0m\u001b[0m_validate_X_predict\u001b[0m\u001b[0;34m(\u001b[0m\u001b[0mX\u001b[0m\u001b[0;34m)\u001b[0m\u001b[0;34m\u001b[0m\u001b[0;34m\u001b[0m\u001b[0m\n",
      "\u001b[0;32m~/opt/anaconda3/lib/python3.7/site-packages/sklearn/utils/validation.py\u001b[0m in \u001b[0;36mcheck_is_fitted\u001b[0;34m(estimator, attributes, msg, all_or_any)\u001b[0m\n\u001b[1;32m    965\u001b[0m \u001b[0;34m\u001b[0m\u001b[0m\n\u001b[1;32m    966\u001b[0m     \u001b[0;32mif\u001b[0m \u001b[0;32mnot\u001b[0m \u001b[0mattrs\u001b[0m\u001b[0;34m:\u001b[0m\u001b[0;34m\u001b[0m\u001b[0;34m\u001b[0m\u001b[0m\n\u001b[0;32m--> 967\u001b[0;31m         \u001b[0;32mraise\u001b[0m \u001b[0mNotFittedError\u001b[0m\u001b[0;34m(\u001b[0m\u001b[0mmsg\u001b[0m \u001b[0;34m%\u001b[0m \u001b[0;34m{\u001b[0m\u001b[0;34m'name'\u001b[0m\u001b[0;34m:\u001b[0m \u001b[0mtype\u001b[0m\u001b[0;34m(\u001b[0m\u001b[0mestimator\u001b[0m\u001b[0;34m)\u001b[0m\u001b[0;34m.\u001b[0m\u001b[0m__name__\u001b[0m\u001b[0;34m}\u001b[0m\u001b[0;34m)\u001b[0m\u001b[0;34m\u001b[0m\u001b[0;34m\u001b[0m\u001b[0m\n\u001b[0m\u001b[1;32m    968\u001b[0m \u001b[0;34m\u001b[0m\u001b[0m\n\u001b[1;32m    969\u001b[0m \u001b[0;34m\u001b[0m\u001b[0m\n",
      "\u001b[0;31mNotFittedError\u001b[0m: This RandomForestClassifier instance is not fitted yet. Call 'fit' with appropriate arguments before using this estimator."
     ]
    }
   ],
   "source": [
    "# valid data RH\n",
    "\n",
    "my_auc_valid=list()\n",
    "for i in range(150,1000,100): \n",
    "  #  print(i)\n",
    "    Valid = pd.read_csv('../../data/Valdation/RH_peptide_scrrened.txt', sep='\\t')\n",
    "\n",
    "    if type(Valid[\"Self_Similarity\"][0])==str:\n",
    "        Valid = Valid[~Valid[\"Self_Similarity\"].str.contains('acid')].reset_index(drop=\"True\")\n",
    "        Valid[\"Self_Similarity\"] = Valid[\"Self_Similarity\"].astype('float32')\n",
    "    Valid_pos = Valid[Valid.response==1]\n",
    "    print(len(Valid_pos))\n",
    "    Valid_neg = Valid[Valid.response==0].sample(n=i, random_state=45)\n",
    "    Valid = shuffle(pd.concat([Valid_pos, Valid_neg], axis=0)).reset_index(drop=True)\n",
    "    X_valid = Valid.drop(['Mut_peptide', 'HLA_allele','response'], axis=1).reset_index(drop=True)\n",
    "    y_valid = Valid[\"response\"]\n",
    "    predictions_rf_valid = rf.predict_proba(X_valid)\n",
    "    predictions_mlp_valid = mlp.predict_proba(X_valid)\n",
    "    pred_df_valid = pd.DataFrame()\n",
    "    pred_df_valid = pred_df_valid.append(pd.concat([pd.DataFrame(X_valid, columns=X_valid.columns), \n",
    "                                            pd.Series(y_valid, name='response'), \n",
    "                                            pd.Series(predictions_rf_valid[:,1], name='prediction_rf'),\n",
    "                                            pd.Series(predictions_mlp_valid[:,1], name='prediction_mlp')], axis=1)).reset_index(drop=True)\n",
    "    print(\"RF AUC:\",round(roc_auc_score(pred_df_valid.response, pred_df_valid.prediction_rf),4))\n",
    "    print(\"MLP AUC:\",round(roc_auc_score(pred_df_valid.response, pred_df_valid.prediction_mlp),4))\n",
    "    my_auc_valid.append(round(roc_auc_score(pred_df_valid.response, pred_df_valid.prediction_rf),4))\n",
    "\n",
    "\n",
    "    "
   ]
  },
  {
   "cell_type": "code",
   "execution_count": 10,
   "metadata": {},
   "outputs": [
    {
     "data": {
      "text/plain": [
       "0    50\n",
       "1    45\n",
       "Name: response, dtype: int64"
      ]
     },
     "execution_count": 10,
     "metadata": {},
     "output_type": "execute_result"
    }
   ],
   "source": [
    "pred_df_valid['response'].value_counts()\n"
   ]
  },
  {
   "cell_type": "code",
   "execution_count": 11,
   "metadata": {},
   "outputs": [
    {
     "data": {
      "text/plain": [
       "array([[46,  4],\n",
       "       [42,  3]])"
      ]
     },
     "execution_count": 11,
     "metadata": {},
     "output_type": "execute_result"
    }
   ],
   "source": [
    "confusion_matrix(pred_df_valid.response, pred_df_valid.prediction_mlp>0.5)\n"
   ]
  },
  {
   "cell_type": "code",
   "execution_count": 12,
   "metadata": {},
   "outputs": [
    {
     "data": {
      "text/plain": [
       "array([[50,  0],\n",
       "       [43,  2]])"
      ]
     },
     "execution_count": 12,
     "metadata": {},
     "output_type": "execute_result"
    }
   ],
   "source": [
    "confusion_matrix(pred_df_valid.response, pred_df_valid.prediction_rf>0.5)\n"
   ]
  },
  {
   "cell_type": "code",
   "execution_count": 13,
   "metadata": {},
   "outputs": [],
   "source": [
    "fpr_rf, tpr_rf, threshold_rf = roc_curve(pred_df_valid.response, pred_df_valid.prediction_rf)"
   ]
  },
  {
   "cell_type": "code",
   "execution_count": 14,
   "metadata": {},
   "outputs": [
    {
     "data": {
      "image/png": "[encoded data removed]",
      "text/plain": [
       "<Figure size 432x288 with 1 Axes>"
      ]
     },
     "metadata": {
      "needs_background": "light"
     },
     "output_type": "display_data"
    }
   ],
   "source": [
    "fpr_rf, tpr_rf, threshold_rf = roc_curve(pred_df_valid.response, pred_df_valid.prediction_rf)\n",
    "roc_auc_rf = auc(fpr_rf, tpr_rf)\n",
    "\n",
    "fpr_mlp, tpr_mlp, threshold_mlp = roc_curve(pred_df_valid.response, pred_df_valid.prediction_mlp)\n",
    "roc_auc_mlp = auc(fpr_mlp, tpr_mlp)\n",
    "\n",
    "plt.title('Receiver Operating Characteristic')\n",
    "plt.plot(fpr_rf, tpr_rf, 'b', label = 'AUC RF= %0.2f' % roc_auc_rf)\n",
    "plt.plot(fpr_mlp, tpr_mlp, 'g', label = 'AUC MLP= %0.2f' % roc_auc_mlp)\n",
    "\n",
    "plt.legend(loc = 'lower right')\n",
    "plt.plot([0, 1], [0, 1],'r--')\n",
    "plt.xlim([0, 1])\n",
    "plt.ylim([0, 1])\n",
    "plt.ylabel('True Positive Rate')\n",
    "plt.xlabel('False Positive Rate')\n",
    "plt.show()"
   ]
  },
  {
   "cell_type": "code",
   "execution_count": null,
   "metadata": {},
   "outputs": [],
   "source": []
  }
 ],
 "metadata": {
  "kernelspec": {
   "display_name": "Python 3",
   "language": "python",
   "name": "python3"
  },
  "language_info": {
   "codemirror_mode": {
    "name": "ipython",
    "version": 3
   },
   "file_extension": ".py",
   "mimetype": "text/x-python",
   "name": "python",
   "nbconvert_exporter": "python",
   "pygments_lexer": "ipython3",
   "version": "3.7.6"
  }
 },
 "nbformat": 4,
 "nbformat_minor": 2
}
