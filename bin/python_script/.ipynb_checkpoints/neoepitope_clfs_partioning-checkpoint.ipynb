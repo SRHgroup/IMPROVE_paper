{
 "cells": [
  {
   "cell_type": "code",
   "execution_count": 4,
   "metadata": {},
   "outputs": [],
   "source": [
    "import pandas as pd\n",
    "import numpy as np\n",
    "import matplotlib.pyplot as plt\n",
    "import seaborn as sns\n",
    "\n",
    "from sklearn.ensemble import RandomForestClassifier\n",
    "from sklearn.model_selection import KFold, train_test_split\n",
    "from sklearn.metrics import roc_auc_score, roc_curve, auc\n",
    "from sklearn.preprocessing import StandardScaler\n",
    "from sklearn.utils import shuffle\n",
    "from sklearn.neural_network import MLPClassifier"
   ]
  },
  {
   "cell_type": "code",
   "execution_count": 5,
   "metadata": {},
   "outputs": [],
   "source": [
    "data = pd.read_csv('../../data/data_frame.csv')"
   ]
  },
  {
   "cell_type": "code",
   "execution_count": 6,
   "metadata": {},
   "outputs": [],
   "source": [
    "n_partitions=5\n",
    "# Assign partition, now random\n",
    "data['partition'] = np.random.randint(low=0,high=n_partitions, size=data.shape[0])\n",
    "\n",
    "#Apparently, est_freq drives the entire classification. Let's try to remove it\n",
    "data = data.drop(columns='est_freq')\n",
    "\n",
    "#Sample to have balanced pos and neg\n",
    "df_pos = data[data.response==1]\n",
    "df_neg = data[data.response==0].sample(n=400, random_state=45)\n",
    "\n",
    "df = shuffle(pd.concat([df_pos, df_neg], axis=0)).reset_index(drop=True)"
   ]
  },
  {
   "cell_type": "code",
   "execution_count": 20,
   "metadata": {},
   "outputs": [
    {
     "name": "stdout",
     "output_type": "stream",
     "text": [
      "Test partition: 0\n",
      "Variable: Mut_MHCrank_EL       Importance: 0.12\n",
      "Variable: Mut_MHCrank_BA       Importance: 0.12\n",
      "Variable: hydro                Importance: 0.11\n",
      "Variable: Self_Similarity      Importance: 0.1\n",
      "Variable: cellular_prevalence  Importance: 0.09\n",
      "Variable: Expression_Level     Importance: 0.09\n",
      "Variable: variant_allele_frequency Importance: 0.09\n",
      "Variable: pI                   Importance: 0.08\n",
      "Variable: Allele_Frequency     Importance: 0.07\n",
      "Variable: priority_Score       Importance: 0.06\n",
      "Variable: partition            Importance: 0.04\n",
      "Variable: exp_rank_binary      Importance: 0.01\n",
      "Variable: Cancer_Driver_Gene   Importance: 0.01\n",
      "Variable: Mutation_Consequence Importance: 0.01\n",
      "Variable: clonal_mut           Importance: 0.0\n",
      "Test partition: 1\n",
      "Variable: Mut_MHCrank_EL       Importance: 0.12\n",
      "Variable: Mut_MHCrank_BA       Importance: 0.11\n",
      "Variable: hydro                Importance: 0.11\n",
      "Variable: Self_Similarity      Importance: 0.1\n",
      "Variable: cellular_prevalence  Importance: 0.09\n",
      "Variable: Expression_Level     Importance: 0.09\n",
      "Variable: variant_allele_frequency Importance: 0.09\n",
      "Variable: Allele_Frequency     Importance: 0.08\n",
      "Variable: pI                   Importance: 0.08\n",
      "Variable: priority_Score       Importance: 0.06\n",
      "Variable: partition            Importance: 0.04\n",
      "Variable: exp_rank_binary      Importance: 0.01\n",
      "Variable: Cancer_Driver_Gene   Importance: 0.01\n",
      "Variable: Mutation_Consequence Importance: 0.01\n",
      "Variable: clonal_mut           Importance: 0.0\n",
      "Test partition: 2\n",
      "Variable: Mut_MHCrank_EL       Importance: 0.12\n",
      "Variable: Mut_MHCrank_BA       Importance: 0.12\n",
      "Variable: Self_Similarity      Importance: 0.1\n",
      "Variable: hydro                Importance: 0.1\n",
      "Variable: cellular_prevalence  Importance: 0.09\n",
      "Variable: Expression_Level     Importance: 0.09\n",
      "Variable: variant_allele_frequency Importance: 0.09\n",
      "Variable: Allele_Frequency     Importance: 0.08\n",
      "Variable: pI                   Importance: 0.08\n",
      "Variable: priority_Score       Importance: 0.06\n",
      "Variable: partition            Importance: 0.04\n",
      "Variable: exp_rank_binary      Importance: 0.01\n",
      "Variable: Cancer_Driver_Gene   Importance: 0.01\n",
      "Variable: Mutation_Consequence Importance: 0.01\n",
      "Variable: clonal_mut           Importance: 0.0\n",
      "Test partition: 3\n",
      "Variable: Mut_MHCrank_EL       Importance: 0.12\n",
      "Variable: Mut_MHCrank_BA       Importance: 0.11\n",
      "Variable: hydro                Importance: 0.11\n",
      "Variable: cellular_prevalence  Importance: 0.1\n",
      "Variable: Self_Similarity      Importance: 0.1\n",
      "Variable: Expression_Level     Importance: 0.09\n",
      "Variable: variant_allele_frequency Importance: 0.09\n",
      "Variable: Allele_Frequency     Importance: 0.08\n",
      "Variable: pI                   Importance: 0.08\n",
      "Variable: priority_Score       Importance: 0.06\n",
      "Variable: partition            Importance: 0.04\n",
      "Variable: exp_rank_binary      Importance: 0.01\n",
      "Variable: Cancer_Driver_Gene   Importance: 0.01\n",
      "Variable: Mutation_Consequence Importance: 0.01\n",
      "Variable: clonal_mut           Importance: 0.0\n",
      "Test partition: 4\n",
      "Variable: Mut_MHCrank_EL       Importance: 0.12\n",
      "Variable: Mut_MHCrank_BA       Importance: 0.12\n",
      "Variable: hydro                Importance: 0.11\n",
      "Variable: Self_Similarity      Importance: 0.1\n",
      "Variable: cellular_prevalence  Importance: 0.09\n",
      "Variable: Expression_Level     Importance: 0.09\n",
      "Variable: variant_allele_frequency Importance: 0.09\n",
      "Variable: Allele_Frequency     Importance: 0.08\n",
      "Variable: pI                   Importance: 0.08\n",
      "Variable: priority_Score       Importance: 0.06\n",
      "Variable: partition            Importance: 0.04\n",
      "Variable: exp_rank_binary      Importance: 0.01\n",
      "Variable: Cancer_Driver_Gene   Importance: 0.01\n",
      "Variable: Mutation_Consequence Importance: 0.01\n",
      "Variable: clonal_mut           Importance: 0.0\n",
      "RF AUC: 0.6403\n",
      "MLP AUC: 0.5346\n"
     ]
    }
   ],
   "source": [
    "pred_df = pd.DataFrame()\n",
    "for test_p in range(n_partitions):\n",
    "    print(\"Test partition:\", test_p)\n",
    "    #Extract train and test set\n",
    "    X_train = df[df.partition!=test_p].drop('response', axis=1).reset_index(drop=True)\n",
    "    y_train = df[df.partition!=test_p][\"response\"].reset_index(drop=True)\n",
    "        \n",
    "    X_test = df[df.partition==test_p].drop('response', axis=1).reset_index(drop=True)\n",
    "    y_test = df[df.partition==test_p][\"response\"].reset_index(drop=True)\n",
    "    \n",
    "    test_cols = X_test.columns\n",
    "    feature_list = list(X_train.columns)\n",
    "\n",
    "    # Instantiate the RF and the MLP\n",
    "    rf = RandomForestClassifier(n_estimators = 1000, random_state = 42)\n",
    "    mlp = MLPClassifier(max_iter=500, hidden_layer_sizes=200)\n",
    "    \n",
    "    # Train the models on training data\n",
    "    rf.fit(X_train, y_train)\n",
    "    mlp.fit(X_train, y_train)\n",
    "    \n",
    "    #Get fetures importance per partition\n",
    "    importances = list(rf.feature_importances_)\n",
    "    feature_importances = [(feature, round(importance, 2)) for feature, importance in zip(feature_list, importances)]\n",
    "    # Sort\n",
    "    feature_importances = sorted(feature_importances, key = lambda x: x[1], reverse = True)\n",
    "    [print('Variable: {:20} Importance: {}'.format(*pair)) for pair in feature_importances]\n",
    "    # Plot the importances \n",
    "#     plt.style.use('fivethirtyeight')\n",
    "#     x_values = list(range(len(importances)))\n",
    "#     plt.bar(x_values, importances, orientation = 'vertical')\n",
    "#     plt.xticks(x_values, feature_list, rotation='vertical')\n",
    "#     plt.ylabel('Importance'); plt.xlabel('Variable'); plt.title('Variable Importances')\n",
    "#     plt.show()\n",
    "    \n",
    "    # Predict\n",
    "    predictions_rf = rf.predict_proba(X_test)\n",
    "    predictions_mlp = mlp.predict_proba(X_test)\n",
    "    \n",
    "    pred_df = pred_df.append(pd.concat([pd.DataFrame(X_test, columns=test_cols), \n",
    "                                        pd.Series(y_test, name='response'), \n",
    "                                        pd.Series(predictions_rf[:,1], name='prediction_rf'),\n",
    "                                        pd.Series(predictions_mlp[:,1], name='prediction_mlp')], axis=1)).reset_index(drop=True)\n",
    "\n",
    "#Print final AUCs\n",
    "print(\"RF AUC:\",round(roc_auc_score(pred_df.response, pred_df.prediction_rf),4))\n",
    "print(\"MLP AUC:\",round(roc_auc_score(pred_df.response, pred_df.prediction_mlp),4))"
   ]
  },
  {
   "cell_type": "code",
   "execution_count": 7,
   "metadata": {},
   "outputs": [],
   "source": [
    "from sklearn.metrics import confusion_matrix"
   ]
  },
  {
   "cell_type": "code",
   "execution_count": 8,
   "metadata": {},
   "outputs": [
    {
     "ename": "NameError",
     "evalue": "name 'pred_df' is not defined",
     "output_type": "error",
     "traceback": [
      "\u001b[0;31m---------------------------------------------------------------------------\u001b[0m",
      "\u001b[0;31mNameError\u001b[0m                                 Traceback (most recent call last)",
      "\u001b[0;32m<ipython-input-8-57eb82b01463>\u001b[0m in \u001b[0;36m<module>\u001b[0;34m\u001b[0m\n\u001b[0;32m----> 1\u001b[0;31m \u001b[0mconfusion_matrix\u001b[0m\u001b[0;34m(\u001b[0m\u001b[0mpred_df\u001b[0m\u001b[0;34m.\u001b[0m\u001b[0mresponse\u001b[0m\u001b[0;34m,\u001b[0m \u001b[0mpred_df\u001b[0m\u001b[0;34m.\u001b[0m\u001b[0mprediction_rf\u001b[0m\u001b[0;34m>\u001b[0m\u001b[0;36m0.01\u001b[0m\u001b[0;34m)\u001b[0m\u001b[0;34m\u001b[0m\u001b[0;34m\u001b[0m\u001b[0m\n\u001b[0m",
      "\u001b[0;31mNameError\u001b[0m: name 'pred_df' is not defined"
     ]
    }
   ],
   "source": [
    "confusion_matrix(pred_df.response, pred_df.prediction_rf>0.01)"
   ]
  },
  {
   "cell_type": "code",
   "execution_count": 9,
   "metadata": {
    "scrolled": true
   },
   "outputs": [
    {
     "ename": "NameError",
     "evalue": "name 'pred_df' is not defined",
     "output_type": "error",
     "traceback": [
      "\u001b[0;31m---------------------------------------------------------------------------\u001b[0m",
      "\u001b[0;31mNameError\u001b[0m                                 Traceback (most recent call last)",
      "\u001b[0;32m<ipython-input-9-55d033e88193>\u001b[0m in \u001b[0;36m<module>\u001b[0;34m\u001b[0m\n\u001b[0;32m----> 1\u001b[0;31m \u001b[0mplt\u001b[0m\u001b[0;34m.\u001b[0m\u001b[0mhist\u001b[0m\u001b[0;34m(\u001b[0m\u001b[0mpred_df\u001b[0m\u001b[0;34m.\u001b[0m\u001b[0mprediction_rf\u001b[0m\u001b[0;34m,\u001b[0m \u001b[0malpha\u001b[0m\u001b[0;34m=\u001b[0m\u001b[0;36m0.5\u001b[0m\u001b[0;34m,\u001b[0m \u001b[0mlabel\u001b[0m\u001b[0;34m=\u001b[0m\u001b[0;34m'prediction'\u001b[0m\u001b[0;34m)\u001b[0m\u001b[0;34m\u001b[0m\u001b[0;34m\u001b[0m\u001b[0m\n\u001b[0m\u001b[1;32m      2\u001b[0m \u001b[0mplt\u001b[0m\u001b[0;34m.\u001b[0m\u001b[0mhist\u001b[0m\u001b[0;34m(\u001b[0m\u001b[0mpred_df\u001b[0m\u001b[0;34m.\u001b[0m\u001b[0mresponse\u001b[0m\u001b[0;34m,\u001b[0m \u001b[0malpha\u001b[0m\u001b[0;34m=\u001b[0m\u001b[0;36m0.5\u001b[0m\u001b[0;34m,\u001b[0m \u001b[0mlabel\u001b[0m\u001b[0;34m=\u001b[0m\u001b[0;34m'response'\u001b[0m\u001b[0;34m)\u001b[0m\u001b[0;34m\u001b[0m\u001b[0;34m\u001b[0m\u001b[0m\n\u001b[1;32m      3\u001b[0m \u001b[0mplt\u001b[0m\u001b[0;34m.\u001b[0m\u001b[0mlegend\u001b[0m\u001b[0;34m(\u001b[0m\u001b[0;34m)\u001b[0m\u001b[0;34m\u001b[0m\u001b[0;34m\u001b[0m\u001b[0m\n\u001b[1;32m      4\u001b[0m \u001b[0mplt\u001b[0m\u001b[0;34m.\u001b[0m\u001b[0mtitle\u001b[0m\u001b[0;34m(\u001b[0m\u001b[0;34m\"Histogram of the responses and the predicted probabilities\\n Ranfom Forest\"\u001b[0m\u001b[0;34m)\u001b[0m\u001b[0;34m\u001b[0m\u001b[0;34m\u001b[0m\u001b[0m\n\u001b[1;32m      5\u001b[0m \u001b[0mplt\u001b[0m\u001b[0;34m.\u001b[0m\u001b[0mshow\u001b[0m\u001b[0;34m(\u001b[0m\u001b[0;34m)\u001b[0m\u001b[0;34m\u001b[0m\u001b[0;34m\u001b[0m\u001b[0m\n",
      "\u001b[0;31mNameError\u001b[0m: name 'pred_df' is not defined"
     ]
    }
   ],
   "source": [
    "plt.hist(pred_df.prediction_rf, alpha=0.5, label='prediction')\n",
    "plt.hist(pred_df.response, alpha=0.5, label='response')\n",
    "plt.legend()\n",
    "plt.title(\"Histogram of the responses and the predicted probabilities\\n Ranfom Forest\")\n",
    "plt.show()\n",
    "\n",
    "plt.hist(pred_df.prediction_mlp, alpha=0.5, label='prediction')\n",
    "plt.hist(pred_df.response, alpha=0.5, label='response')\n",
    "plt.legend()\n",
    "plt.title(\"Histogram of the responses and the predicted probabilities\\n MLP\")\n",
    "plt.show()"
   ]
  },
  {
   "cell_type": "code",
   "execution_count": 5,
   "metadata": {},
   "outputs": [
    {
     "data": {
      "image/png": "[encoded data removed]",
      "text/plain": [
       "<Figure size 432x288 with 1 Axes>"
      ]
     },
     "metadata": {
      "needs_background": "light"
     },
     "output_type": "display_data"
    }
   ],
   "source": [
    "fpr_rf, tpr_rf, threshold_rf = roc_curve(pred_df.response, pred_df.prediction_rf)\n",
    "roc_auc_rf = auc(fpr_rf, tpr_rf)\n",
    "\n",
    "fpr_mlp, tpr_mlp, threshold_mlp = roc_curve(pred_df.response, pred_df.prediction_mlp)\n",
    "roc_auc_mlp = auc(fpr_mlp, tpr_mlp)\n",
    "\n",
    "plt.title('Receiver Operating Characteristic')\n",
    "plt.plot(fpr_rf, tpr_rf, 'b', label = 'AUC RF= %0.2f' % roc_auc_rf)\n",
    "plt.plot(fpr_mlp, tpr_mlp, 'g', label = 'AUC MLP= %0.2f' % roc_auc_mlp)\n",
    "\n",
    "plt.legend(loc = 'lower right')\n",
    "plt.plot([0, 1], [0, 1],'r--')\n",
    "plt.xlim([0, 1])\n",
    "plt.ylim([0, 1])\n",
    "plt.ylabel('True Positive Rate')\n",
    "plt.xlabel('False Positive Rate')\n",
    "plt.show()"
   ]
  },
  {
   "cell_type": "code",
   "execution_count": null,
   "metadata": {},
   "outputs": [],
   "source": []
  }
 ],
 "metadata": {
  "kernelspec": {
   "display_name": "Python 3",
   "language": "python",
   "name": "python3"
  },
  "language_info": {
   "codemirror_mode": {
    "name": "ipython",
    "version": 3
   },
   "file_extension": ".py",
   "mimetype": "text/x-python",
   "name": "python",
   "nbconvert_exporter": "python",
   "pygments_lexer": "ipython3",
   "version": "3.7.4"
  }
 },
 "nbformat": 4,
 "nbformat_minor": 2
}
