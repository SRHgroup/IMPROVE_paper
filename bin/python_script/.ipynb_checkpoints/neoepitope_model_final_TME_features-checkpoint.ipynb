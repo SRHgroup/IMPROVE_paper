{
 "cells": [
  {
   "cell_type": "code",
   "execution_count": 96,
   "metadata": {},
   "outputs": [],
   "source": [
    "import os\n",
    "import re\n",
    "import pandas as pd\n",
    "import numpy as np\n",
    "import matplotlib.pyplot as plt\n",
    "import seaborn as sns\n",
    "import pickle\n",
    "import datetime\n",
    "\n",
    "from sklearn.ensemble import RandomForestClassifier\n",
    "from sklearn.model_selection import KFold, train_test_split\n",
    "from sklearn.metrics import roc_auc_score, roc_curve, auc\n",
    "from sklearn.preprocessing import StandardScaler\n",
    "from sklearn.utils import shuffle\n",
    "from sklearn.neural_network import MLPClassifier\n",
    "from sklearn.metrics import confusion_matrix\n",
    "\n",
    "from sklearn.feature_selection import RFE\n"
   ]
  },
  {
   "cell_type": "code",
   "execution_count": 97,
   "metadata": {},
   "outputs": [],
   "source": [
    "# costumized stuff  \n",
    "patient_data = True\n",
    "Simple =  False\n",
    "OnlyTME = True"
   ]
  },
  {
   "cell_type": "code",
   "execution_count": 98,
   "metadata": {},
   "outputs": [],
   "source": [
    "if OnlyTME == True: \n",
    "    cols_to_drop = ['mw', 'aro', 'inst', 'cys_red', 'Mut_MHCrank_EL', 'Mut_MHCrank_BA',\n",
    "       'Expression_Level', 'priority_Score', 'response',\n",
    "       'variant_allele_frequency', 'cellular_prevalence', 'Self_Similarity',\n",
    "       'est_freq', 'Score_PRIME', 'helix', 'MeanHydroph_coreNoAnc',\n",
    "       'Prop_Small', 'Prop_Aromatic', 'Prop_Basic', 'Prop_Acidic', 'pI', 'DAI',\n",
    "       'X.Rank_Stab', 'foginess_score', 'Peptide', 'HLA_allele', 'Patient',\n",
    "       'Partition', 'cohort']\n",
    "    TME_inc = \"OnlyTME\""
   ]
  },
  {
   "cell_type": "code",
   "execution_count": 99,
   "metadata": {},
   "outputs": [],
   "source": [
    "# run the data with or without the patient data for tumor microenviroment and with or withput selected cols\n",
    "#print(\"running model with only_imp_cols:\" + only_imp_cols + \"and patient_data\"+ patient_data)\n",
    "\n",
    "if patient_data == True and Simple == False: \n",
    "    cols_to_drop = ['response','Peptide', 'HLA_allele','Patient','Partition','cohort','est_freq',\n",
    "                  'CD8 T cells','Cytotoxic lymphocytes','B lineage',\n",
    "                   'NK cells','Monocytic lineage','Myeloid dendritic cells',\n",
    "                   'Neutrophils','Endothelial cells']\n",
    "    TME_inc = \"TME_included\"\n",
    "    sim = \"advance\"\n",
    "if patient_data == False and Simple == False: \n",
    "    cols_to_drop = ['response','Peptide', 'HLA_allele','Patient','Partition','cohort','est_freq',\"CYT\",\"HLA_expression\",\n",
    "                   'T cells','CD8 T cells','Cytotoxic lymphocytes','B lineage',\n",
    "                   'NK cells','Monocytic lineage','Myeloid dendritic cells',\n",
    "                   'Neutrophils','Endothelial cells','Fibroblasts']\n",
    "    TME_inc = \"TME_excluded\"\n",
    "    sim = \"advance\"\n",
    "if patient_data == False and Simple == True: \n",
    "    cols_to_drop = ['response','Peptide', 'HLA_allele','Patient','Partition','cohort','est_freq',\"CYT\",\n",
    "                   \"Expression_Level\", \"cellular_prevalence\",\"CYT\",\"HLA_expression\",\"variant_allele_frequency\",\n",
    "                   \"Self_Similarity\",\"priority_Score\",\"foginess_score\",\n",
    "                   'T cells','CD8 T cells','Cytotoxic lymphocytes','B lineage',\n",
    "                   'NK cells','Monocytic lineage','Myeloid dendritic cells',\n",
    "                   'Neutrophils','Endothelial cells','Fibroblasts']\n",
    "    TME_inc = \"TME_excluded\"\n",
    "    sim = \"Simple\"\n",
    "   \n",
    "\n",
    "\n",
    "\n",
    "\n",
    "# data = data[[\"response\",\"Peptide\", \"HLA_allele\",\"Patient\",\"Partition\",\"cohort\",\"est_freq\",\"CYT\",\"CD8A\",\n",
    " #             \"Prop_Hydrophobic\",\"Score_PRIME\",\"Mut_MHCrank_BA\",\"Mut_MHCrank_EL\",\"DAI\",\n",
    "  #          \"Thalf.h.\",\"mut_rep_rank_netstabpan\",\"agretopicity\",\"helix\",\"inst\",\"Prop_Polar\",\"aro\",\n",
    "   #         \"mw\",\"Prop_Non.polar\",\"Prop_Aliphatic\",\"Prop_Tiny\",\"Prop_Charged\",\"Prop_Small\",\"Prop_Basic\"]]"
   ]
  },
  {
   "cell_type": "code",
   "execution_count": 100,
   "metadata": {},
   "outputs": [
    {
     "name": "stdout",
     "output_type": "stream",
     "text": [
      "Index(['mw', 'aro', 'inst', 'cys_red', 'Mut_MHCrank_EL', 'Mut_MHCrank_BA',\n",
      "       'Expression_Level', 'priority_Score', 'response',\n",
      "       'variant_allele_frequency', 'cellular_prevalence', 'Self_Similarity',\n",
      "       'est_freq', 'Score_PRIME', 'helix', 'MeanHydroph_coreNoAnc',\n",
      "       'Prop_Small', 'Prop_Aromatic', 'Prop_Basic', 'Prop_Acidic', 'pI', 'DAI',\n",
      "       'X.Rank_Stab', 'foginess_score', 'HLA_expression', 'CYT', 'T cells',\n",
      "       'CD8 T cells', 'Cytotoxic lymphocytes', 'B lineage', 'NK cells',\n",
      "       'Monocytic lineage', 'Myeloid dendritic cells', 'Neutrophils',\n",
      "       'Endothelial cells', 'Fibroblasts', 'Peptide', 'HLA_allele', 'Patient',\n",
      "       'Partition', 'cohort'],\n",
      "      dtype='object')\n"
     ]
    }
   ],
   "source": [
    "\n",
    "    \n",
    "data = pd.read_csv('../../data/03_partitioning_data/txt/03_2_filtered_data_model.txt', sep='\\t')\n",
    "Var_importance_filename = '../../results/RandomForrest/tabels/Feature_importance_' + TME_inc+sim +'.txt'\n",
    "outfile = open(Var_importance_filename ,'w')\n",
    "\n",
    "print(data.columns)"
   ]
  },
  {
   "cell_type": "code",
   "execution_count": null,
   "metadata": {},
   "outputs": [],
   "source": []
  },
  {
   "cell_type": "code",
   "execution_count": 101,
   "metadata": {},
   "outputs": [
    {
     "name": "stdout",
     "output_type": "stream",
     "text": [
      "3904\n",
      "3904\n",
      "3903\n",
      "3903\n",
      "3910\n",
      "3910\n",
      "3917\n",
      "3917\n",
      "3907\n",
      "3907\n",
      "RF AUC: 0.6971\n"
     ]
    }
   ],
   "source": [
    "# nested cross validation\n",
    "partitioning_list = data.Partition.unique()\n",
    "pred_df = pd.DataFrame()\n",
    "for i in partitioning_list:\n",
    "    test = data[data.Partition == i]\n",
    "    train = data[data.Partition != i]\n",
    "    info = test[[\"Peptide\", \"HLA_allele\",\"Patient\",\"cohort\"]]\n",
    "    print(len(info))\n",
    "   # train_pos = train[train.response==1]\n",
    "   # train_neg = train[train.response==0].sample(n=2000, random_state=n) #, random_state=45\n",
    "   # train = shuffle(pd.concat([train_pos, train_neg], axis=0)).reset_index(drop=True)\n",
    "    X_train = train.drop(cols_to_drop, axis=1).reset_index(drop=True)\n",
    "    y_train = train[\"response\"]\n",
    "    feature_list = list(X_train.columns)\n",
    "\n",
    "\n",
    "    # Instantiate the RF and the MLP\n",
    "    rf = RandomForestClassifier(random_state = 42, max_depth = 4, n_estimators = 1000,n_jobs=-1)\n",
    "   # rf = RFE(rf,n_features_to_select=5)\n",
    "\n",
    "            # Train the models on training data\n",
    "    rf.fit(X_train, y_train)\n",
    "    X_test = test.drop(cols_to_drop, axis=1).reset_index(drop=True)\n",
    "    y_test = test[\"response\"]  \n",
    "\n",
    "    #Get fetures importance per partition\n",
    "    importances = list(rf.feature_importances_)\n",
    "    feature_importances = [(feature, round(importance, 2)) for feature, importance in zip(feature_list, importances)]\n",
    "    # Sort\n",
    "    feature_importances = sorted(feature_importances, key = lambda x: x[1], reverse = True)\n",
    " #   [print('Variable: {:20} Importance: {}'.format(*pair)) for pair in feature_importances]\n",
    "  #  gather all feature importance \n",
    "    for pair in feature_importances:\n",
    "        outfile.write(str(pair[0]) + \"\\t\" + str(pair[1]) + \"\\t\" + str(i) + \"\\n\")\n",
    "\n",
    "    prediction_rf = rf.predict_proba(X_test)\n",
    "\n",
    "    pred_val_rf = pd.DataFrame(prediction_rf[:,1])\n",
    "    pred_val_rf.reset_index(drop=True, inplace=True)\n",
    "    mapping = {pred_val_rf.columns[0]: \"prediction_rf\"}\n",
    "    pred_val_rf = pred_val_rf.rename(columns=mapping)\n",
    "\n",
    "    X_test.reset_index(drop=True, inplace=True)\n",
    "    y_test.reset_index(drop=True, inplace=True)\n",
    "    info.reset_index(drop=True, inplace=True)\n",
    "    print(len(X_test))\n",
    "    ped_df = pd.concat([info,X_test,y_test,pred_val_rf],axis = 1)\n",
    "    ped_df[\"Partition\"] = i\n",
    "    pred_df = pred_df.append(ped_df)\n",
    "\n",
    "        \n",
    "print(\"RF AUC:\",round(roc_auc_score(pred_df.response, pred_df.prediction_rf),4))    \n",
    "outfile.close()  \n"
   ]
  },
  {
   "cell_type": "code",
   "execution_count": null,
   "metadata": {},
   "outputs": [],
   "source": []
  },
  {
   "cell_type": "code",
   "execution_count": 102,
   "metadata": {},
   "outputs": [],
   "source": [
    "# print to outfile \n",
    "pred_df.to_csv(r'../../results/RandomForrest/tabels/pred_df_'+TME_inc+sim+'.txt', index=None, sep=' ', mode='w')"
   ]
  },
  {
   "cell_type": "code",
   "execution_count": 79,
   "metadata": {},
   "outputs": [
    {
     "name": "stdout",
     "output_type": "stream",
     "text": [
      "          Peptide  HLA_allele  Patient   cohort         mw       aro  \\\n",
      "0     ILEYTDQISKY  HLA-A01:01  BC-1849  bladder  1372.5186  0.181818   \n",
      "1       CIDFQPDIY  HLA-A01:01  BC-2389  bladder  1113.2396  0.222222   \n",
      "2      SCIDFQPDIY  HLA-A01:01  BC-2389  bladder  1200.3169  0.200000   \n",
      "3      ANDNSPFMLY  HLA-A01:01  BC-7577  bladder  1171.2789  0.200000   \n",
      "4       FMIVALHLL  HLA-A02:01  BC-2131  bladder  1056.3637  0.111111   \n",
      "...           ...         ...      ...      ...        ...       ...   \n",
      "3902   AEAATGWELP  HLA-B44:02    RH-08   Basket  1044.1149  0.100000   \n",
      "3903    GPAEAATGW  HLA-B44:02    RH-08   Basket   858.8946  0.111111   \n",
      "3904    ASAHSPRSY  HLA-A11:01    RH-08   Basket   975.0164  0.111111   \n",
      "3905  AEASAHSPRSY  HLA-B44:02    RH-08   Basket  1175.2083  0.090909   \n",
      "3906    SAHSPRSYL  HLA-C05:01    RH-08   Basket  1017.0961  0.111111   \n",
      "\n",
      "           inst  cys_red  Mut_MHCrank_EL  Mut_MHCrank_BA  ...  Prop_Aromatic  \\\n",
      "0     18.881818     2980          0.2636          0.6203  ...       0.142857   \n",
      "1     13.533333     1490          0.0602          0.0279  ...       0.200000   \n",
      "2     45.780000     1490          0.1178          0.1741  ...       0.166667   \n",
      "3     72.200000     1490          0.1418          0.1786  ...       0.166667   \n",
      "4     -0.544444        0          0.2294          0.0446  ...       0.200000   \n",
      "...         ...      ...             ...             ...  ...            ...   \n",
      "3902  32.110000     5500          0.9443          0.4556  ...       0.200000   \n",
      "3903  34.566667     5500          1.4860          4.9603  ...       0.000000   \n",
      "3904  88.722222     1490          1.7376          4.5836  ...       0.200000   \n",
      "3905  74.409091     1490          0.0202          0.0447  ...       0.142857   \n",
      "3906  88.722222     1490          1.5154          1.6807  ...       0.200000   \n",
      "\n",
      "      Prop_Basic  Prop_Acidic        pI      DAI  X.Rank_Stab  foginess_score  \\\n",
      "0       0.142857     0.142857  4.184396   0.0252         1.30             1.0   \n",
      "1       0.000000     0.200000  3.491894   0.0097         0.25             1.0   \n",
      "2       0.000000     0.166667  3.491894   0.0218         4.00             1.0   \n",
      "3       0.000000     0.000000  3.749972   0.0466         0.90             1.0   \n",
      "4       0.200000     0.000000  7.550325   0.2762         0.50             1.0   \n",
      "...          ...          ...       ...      ...          ...             ...   \n",
      "3902    0.000000     0.200000  3.613696  17.3498         9.50             1.0   \n",
      "3903    0.000000     0.200000  3.849974  -0.2564         5.50             1.0   \n",
      "3904    0.400000     0.000000  9.351159   0.2225        15.00             1.0   \n",
      "3905    0.285714     0.000000  7.543349   0.0011         0.04             1.0   \n",
      "3906    0.200000     0.000000  9.351159   0.8314         7.50             1.0   \n",
      "\n",
      "      response  prediction_rf  Partition  \n",
      "0            1       0.026334          0  \n",
      "1            1       0.028903          0  \n",
      "2            1       0.019079          0  \n",
      "3            1       0.027960          0  \n",
      "4            1       0.047069          0  \n",
      "...        ...            ...        ...  \n",
      "3902         0       0.018335          1  \n",
      "3903         0       0.016106          1  \n",
      "3904         0       0.016547          1  \n",
      "3905         0       0.027461          1  \n",
      "3906         0       0.018406          1  \n",
      "\n",
      "[19541 rows x 29 columns]\n"
     ]
    }
   ],
   "source": [
    "print(pred_df)"
   ]
  },
  {
   "cell_type": "code",
   "execution_count": null,
   "metadata": {},
   "outputs": [],
   "source": []
  },
  {
   "cell_type": "code",
   "execution_count": null,
   "metadata": {},
   "outputs": [],
   "source": []
  }
 ],
 "metadata": {
  "kernelspec": {
   "display_name": "Python 3",
   "language": "python",
   "name": "python3"
  },
  "language_info": {
   "codemirror_mode": {
    "name": "ipython",
    "version": 3
   },
   "file_extension": ".py",
   "mimetype": "text/x-python",
   "name": "python",
   "nbconvert_exporter": "python",
   "pygments_lexer": "ipython3",
   "version": "3.7.6"
  }
 },
 "nbformat": 4,
 "nbformat_minor": 2
}
