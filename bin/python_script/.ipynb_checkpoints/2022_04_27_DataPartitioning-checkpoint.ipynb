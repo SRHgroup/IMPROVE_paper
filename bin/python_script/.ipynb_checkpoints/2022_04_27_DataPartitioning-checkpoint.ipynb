{
 "cells": [
  {
   "cell_type": "code",
   "execution_count": 22,
   "metadata": {},
   "outputs": [],
   "source": [
    "import random\n",
    "import os, sys\n",
    "import seaborn as sns\n",
    "import pandas as pd\n",
    "import matplotlib.pyplot as plt\n",
    "import numpy as np\n",
    "import itertools\n",
    "import scipy\n",
    "import matplotlib as mpl\n",
    "import importlib\n",
    "import pickle\n",
    "from past.utils import old_div\n",
    "import random\n",
    "\n",
    "import sklearn\n",
    "\n",
    "import time\n",
    "import datetime \n",
    "\n",
    "from sklearn.ensemble import RandomForestClassifier\n",
    "from sklearn.linear_model import LogisticRegression\n",
    "from sklearn.neural_network import MLPClassifier\n",
    "\n",
    "from sklearn.decomposition import PCA\n",
    "\n",
    "sys.path.append(os.path.join('.','modules'))\n",
    "\n",
    "import partitionTools\n",
    "import rankEpiTools\n",
    "import dfTools\n",
    "import overlapTools\n",
    "import PlottingTools\n",
    "import modelTrainEval\n",
    "import pickleTools\n",
    "import NNanalysis\n",
    "import patientSelectionTraining\n"
   ]
  },
  {
   "cell_type": "code",
   "execution_count": 23,
   "metadata": {},
   "outputs": [],
   "source": [
    "pd.set_option(\"display.max_columns\",999)\n",
    "pd.set_option(\"display.max_rows\",None)"
   ]
  },
  {
   "cell_type": "markdown",
   "metadata": {},
   "source": [
    "### Read Data"
   ]
  },
  {
   "cell_type": "code",
   "execution_count": 24,
   "metadata": {},
   "outputs": [
    {
     "data": {
      "text/plain": [
       "'../../data'"
      ]
     },
     "execution_count": 24,
     "metadata": {},
     "output_type": "execute_result"
    }
   ],
   "source": [
    "homeDir = '../../'\n",
    "datDir = os.path.join(homeDir,'data')\n",
    "#datDir_partitioning = os.path.join(datDir,'02_feature_data','txt')\n",
    "datDir_partitioning = os.path.join(datDir)\n",
    "datDir_partitioning"
   ]
  },
  {
   "cell_type": "code",
   "execution_count": 25,
   "metadata": {},
   "outputs": [],
   "source": [
    "df = pd.read_csv(os.path.join(datDir_partitioning,'02_feature_data/02_2_Validated_neoepitopes_calculated_features_TME.txt'),sep='\\t')"
   ]
  },
  {
   "cell_type": "code",
   "execution_count": null,
   "metadata": {},
   "outputs": [],
   "source": []
  },
  {
   "cell_type": "code",
   "execution_count": 26,
   "metadata": {},
   "outputs": [
    {
     "name": "stdout",
     "output_type": "stream",
     "text": [
      "19541\n",
      "17520\n",
      "Start - 08:30:55\n",
      "Common Motif Clustering - 08:30:55\n",
      "Map IDX to Prot - 08:30:55\n",
      "Protein Level Clustering - 08:30:55\n",
      "Partitions Made - 08:30:55\n",
      "CV folds made - 08:30:55\n",
      "0 93\n",
      "1 93\n",
      "2 93\n",
      "3 94\n",
      "4 94\n",
      "15904\n",
      "1616\n",
      "17520\n"
     ]
    }
   ],
   "source": [
    "dfPartitions = partitionTools.motifPatientClusterPositivesAddNegatives(df,targetCol='response',peptCol='Mut_peptide',patientCol='Patient')"
   ]
  },
  {
   "cell_type": "markdown",
   "metadata": {},
   "source": [
    "### Every Patient Only belongs to one partition"
   ]
  },
  {
   "cell_type": "code",
   "execution_count": 27,
   "metadata": {
    "jupyter": {
     "outputs_hidden": true
    },
    "tags": []
   },
   "outputs": [
    {
     "data": {
      "text/plain": [
       "Patient  Partition\n",
       "BC-1233  0             200\n",
       "BC-1249  3             200\n",
       "BC-1849  0             200\n",
       "BC-1994  1             200\n",
       "BC-2131  2             411\n",
       "BC-2278  4             200\n",
       "BC-2389  4             203\n",
       "BC-2849  0             420\n",
       "BC-2937  3             322\n",
       "BC-3529  2             200\n",
       "BC-40    2             576\n",
       "BC-471   3             200\n",
       "BC-5037  2             587\n",
       "BC-5122  4             200\n",
       "BC-522   1             200\n",
       "BC-5338  4             200\n",
       "BC-6229  2             250\n",
       "BC-6428  0             200\n",
       "BC-6800  4             214\n",
       "BC-7577  3             200\n",
       "BC-7729  2             200\n",
       "BC-8728  3             200\n",
       "BC-9517  4             254\n",
       "BC-9723  3             200\n",
       "Neye-01  2             200\n",
       "Neye-02  2             200\n",
       "Neye-03  3             411\n",
       "Neye-06  1             200\n",
       "Neye-11  1             200\n",
       "Neye-14  4             200\n",
       "Neye-15  3             248\n",
       "Neye-16  4             200\n",
       "Neye-17  0             200\n",
       "Neye-22  0             585\n",
       "Neye-24  1             200\n",
       "Neye-25  1             200\n",
       "Neye-26  4             294\n",
       "Neye-27  2             151\n",
       "Neye-29  1             200\n",
       "Neye-31  4             200\n",
       "Neye-34  4             200\n",
       "Neye-35  1             160\n",
       "Neye-36  1             200\n",
       "Neye-37  0             200\n",
       "Neye-40  3             200\n",
       "Neye-42  1             314\n",
       "Neye-43  2             159\n",
       "Neye-45  3             199\n",
       "Neye-46  1             200\n",
       "Neye-47  1             200\n",
       "RH-08    3             303\n",
       "RH-10    1             187\n",
       "RH-11    2             861\n",
       "RH-13    0             259\n",
       "RH-15    3              70\n",
       "RH-16    2             207\n",
       "RH-17    4             219\n",
       "RH-18    0             179\n",
       "RH-19    3             453\n",
       "RH-21    4             351\n",
       "RH-22    2             100\n",
       "RH-24    3             102\n",
       "RH-25    0              81\n",
       "RH-27    0              75\n",
       "RH-29    3              89\n",
       "RH-30    0              75\n",
       "RH-31    3            1092\n",
       "RH-33    0             463\n",
       "RH-34    0              72\n",
       "RH-35    1             124\n",
       "dtype: int64"
      ]
     },
     "execution_count": 27,
     "metadata": {},
     "output_type": "execute_result"
    }
   ],
   "source": [
    "dfPartitions.groupby(['Patient','Partition']).apply(len)"
   ]
  },
  {
   "cell_type": "code",
   "execution_count": 29,
   "metadata": {},
   "outputs": [],
   "source": [
    "dfPartitions.to_csv(os.path.join(datDir_partitioning,'03_data_for_CV/IMPROVE/03_final_peptide_features_Partition_old_prime.txt'),sep='\\t',index=False)"
   ]
  },
  {
   "cell_type": "code",
   "execution_count": null,
   "metadata": {},
   "outputs": [],
   "source": []
  },
  {
   "cell_type": "code",
   "execution_count": null,
   "metadata": {},
   "outputs": [],
   "source": []
  }
 ],
 "metadata": {
  "kernelspec": {
   "display_name": "Python 3",
   "language": "python",
   "name": "python3"
  },
  "language_info": {
   "codemirror_mode": {
    "name": "ipython",
    "version": 3
   },
   "file_extension": ".py",
   "mimetype": "text/x-python",
   "name": "python",
   "nbconvert_exporter": "python",
   "pygments_lexer": "ipython3",
   "version": "3.7.6"
  }
 },
 "nbformat": 4,
 "nbformat_minor": 5
}
