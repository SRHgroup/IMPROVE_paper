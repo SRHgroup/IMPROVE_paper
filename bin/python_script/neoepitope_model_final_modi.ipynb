{
 "cells": [
  {
   "cell_type": "code",
   "execution_count": 35,
   "metadata": {},
   "outputs": [],
   "source": [
    "import os\n",
    "import re\n",
    "import pandas as pd\n",
    "import numpy as np\n",
    "import matplotlib.pyplot as plt\n",
    "import seaborn as sns\n",
    "import pickle\n",
    "import datetime\n",
    "import xgboost\n",
    "import sklearn\n",
    "import sklearn.ensemble as ensemble\n",
    "#from imblearn.ensemble import BalancedRandomForestClassifier\n",
    "\n",
    "\n",
    "from sklearn.ensemble import RandomForestClassifier\n",
    "from sklearn.model_selection import KFold, train_test_split\n",
    "from sklearn.metrics import roc_auc_score, roc_curve, auc\n",
    "from sklearn.preprocessing import StandardScaler\n",
    "from sklearn.utils import shuffle\n",
    "from sklearn.neural_network import MLPClassifier\n",
    "from sklearn.metrics import confusion_matrix\n",
    "from sklearn.model_selection import GridSearchCV\n",
    "from sklearn.metrics import accuracy_score\n",
    "from sklearn.model_selection import KFold\n",
    "from xgboost import XGBRFClassifier\n",
    "\n",
    "from sklearn.feature_selection import RFE\n",
    "from platform import python_version\n"
   ]
  },
  {
   "cell_type": "code",
   "execution_count": 36,
   "metadata": {},
   "outputs": [
    {
     "name": "stdout",
     "output_type": "stream",
     "text": [
      "The scikit-learn version is 1.0.2.\n"
     ]
    }
   ],
   "source": [
    "# costumized stuff  \n",
    "patient_data = False\n",
    "Simple =  True\n",
    "print('The scikit-learn version is {}.'.format(sklearn.__version__))\n"
   ]
  },
  {
   "cell_type": "code",
   "execution_count": 37,
   "metadata": {},
   "outputs": [],
   "source": [
    "cols_to_include = ['cohort','Patient','HLA_allele','Mut_peptide','response','Partition',\n",
    "                   'Aro','mw','pI', 'Inst', 'CysRed','RankEL','RankBA','NetMHCExp',\n",
    "                        'Expression','SelfSim','Prime','PropHydroAro','HydroCore',\n",
    "                        'PropSmall','PropAro','PropBasic','PropAcidic','DAI','Stability','Foreigness',\n",
    "                        'CelPrev','PrioScore','CYT','HLAexp','MCPmean']#"
   ]
  },
  {
   "cell_type": "code",
   "execution_count": 38,
   "metadata": {},
   "outputs": [],
   "source": [
    "# run the data with or without the patient data for tumor microenviroment and with or withput selected cols\n",
    "\n",
    "if patient_data == True and Simple == False: \n",
    "    cols_to_drop = ['cohort','Patient','HLA_allele','Mut_peptide','response','Partition',] \n",
    "    Model = \"TME_included\"\n",
    "if patient_data == False and Simple == False: \n",
    "    cols_to_drop = ['cohort','Patient','HLA_allele','Mut_peptide','response','Partition',\n",
    "                   'CYT','HLAexp','MCPmean']\n",
    "    Model = \"TME_excluded\"\n",
    "if patient_data == False and Simple == True: \n",
    "    cols_to_drop = ['cohort','Patient','HLA_allele','Mut_peptide','response','Partition',\n",
    "                   'CelPrev','PrioScore','CYT','HLAexp','MCPmean'] \n",
    "    Model = \"Simple\"\n"
   ]
  },
  {
   "cell_type": "code",
   "execution_count": 39,
   "metadata": {},
   "outputs": [],
   "source": [
    "\n",
    "data = pd.read_csv('../../data/03_data_for_CV/IMPROVE/03_3_final_peptide_features_Partition_for_CV.txt', sep='\\t')\n",
    "Var_importance_filename = '../../results/5_fold_CV/'+Model+'/Feature_importance_wo_prime' + Model +'.txt'\n"
   ]
  },
  {
   "cell_type": "code",
   "execution_count": 40,
   "metadata": {},
   "outputs": [
    {
     "name": "stdout",
     "output_type": "stream",
     "text": [
      "Simple\n",
      "Index(['Sample', 'Patient', 'HLA_allele', 'Norm_peptide', 'Mut_peptide',\n",
      "       'RankEL', 'RankBA', 'RankEL_wt', 'Gene_ID', 'Transcript_ID',\n",
      "       'Genomic_Position', 'Protein_position', 'Mutation_Consequence',\n",
      "       'VarAlFreq', 'Gene_Symbol', 'Cancer_Driver_Gene', 'Expression',\n",
      "       'PrioScore', 'CelPrev', 'cohort', 'identity', 'response', 'validation',\n",
      "       'PeptNorm', 'PeptLen', 'Core', 'Of', 'Gp', 'Gl', 'Ip', 'Il',\n",
      "       'RankEL_4.1', 'RankBA_4.1', 'RankEL_wt_4.1', 'Stability', 'Prime',\n",
      "       'DAI_4.1', 'CoreNonAnchor', 'Loci', 'HydroAll', 'HydroCore',\n",
      "       'PropSmall', 'PropAro', 'PropBasic', 'PropAcidic', 'SelfSim', 'mw',\n",
      "       'Aro', 'Inst', 'PropHydroAro', 'CysRed', 'pI', 'DAI',\n",
      "       'Misense_mutation', 'Frameshift_mutation', 'Inframe_deletion_mutation',\n",
      "       'Inframe_insertion', 'IB_CB', 'IB_CB_cat', 'Foreigness', 'Sample_TME',\n",
      "       'Tcells', 'TcellsCD8', 'CytoxLympho', 'Blinage', 'NKcells', 'Monocytes',\n",
      "       'MyeloidDC', 'Neutrophils', 'Endothelial', 'Fibroblasts', 'MCPmean',\n",
      "       'HLA_type', 'HLA_num', 'sample_hla', 'HLAexp', 'CYT',\n",
      "       'identi_pep_patient', 'rna_confirm', 'rna_var', 'rna_total', 'rna_af',\n",
      "       'ValMutRNACoef', 'rna_bin', 'norm_pMHC', 'NetMHCExp', 'pMHC',\n",
      "       'Partition'],\n",
      "      dtype='object')\n"
     ]
    }
   ],
   "source": [
    "print(Model)\n",
    "print(data.columns)"
   ]
  },
  {
   "cell_type": "code",
   "execution_count": 41,
   "metadata": {},
   "outputs": [
    {
     "name": "stdout",
     "output_type": "stream",
     "text": [
      "        cohort  Patient  HLA_allele  Mut_peptide  response  Partition  \\\n",
      "0      bladder  BC-1849  HLA-A01:01    YTDQISKYA         1          0   \n",
      "1      bladder  BC-1849  HLA-A01:01    QLEQLMQLY         1          0   \n",
      "2      bladder  BC-1849  HLA-A01:01  ILEYTDQISKY         1          0   \n",
      "3      bladder  BC-2389  HLA-A01:01    CIDFQPDIY         1          4   \n",
      "4      bladder  BC-2389  HLA-A01:01   SCIDFQPDIY         1          4   \n",
      "...        ...      ...         ...          ...       ...        ...   \n",
      "17515   Basket    RH-08  HLA-B44:02  AEASAHSPRSY         0          3   \n",
      "17516   Basket    RH-08  HLA-A02:01    VLLSAETMA         0          3   \n",
      "17517   Basket    RH-08  HLA-B44:02   AETMATTLLA         0          3   \n",
      "17518   Basket    RH-08  HLA-B44:02    AETMATTLL         0          3   \n",
      "17519   Basket    RH-08  HLA-B44:02   SAETMATTLL         0          3   \n",
      "\n",
      "            Aro         mw        pI       Inst  ...  PropBasic  PropAcidic  \\\n",
      "0      0.222222  1088.1673  6.324010  25.766667  ...   0.200000    0.000000   \n",
      "1      0.111111  1165.3589  3.849983  21.911111  ...   0.000000    0.000000   \n",
      "2      0.181818  1372.5186  4.184406  18.881818  ...   0.142857    0.142857   \n",
      "3      0.222222  1113.2396  3.491875  13.533333  ...   0.000000    0.200000   \n",
      "4      0.200000  1200.3169  3.491875  45.780000  ...   0.000000    0.166667   \n",
      "...         ...        ...       ...        ...  ...        ...         ...   \n",
      "17515  0.090909  1175.2083  7.543339  74.409091  ...   0.285714    0.000000   \n",
      "17516  0.000000   934.1085  3.849983  22.600000  ...   0.000000    0.200000   \n",
      "17517  0.000000  1021.1859  3.849983  21.340000  ...   0.000000    0.000000   \n",
      "17518  0.000000   950.1080  3.849983  22.600000  ...   0.000000    0.000000   \n",
      "17519  0.000000  1037.1853  3.849983  21.340000  ...   0.000000    0.000000   \n",
      "\n",
      "            DAI  Stability    Foreigness   CelPrev  PrioScore        CYT  \\\n",
      "0      0.028341       8.50  0.000000e+00  0.998627       19.0  12.245460   \n",
      "1      3.500000       1.20  3.475804e-09  0.998751       10.0  12.245460   \n",
      "2      0.912742       1.30  0.000000e+00  0.998627        9.0  12.245460   \n",
      "3      0.861230       0.25  4.526802e-07  0.999725        3.0   8.341521   \n",
      "4      0.843840       4.00  4.526802e-07  0.999725        3.0   8.341521   \n",
      "...         ...        ...           ...       ...        ...        ...   \n",
      "17515  0.948357       0.04  0.000000e+00  0.998466        1.0   3.151948   \n",
      "17516  1.351199       3.50  0.000000e+00  0.998602        1.0   3.151948   \n",
      "17517  0.756500       5.50  0.000000e+00  0.998602        1.0   3.151948   \n",
      "17518  1.253863       0.04  0.000000e+00  0.998602        1.0   3.151948   \n",
      "17519  1.329941      16.00  0.000000e+00  0.998602        1.0   3.151948   \n",
      "\n",
      "            HLAexp    MCPmean  \n",
      "0      1607.523198  78.755823  \n",
      "1      1607.523198  78.755823  \n",
      "2      1607.523198  78.755823  \n",
      "3       853.118291  44.188989  \n",
      "4       853.118291  44.188989  \n",
      "...            ...        ...  \n",
      "17515   339.238809  23.398396  \n",
      "17516   393.770795  23.398396  \n",
      "17517   339.238809  23.398396  \n",
      "17518   339.238809  23.398396  \n",
      "17519   339.238809  23.398396  \n",
      "\n",
      "[17520 rows x 31 columns]\n"
     ]
    }
   ],
   "source": [
    "data = data[cols_to_include]\n",
    "print(data)"
   ]
  },
  {
   "cell_type": "code",
   "execution_count": 42,
   "metadata": {},
   "outputs": [
    {
     "name": "stdout",
     "output_type": "stream",
     "text": [
      "[0 4 3 2 1]\n",
      "0\n",
      "3209\n",
      "Index(['Aro', 'mw', 'pI', 'Inst', 'CysRed', 'RankEL', 'RankBA', 'NetMHCExp',\n",
      "       'Expression', 'SelfSim', 'PropHydroAro', 'HydroCore', 'PropSmall',\n",
      "       'PropAro', 'PropBasic', 'PropAcidic', 'DAI', 'Stability', 'Foreigness'],\n",
      "      dtype='object')\n",
      "4\n",
      "2935\n",
      "Index(['Aro', 'mw', 'pI', 'Inst', 'CysRed', 'RankEL', 'RankBA', 'NetMHCExp',\n",
      "       'Expression', 'SelfSim', 'PropHydroAro', 'HydroCore', 'PropSmall',\n",
      "       'PropAro', 'PropBasic', 'PropAcidic', 'DAI', 'Stability', 'Foreigness'],\n",
      "      dtype='object')\n",
      "3\n",
      "4489\n",
      "Index(['Aro', 'mw', 'pI', 'Inst', 'CysRed', 'RankEL', 'RankBA', 'NetMHCExp',\n",
      "       'Expression', 'SelfSim', 'PropHydroAro', 'HydroCore', 'PropSmall',\n",
      "       'PropAro', 'PropBasic', 'PropAcidic', 'DAI', 'Stability', 'Foreigness'],\n",
      "      dtype='object')\n",
      "2\n",
      "4102\n",
      "Index(['Aro', 'mw', 'pI', 'Inst', 'CysRed', 'RankEL', 'RankBA', 'NetMHCExp',\n",
      "       'Expression', 'SelfSim', 'PropHydroAro', 'HydroCore', 'PropSmall',\n",
      "       'PropAro', 'PropBasic', 'PropAcidic', 'DAI', 'Stability', 'Foreigness'],\n",
      "      dtype='object')\n",
      "1\n",
      "2785\n",
      "Index(['Aro', 'mw', 'pI', 'Inst', 'CysRed', 'RankEL', 'RankBA', 'NetMHCExp',\n",
      "       'Expression', 'SelfSim', 'PropHydroAro', 'HydroCore', 'PropSmall',\n",
      "       'PropAro', 'PropBasic', 'PropAcidic', 'DAI', 'Stability', 'Foreigness'],\n",
      "      dtype='object')\n",
      "n sample: 50 RF AUC: 0.6402\n"
     ]
    }
   ],
   "source": [
    "# nested cross validation\n",
    "outfile = open(Var_importance_filename ,'w')\n",
    "n_sample = 50\n",
    "partitioning_list = data.Partition.unique()\n",
    "#partitioning_list.sort()\n",
    "print(partitioning_list)\n",
    "pred_df = pd.DataFrame()\n",
    "for i in partitioning_list:\n",
    "    av_pred_rf = 0\n",
    "    print(i)\n",
    "    for n in range(n_sample):  \n",
    "        test = data[data.Partition == i]\n",
    "        train = data[data.Partition != i]\n",
    "        info = test[['cohort',\"Mut_peptide\", \"HLA_allele\",\"Patient\",\"Partition\"]]\n",
    "        train_pos = train[train.response==1]\n",
    "        train_neg = train[train.response==0].sample(n=500, random_state=n) \n",
    "        train = shuffle(pd.concat([train_pos, train_neg], axis=0), random_state = 42).reset_index(drop=True)\n",
    "        train = train[~train.Mut_peptide.isin(test[\"Mut_peptide\"])]\n",
    "        X_train = train.drop(cols_to_drop, axis=1).reset_index(drop=True)\n",
    "        \n",
    "        y_train = train[\"response\"]\n",
    "        feature_list = list(X_train.columns)\n",
    "        \n",
    "\n",
    "\n",
    "        # Instantiate the RF and the MLP # \n",
    "        rf = RandomForestClassifier(random_state = 42, max_depth = 6, min_samples_leaf = 6,\n",
    "                                    n_estimators = 2000, n_jobs=-1) #class_weight={0:1,1:3}\n",
    "\n",
    "                # Train the models on training data\n",
    "        rf.fit(X_train, y_train)\n",
    "        \n",
    "        # pickle dumb model \n",
    "        pickle_model = '../../models/'+ Model +'/rf' + str(i) + '_' + Model +'_' + str(n) + '.pkl'\n",
    "        pickle.dump(rf, open(pickle_model, 'wb'))\n",
    "        \n",
    "        X_test = test.drop(cols_to_drop, axis=1).reset_index(drop=True)\n",
    "        y_test = test[\"response\"]  \n",
    "        len(X_test)\n",
    "\n",
    "        #Get fetures importance per partition\n",
    "        importances = list(rf.feature_importances_)\n",
    "        feature_importances = [(feature, round(importance, 2)) for feature, importance in zip(feature_list, importances)]\n",
    "        # Sort\n",
    "        feature_importances = sorted(feature_importances, key = lambda x: x[1], reverse = True)\n",
    "     #   [print('Variable: {:20} Importance: {}'.format(*pair)) for pair in feature_importances]\n",
    "      #  gather all feature importance \n",
    "        for pair in feature_importances:\n",
    "            outfile.write(str(pair[0]) + \"\\t\" + str(pair[1]) + \"\\t\" + str(i) + \"\\n\")\n",
    "\n",
    "        prediction_rf = rf.predict_proba(X_test)\n",
    "\n",
    "        \n",
    "        av_pred_rf += prediction_rf\n",
    "    \n",
    "    pred_val_rf = av_pred_rf/n_sample\n",
    "        \n",
    "    pred_val_rf = pd.DataFrame(pred_val_rf[:,1])\n",
    "    pred_val_rf.reset_index(drop=True, inplace=True)\n",
    "    mapping = {pred_val_rf.columns[0]: \"prediction_rf\"}\n",
    "    pred_val_rf = pred_val_rf.rename(columns=mapping)\n",
    "\n",
    "    X_test.reset_index(drop=True, inplace=True)\n",
    "    y_test.reset_index(drop=True, inplace=True)\n",
    "    info.reset_index(drop=True, inplace=True)\n",
    "    print(len(X_test))\n",
    "    ped_df = pd.concat([info,X_test,y_test,pred_val_rf],axis = 1)\n",
    "    ped_df[\"Partition\"] = i\n",
    "    pred_df = pred_df.append(ped_df)\n",
    "    print(X_train.columns)\n",
    "\n",
    "        \n",
    "#print(\"RF AUC:\",round(roc_auc_score(pred_df.response, pred_df.prediction_rf),4))    \n",
    "print(\"n sample:\",n_sample,\"RF AUC:\",round(roc_auc_score(pred_df.response, pred_df.prediction_rf),4))  \n",
    "outfile.close()  \n"
   ]
  },
  {
   "cell_type": "code",
   "execution_count": 43,
   "metadata": {},
   "outputs": [],
   "source": [
    "# print to outfile \n",
    "#currentDateTime = datetime.now().strftime(\"%m-%d-%Y %H-%M-%S %p\")\n",
    "pred_df.to_csv(r'../../results/5_fold_CV/'+Model+'/pred_df_wo_prime'+ Model +'.txt', index=None, sep=' ', mode='w')\n",
    "\n",
    "\n"
   ]
  },
  {
   "cell_type": "code",
   "execution_count": 34,
   "metadata": {},
   "outputs": [],
   "source": [
    "#from sklearn.metrics import precision_recall_curve, auc\n",
    "\n",
    "# Calculate precision recall curve and PR AUC score \n",
    "#precision, recall,_= precision_recall_curve(pred_df[['response']], pred_df[['prediction_rf']]) \n",
    "#pr_auc = auc(recall, precision)\n",
    "\n",
    "# Print the PR-AUC Score \n",
    "#print(\"PR-AUC Score:\", pr_auc)"
   ]
  },
  {
   "cell_type": "code",
   "execution_count": null,
   "metadata": {},
   "outputs": [],
   "source": []
  },
  {
   "cell_type": "code",
   "execution_count": 35,
   "metadata": {},
   "outputs": [],
   "source": [
    "#pickle_model = '../../models_modi/'+sim+'/'+TME_inc+'/rf' + str(i) + '_' + TME_inc +'_' + str(n) + '.pkl'\n",
    "#print(pickle_model)\n"
   ]
  },
  {
   "cell_type": "code",
   "execution_count": 36,
   "metadata": {},
   "outputs": [],
   "source": [
    "#pickle.load(open(pickle_model,\"rb\"))"
   ]
  },
  {
   "cell_type": "code",
   "execution_count": null,
   "metadata": {},
   "outputs": [],
   "source": []
  }
 ],
 "metadata": {
  "kernelspec": {
   "display_name": "Python 3",
   "language": "python",
   "name": "python3"
  },
  "language_info": {
   "codemirror_mode": {
    "name": "ipython",
    "version": 3
   },
   "file_extension": ".py",
   "mimetype": "text/x-python",
   "name": "python",
   "nbconvert_exporter": "python",
   "pygments_lexer": "ipython3",
   "version": "3.7.6"
  }
 },
 "nbformat": 4,
 "nbformat_minor": 2
}
